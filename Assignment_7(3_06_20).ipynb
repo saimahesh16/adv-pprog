{
  "nbformat": 4,
  "nbformat_minor": 0,
  "metadata": {
    "kernelspec": {
      "display_name": "Python 3",
      "language": "python",
      "name": "python3"
    },
    "language_info": {
      "codemirror_mode": {
        "name": "ipython",
        "version": 3
      },
      "file_extension": ".py",
      "mimetype": "text/x-python",
      "name": "python",
      "nbconvert_exporter": "python",
      "pygments_lexer": "ipython3",
      "version": "3.7.6"
    },
    "colab": {
      "name": "Assignment 7(3-06-20).ipynb",
      "provenance": [],
      "include_colab_link": true
    }
  },
  "cells": [
    {
      "cell_type": "markdown",
      "metadata": {
        "id": "view-in-github",
        "colab_type": "text"
      },
      "source": [
        "<a href=\"https://colab.research.google.com/github/saimahesh16/adv-pprog/blob/master/Assignment_7(3_06_20).ipynb\" target=\"_parent\"><img src=\"https://colab.research.google.com/assets/colab-badge.svg\" alt=\"Open In Colab\"/></a>"
      ]
    },
    {
      "cell_type": "markdown",
      "metadata": {
        "id": "Kmgd_V3A73sf",
        "colab_type": "text"
      },
      "source": [
        "# CSE-221710313064-Y SAIMAHESH"
      ]
    },
    {
      "cell_type": "markdown",
      "metadata": {
        "id": "012mhQgD73sl",
        "colab_type": "text"
      },
      "source": [
        "Print the contents of a file line by line putting a line number for each line."
      ]
    },
    {
      "cell_type": "code",
      "metadata": {
        "id": "JdoEtH9p73sn",
        "colab_type": "code",
        "colab": {},
        "outputId": "d5c7fa4f-075f-4d21-952a-7a486bb29d93"
      },
      "source": [
        "f=open(\"sample1.txt\",\"r\")\n",
        "a=0\n",
        "data=f.readlines() \n",
        "for line in data:\n",
        "    a+=1\n",
        "    print(a,line)\n"
      ],
      "execution_count": 0,
      "outputs": [
        {
          "output_type": "stream",
          "text": [
            "1 I am mahesh\n",
            "\n",
            "2 csk is the yellove\n",
            "\n",
            "3 dhoni is the thala of chennai\n",
            "\n",
            "4 cbn is great\n",
            "\n"
          ],
          "name": "stdout"
        }
      ]
    },
    {
      "cell_type": "markdown",
      "metadata": {
        "id": "xL1NsOzk73sx",
        "colab_type": "text"
      },
      "source": [
        "1.Copy the contents of a text file into another, printing the reversed version of each input line"
      ]
    },
    {
      "cell_type": "code",
      "metadata": {
        "id": "FQ7jTJkv73s8",
        "colab_type": "code",
        "colab": {},
        "outputId": "2381b9e5-8eee-4628-fc01-4acb9b6d6c48"
      },
      "source": [
        "f=open(\"sample1.txt\",\"r\")\n",
        "d=open(\"a.txt\",\"a\")\n",
        "data=f.readlines()\n",
        "#print(data)\n",
        "for line in data:\n",
        "    print()\n",
        "    mahi=line.split()\n",
        "    mahi.reverse()\n",
        "    for x in range(len(mahi)):        \n",
        "        print(mahi[x],end=\" \")\n",
        "        \n",
        "   "
      ],
      "execution_count": 0,
      "outputs": [
        {
          "output_type": "stream",
          "text": [
            "\n",
            "mahesh am I \n",
            "yellove the is csk \n",
            "chennai of thala the is dhoni \n",
            "great is cbn "
          ],
          "name": "stdout"
        }
      ]
    },
    {
      "cell_type": "markdown",
      "metadata": {
        "id": "S9zuI97j73tH",
        "colab_type": "text"
      },
      "source": [
        "3rd question"
      ]
    },
    {
      "cell_type": "code",
      "metadata": {
        "id": "gMCMgE_u73tJ",
        "colab_type": "code",
        "colab": {},
        "outputId": "26a98890-e295-41c6-fb72-0c2e4e2f4c68"
      },
      "source": [
        "def duplicate(l):\n",
        "    for i in l:\n",
        "        if(l.count(i)>1):\n",
        "            return True\n",
        "            break\n",
        "        else:\n",
        "            continue\n",
        "    return False\n",
        "def removed(f):\n",
        "    for i in l:\n",
        "        if i not in li:\n",
        "            li.append(i)\n",
        "    return li\n",
        "l = [1,2,3,4,2]\n",
        "li= []\n",
        "f = (duplicate(l))\n",
        "print(f)\n",
        "if(f == True):\n",
        "    print(removed(l))"
      ],
      "execution_count": 0,
      "outputs": [
        {
          "output_type": "stream",
          "text": [
            "True\n",
            "[1, 2, 3, 4]\n"
          ],
          "name": "stdout"
        }
      ]
    },
    {
      "cell_type": "markdown",
      "metadata": {
        "id": "Is-68wIZ73tS",
        "colab_type": "text"
      },
      "source": [
        "Develop a package for fractions. Develop a module that performs operations on fractions. It should have methods to create fractions, perform operations on two fractions, simplify a fraction, and print a fraction. You should use that package and illustrate those operations\n"
      ]
    },
    {
      "cell_type": "code",
      "metadata": {
        "id": "xiy0CPXK73tT",
        "colab_type": "code",
        "colab": {},
        "outputId": "3a4e9d7d-9eac-4ec8-bc51-865bf7d6c7bc"
      },
      "source": [
        "import fractions as f\n",
        "f.addFraction(10,20,10,20)\n",
        "f.subFraction(10,20,10,20)"
      ],
      "execution_count": 0,
      "outputs": [
        {
          "output_type": "stream",
          "text": [
            "1 / 1\n",
            "0 / 1\n"
          ],
          "name": "stdout"
        }
      ]
    },
    {
      "cell_type": "markdown",
      "metadata": {
        "id": "01YbToKR73tc",
        "colab_type": "text"
      },
      "source": [
        "A permutation of a list is another list with the same elements, but in a possibly different order. For example, [1,2,1] is a permutation of [2,1,1], but not of [1,2,2]. Write a function\n",
        "    \t\tisPermutation (list1, list2): bool\n",
        "that returns True if its arguments are permutations of each other.\n"
      ]
    },
    {
      "cell_type": "code",
      "metadata": {
        "id": "869vFcc673td",
        "colab_type": "code",
        "colab": {},
        "outputId": "ac7d4c70-9aa4-43bb-c966-e6d0b04eef70"
      },
      "source": [
        "def ispermutation(l1,l2):\n",
        "    sum1 = sum(l1)\n",
        "    sum2 = sum(l2)\n",
        "    if sum1 == sum2:\n",
        "        return True\n",
        "    else:\n",
        "        return False\n",
        "l1 = [1,2,1]\n",
        "l2 = [1,1,2]\n",
        "print(ispermutation(l1,l2))"
      ],
      "execution_count": 0,
      "outputs": [
        {
          "output_type": "stream",
          "text": [
            "True\n"
          ],
          "name": "stdout"
        }
      ]
    },
    {
      "cell_type": "code",
      "metadata": {
        "id": "wtxXMELk73tl",
        "colab_type": "code",
        "colab": {}
      },
      "source": [
        ""
      ],
      "execution_count": 0,
      "outputs": []
    }
  ]
}