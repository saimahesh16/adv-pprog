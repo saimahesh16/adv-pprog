{
  "nbformat": 4,
  "nbformat_minor": 0,
  "metadata": {
    "colab": {
      "name": "assignment-28-05-20",
      "provenance": [],
      "authorship_tag": "ABX9TyOacVk2dNGSLklZ5RNZJo28",
      "include_colab_link": true
    },
    "kernelspec": {
      "name": "python3",
      "display_name": "Python 3"
    }
  },
  "cells": [
    {
      "cell_type": "markdown",
      "metadata": {
        "id": "view-in-github",
        "colab_type": "text"
      },
      "source": [
        "<a href=\"https://colab.research.google.com/github/saimahesh16/adv-pprog/blob/master/assignment_28_05_20.ipynb\" target=\"_parent\"><img src=\"https://colab.research.google.com/assets/colab-badge.svg\" alt=\"Open In Colab\"/></a>"
      ]
    },
    {
      "cell_type": "markdown",
      "metadata": {
        "id": "4N4DsmtmDTjq",
        "colab_type": "text"
      },
      "source": [
        "Read the input as two limits and Print the output as Palindrome count between the two limits\n",
        "Example #1; Input : 1 10 Output : 9\n",
        " Example #2: Input : 1 100 Output : 18\n"
      ]
    },
    {
      "cell_type": "code",
      "metadata": {
        "id": "JYVfz97EDYeD",
        "colab_type": "code",
        "outputId": "81de5cff-aa2e-4cb6-88eb-0e0dac883366",
        "colab": {
          "base_uri": "https://localhost:8080/",
          "height": 54
        }
      },
      "source": [
        "def isPalindrome(n: int) -> bool: \n",
        "  \n",
        "    # Find reverse of n \n",
        "    rev = 0\n",
        "    i = n \n",
        "    while i > 0: \n",
        "        rev = rev * 10 + i % 10\n",
        "        i //= 10\n",
        "  \n",
        "    # If n and rev are same,  \n",
        "    # then n is palindrome \n",
        "    return (n == rev) \n",
        "  \n",
        "# prints palindrome between min and max \n",
        "def countPal(minn: int, maxx: int) -> None: \n",
        "    for i in range(minn, maxx + 1): \n",
        "        if isPalindrome(i): \n",
        "            print(i, end = \" \") \n",
        "  \n",
        "# Driver Code \n",
        "if __name__ == \"__main__\": \n",
        "    countPal(100, 2000) "
      ],
      "execution_count": 4,
      "outputs": [
        {
          "output_type": "stream",
          "text": [
            "101 111 121 131 141 151 161 171 181 191 202 212 222 232 242 252 262 272 282 292 303 313 323 333 343 353 363 373 383 393 404 414 424 434 444 454 464 474 484 494 505 515 525 535 545 555 565 575 585 595 606 616 626 636 646 656 666 676 686 696 707 717 727 737 747 757 767 777 787 797 808 818 828 838 848 858 868 878 888 898 909 919 929 939 949 959 969 979 989 999 1001 1111 1221 1331 1441 1551 1661 1771 1881 1991 "
          ],
          "name": "stdout"
        }
      ]
    },
    {
      "cell_type": "markdown",
      "metadata": {
        "id": "NHXesccZLif0",
        "colab_type": "text"
      },
      "source": [
        "Write a program to prompt for a score between 0.0 and 1.0. If the score is out of range, print an error. If the score is between 0.0 and 1.0, print a grade using the following table:\n",
        "Score Grade\n",
        ">= 0.9 A\n",
        ">= 0.8 B\n",
        ">= 0.7 C\n",
        ">= 0.6 D\n",
        "< 0.6 F\n",
        "If the user enters a value out of range, print a suitable error message and exit. For the test, enter a score of 0.85\n"
      ]
    },
    {
      "cell_type": "code",
      "metadata": {
        "id": "-IqtVT10LorR",
        "colab_type": "code",
        "colab": {
          "base_uri": "https://localhost:8080/",
          "height": 51
        },
        "outputId": "9840d928-952e-45c5-c26f-28dd0831f410"
      },
      "source": [
        "score = input(\"Enter Score: \")\n",
        "s =  float(score)\n",
        "x = 'Error'\n",
        "if s >= 0.9:\n",
        "\tx = 'A'\n",
        "elif s >=0.8:\n",
        "\tx='B'\n",
        "elif s >=0.7:\n",
        "\tx='C'\n",
        "elif s >= 0.6:\n",
        "\tx='D'\n",
        "elif s < .6:\n",
        "\tx ='F'\n",
        "else:\n",
        "\tx =\"Out of Range\"\n",
        "print (x)"
      ],
      "execution_count": 6,
      "outputs": [
        {
          "output_type": "stream",
          "text": [
            "Enter Score: 0.85\n",
            "B\n"
          ],
          "name": "stdout"
        }
      ]
    },
    {
      "cell_type": "markdown",
      "metadata": {
        "id": "x0SFhSTYH9R3",
        "colab_type": "text"
      },
      "source": [
        "Write a Python program to find the median of three values.\n",
        "Expected Output:\n",
        "Input first number: 26                                            \n",
        "Input second number: 15                                                \n",
        "Input third number: 29                                                  \n",
        "The median is 26\n"
      ]
    },
    {
      "cell_type": "code",
      "metadata": {
        "id": "LvkGn1NiIBzN",
        "colab_type": "code",
        "colab": {
          "base_uri": "https://localhost:8080/",
          "height": 86
        },
        "outputId": "0610a436-2bd8-4c34-ae00-5c1ea50773e4"
      },
      "source": [
        "a = int(input(\"Input first number: \"))\n",
        "b = int(input(\"Input second number: \"))\n",
        "c = int(input(\"Input third number: \"))\n",
        "if a > b:\n",
        "    if a < c:\n",
        "        median = a\n",
        "    elif b > c:\n",
        "        median = b\n",
        "    else:\n",
        "        median = c\n",
        "else:\n",
        "    if a > c:\n",
        "        median = a\n",
        "    elif b < c:\n",
        "        median = b\n",
        "    else:\n",
        "        median = c\n",
        "\n",
        "print(\"The median is\", median)"
      ],
      "execution_count": 1,
      "outputs": [
        {
          "output_type": "stream",
          "text": [
            "Input first number: 6\n",
            "Input second number: 2\n",
            "Input third number: 5\n",
            "The median is 5\n"
          ],
          "name": "stdout"
        }
      ]
    },
    {
      "cell_type": "markdown",
      "metadata": {
        "id": "Pkc431gyIYZK",
        "colab_type": "text"
      },
      "source": [
        "Write a Python program which iterates the integers from 1 to 50. For multiples of three print \"Fizz\" instead of the number and for the multiples of five print \"Buzz\". For numbers which are multiples of both three and five print \"FizzBuzz\".\n",
        "Sample Output :\n",
        "fizzbuzz\n",
        "1\n",
        "2\n",
        "fizz\n",
        "4\n",
        "buzz\n"
      ]
    },
    {
      "cell_type": "code",
      "metadata": {
        "id": "8XFLrV8rIc4A",
        "colab_type": "code",
        "colab": {
          "base_uri": "https://localhost:8080/",
          "height": 895
        },
        "outputId": "d696914f-1591-4792-9936-848062cc2ca3"
      },
      "source": [
        "for fizzbuzz in range(0,51):\n",
        "    if fizzbuzz % 3 == 0 and fizzbuzz % 5 == 0:\n",
        "        print(\"fizzbuzz\")\n",
        "        continue\n",
        "    elif fizzbuzz % 3 == 0:\n",
        "        print(\"fizz\")\n",
        "        continue\n",
        "    elif fizzbuzz % 5 == 0:\n",
        "        print(\"buzz\")\n",
        "        continue\n",
        "    print(fizzbuzz)"
      ],
      "execution_count": 2,
      "outputs": [
        {
          "output_type": "stream",
          "text": [
            "fizzbuzz\n",
            "1\n",
            "2\n",
            "fizz\n",
            "4\n",
            "buzz\n",
            "fizz\n",
            "7\n",
            "8\n",
            "fizz\n",
            "buzz\n",
            "11\n",
            "fizz\n",
            "13\n",
            "14\n",
            "fizzbuzz\n",
            "16\n",
            "17\n",
            "fizz\n",
            "19\n",
            "buzz\n",
            "fizz\n",
            "22\n",
            "23\n",
            "fizz\n",
            "buzz\n",
            "26\n",
            "fizz\n",
            "28\n",
            "29\n",
            "fizzbuzz\n",
            "31\n",
            "32\n",
            "fizz\n",
            "34\n",
            "buzz\n",
            "fizz\n",
            "37\n",
            "38\n",
            "fizz\n",
            "buzz\n",
            "41\n",
            "fizz\n",
            "43\n",
            "44\n",
            "fizzbuzz\n",
            "46\n",
            "47\n",
            "fizz\n",
            "49\n",
            "buzz\n"
          ],
          "name": "stdout"
        }
      ]
    },
    {
      "cell_type": "markdown",
      "metadata": {
        "id": "94RWCGwwJbCa",
        "colab_type": "text"
      },
      "source": [
        "input:orange  →   output : puboif\n"
      ]
    },
    {
      "cell_type": "code",
      "metadata": {
        "id": "lQN5KQNuJeqD",
        "colab_type": "code",
        "colab": {
          "base_uri": "https://localhost:8080/",
          "height": 34
        },
        "outputId": "1c5c3c49-d10e-4fea-e3f3-4ef56409a227"
      },
      "source": [
        "def replaceCharacterType(str): \n",
        "    vowel = False\n",
        "    consonant = False\n",
        "    for i in range(0, len(str)):           \n",
        "        ch = str[i]    \n",
        "        if ( (ch >= 'a' and ch <= 'z') or \n",
        "             (ch >= 'A' and ch <= 'Z') ):  \n",
        "            if(isVowel(ch)):\n",
        "                vowel = True\n",
        "            else:\n",
        "                consonant = True\n",
        "            if (vowel == True): \n",
        "                print(chr(ord(ch) + 1), end =\" \")\n",
        "                vowel = False\n",
        "            else: \n",
        "                i=1\n",
        "                while True:\n",
        "                    tmp = chr(ord(ch)+i)\n",
        "                    if (isVowel(tmp)):\n",
        "                        print(tmp, end =\" \")\n",
        "                        break\n",
        "                    else:\n",
        "                        i +=1\n",
        "\n",
        "def isVowel(ch):\n",
        "    ch = ch.lower()   \n",
        "    if (ch == 'a' or ch == 'e' or ch == 'i' \n",
        "            or ch == 'o' or ch == 'u'):\n",
        "                return True\n",
        "    else:\n",
        "        return False\n",
        "str = \"orange\"\n",
        "replaceCharacterType(str)\n"
      ],
      "execution_count": 3,
      "outputs": [
        {
          "output_type": "stream",
          "text": [
            "p u b o i f "
          ],
          "name": "stdout"
        }
      ]
    },
    {
      "cell_type": "code",
      "metadata": {
        "id": "0412VIziJiBG",
        "colab_type": "code",
        "colab": {}
      },
      "source": [
        ""
      ],
      "execution_count": 0,
      "outputs": []
    },
    {
      "cell_type": "markdown",
      "metadata": {
        "id": "iJvy77SjJpWu",
        "colab_type": "text"
      },
      "source": [
        "Accept a string from the user and count no.of vowels,consonants and special characters"
      ]
    },
    {
      "cell_type": "code",
      "metadata": {
        "id": "zYmCKb2LKM4J",
        "colab_type": "code",
        "colab": {
          "base_uri": "https://localhost:8080/",
          "height": 86
        },
        "outputId": "d6bd08c8-4d8d-4b5f-b1ae-d5f629f2f69e"
      },
      "source": [
        "string = input(\"Please Enter Your Own String : \")\n",
        "string = string.lower()\n",
        "vowels = consonants = digits = special_chars = 0\n",
        "for i in string:\n",
        "    if( i>='a' and i<='z' ):\n",
        "        if( i=='a' or i=='e' or i=='i'or i=='o'or i=='u' ):\n",
        "            vowels += 1\n",
        "        else:\n",
        "                consonants += 1\n",
        "    elif( i.isdigit() ):\n",
        "            digits += 1\n",
        "    else:\n",
        "            special_chars += 1\n",
        "print( \"Vowels: \", vowels)    \n",
        "print( \"Consonants: \", consonants)\n",
        "print( \"Special Characters: \", special_chars)\n"
      ],
      "execution_count": 4,
      "outputs": [
        {
          "output_type": "stream",
          "text": [
            "Please Enter Your Own String : abc@95*\n",
            "Vowels:  1\n",
            "Consonants:  2\n",
            "Special Characters:  2\n"
          ],
          "name": "stdout"
        }
      ]
    },
    {
      "cell_type": "markdown",
      "metadata": {
        "id": "i2IuAv98nH8J",
        "colab_type": "text"
      },
      "source": [
        " Test case1:\n",
        "        string →  \"((((()()()))))()\"\n",
        "        output →  8\n",
        "    Test case2:\n",
        "        string →  \"((()))()\"\n",
        "        Output →  4\n"
      ]
    },
    {
      "cell_type": "code",
      "metadata": {
        "id": "QLO9K6-RnLuh",
        "colab_type": "code",
        "colab": {
          "base_uri": "https://localhost:8080/",
          "height": 51
        },
        "outputId": "f546ddf3-d0d9-46a3-fc59-178ad19cd945"
      },
      "source": [
        "str=input(\"enter the string\")\n",
        "c1=0\n",
        "c2=0\n",
        "for i in range(0,len(str)):\n",
        "  if(str[i]=='('):\n",
        "    c1=c1+1\n",
        "  else:\n",
        "    c2=c2+1\n",
        "if(c1==c2):\n",
        "  print(c1)"
      ],
      "execution_count": 6,
      "outputs": [
        {
          "output_type": "stream",
          "text": [
            "enter the string((((()()()))))()\n",
            "8\n"
          ],
          "name": "stdout"
        }
      ]
    },
    {
      "cell_type": "markdown",
      "metadata": {
        "id": "QkTHVL8Fp4_7",
        "colab_type": "text"
      },
      "source": [
        "Accept input as a string and display sum of digits as the output \n",
        "input:Appli123cation456 \n",
        "Output: 21\n"
      ]
    },
    {
      "cell_type": "code",
      "metadata": {
        "id": "8qdawrecp6hv",
        "colab_type": "code",
        "colab": {
          "base_uri": "https://localhost:8080/",
          "height": 51
        },
        "outputId": "d199eb10-ce00-48c6-d34b-711f64d0f7bc"
      },
      "source": [
        "s=0\n",
        "a=input(\"enter\")\n",
        "for i in a:\n",
        "  if i.isdigit():\n",
        "    s=s+int(i)\n",
        "print(s)"
      ],
      "execution_count": 7,
      "outputs": [
        {
          "output_type": "stream",
          "text": [
            "enterak442\n",
            "10\n"
          ],
          "name": "stdout"
        }
      ]
    },
    {
      "cell_type": "markdown",
      "metadata": {
        "id": "u9QJvXYqqK3u",
        "colab_type": "text"
      },
      "source": [
        "count the no.of pairs of a in the given string(Infosys InfyTQ)\n",
        "    string →  \"abbaaccbbaaa\"\n",
        "    output →  2\n"
      ]
    },
    {
      "cell_type": "code",
      "metadata": {
        "id": "2ad9rPf3qPc0",
        "colab_type": "code",
        "colab": {
          "base_uri": "https://localhost:8080/",
          "height": 51
        },
        "outputId": "6aa46329-f00b-4c7a-ebca-9f9a005f2e66"
      },
      "source": [
        "str=input(\"enter string\")\n",
        "count=str.count(\"ab\")\n",
        "print(count)"
      ],
      "execution_count": 9,
      "outputs": [
        {
          "output_type": "stream",
          "text": [
            "enter stringab\n",
            "1\n"
          ],
          "name": "stdout"
        }
      ]
    },
    {
      "cell_type": "markdown",
      "metadata": {
        "id": "z9VRtZcSqeaU",
        "colab_type": "text"
      },
      "source": [
        " Accept a number as an input and check whether the given number is palindrome or not\n",
        "if it is a palindrome number print the number on the screen\n",
        "if it is not a palindrome number reverse that number and add it to previous number repeat this until will get a palindrome number and print that palindrome number on the screen\n",
        "input: 127\n",
        "output: 848\n"
      ]
    },
    {
      "cell_type": "code",
      "metadata": {
        "id": "IUDtw6Epqk_m",
        "colab_type": "code",
        "colab": {
          "base_uri": "https://localhost:8080/",
          "height": 51
        },
        "outputId": "340e6047-e9d4-4a83-d7d5-d5a0be132257"
      },
      "source": [
        "r=0\n",
        "i=int(input())\n",
        "n=i\n",
        "while(i>0):\n",
        "  o=i%10\n",
        "  r=r*10+o\n",
        "  i=i//10\n",
        "if(n==r):\n",
        "  print(n)\n",
        "else:\n",
        "  print(n+r)"
      ],
      "execution_count": 12,
      "outputs": [
        {
          "output_type": "stream",
          "text": [
            "127\n",
            "848\n"
          ],
          "name": "stdout"
        }
      ]
    },
    {
      "cell_type": "code",
      "metadata": {
        "id": "Tz8jCWI9VWU4",
        "colab_type": "code",
        "colab": {}
      },
      "source": [
        ""
      ],
      "execution_count": 0,
      "outputs": []
    }
  ]
}