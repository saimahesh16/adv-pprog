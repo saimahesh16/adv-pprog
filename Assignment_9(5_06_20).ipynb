{
  "nbformat": 4,
  "nbformat_minor": 0,
  "metadata": {
    "colab": {
      "name": "Assignment_9(5_06_20).ipynb",
      "provenance": [],
      "include_colab_link": true
    },
    "kernelspec": {
      "name": "python3",
      "display_name": "Python 3"
    }
  },
  "cells": [
    {
      "cell_type": "markdown",
      "metadata": {
        "id": "view-in-github",
        "colab_type": "text"
      },
      "source": [
        "<a href=\"https://colab.research.google.com/github/saimahesh16/adv-pprog/blob/master/Assignment_9(5_06_20).ipynb\" target=\"_parent\"><img src=\"https://colab.research.google.com/assets/colab-badge.svg\" alt=\"Open In Colab\"/></a>"
      ]
    },
    {
      "cell_type": "markdown",
      "metadata": {
        "id": "V_PAuod47lCn",
        "colab_type": "text"
      },
      "source": [
        "# CSE-221710313064-Y SAIMAHESH"
      ]
    },
    {
      "cell_type": "markdown",
      "metadata": {
        "id": "17PyZ80m6izk",
        "colab_type": "text"
      },
      "source": [
        "Write a Python program to add, subtract, multiple and divide two Pandas Series. \n",
        "Sample Series: \n",
        "[2, 4, 6, 8, 10], [1, 3, 5, 7, 9]\n",
        "Sample Output:\n",
        "[2, 4, 6, 8, 10] + [1, 3, 5, 7, 9] = [3, 7, 11, 15, 19]\n",
        "\t\t * * *\n"
      ]
    },
    {
      "cell_type": "code",
      "metadata": {
        "id": "VcfceFma6jzM",
        "colab_type": "code",
        "outputId": "8fa6e14e-5c06-45bb-cdd6-2fd97b66388c",
        "colab": {
          "base_uri": "https://localhost:8080/",
          "height": 138
        }
      },
      "source": [
        "import pandas as pd\n",
        "ds1 = pd.Series([2, 4, 6, 8, 10])\n",
        "ds2 = pd.Series([1, 3, 5, 7, 9])\n",
        "ds = ds1 + ds2\n",
        "print(\"Add two Series:\")\n",
        "print(ds)"
      ],
      "execution_count": 0,
      "outputs": [
        {
          "output_type": "stream",
          "text": [
            "Add two Series:\n",
            "0     3\n",
            "1     7\n",
            "2    11\n",
            "3    15\n",
            "4    19\n",
            "dtype: int64\n"
          ],
          "name": "stdout"
        }
      ]
    },
    {
      "cell_type": "markdown",
      "metadata": {
        "id": "Iy_grum_6w-p",
        "colab_type": "text"
      },
      "source": [
        "Write a Pandas program to compute the minimum, 25th percentile, median, 75th, and maximum of a given series. \n",
        "Sample Output:\n",
        "Original Series:\n",
        "0 3.000938\n",
        "1 11.370722\n",
        "2 14.612143\n",
        "3 8.990256\n",
        "4 13.925283\n",
        "5 12.056875\n",
        ".... 17 14.118931\n",
        "18 8.247458\n",
        "19 5.526727\n",
        "dtype: float64\n",
        "Minimum, 25th percentile, median, 75th, and maximum of a given series:\n",
        "[ 3.00093811 8.09463867 10.23353705 12.21537733 14.61214321]\n"
      ]
    },
    {
      "cell_type": "code",
      "metadata": {
        "id": "5VsOBqCs61OC",
        "colab_type": "code",
        "outputId": "dfd4c87b-5b40-45aa-860d-aea00cb615ca",
        "colab": {
          "base_uri": "https://localhost:8080/",
          "height": 448
        }
      },
      "source": [
        "import pandas as pd\n",
        "import numpy as np\n",
        "state = np.random.RandomState(100)\n",
        "series = pd.Series(state.normal(10, 4, 20))\n",
        "print(\"Original Series:\")\n",
        "print(series)\n",
        "result = np.percentile(series, q=[0, 25, 50, 75, 100])\n",
        "print(\"\\nMinimum, 25th percentile, median, 75th, and maximum of a given series:\")\n",
        "print(result)"
      ],
      "execution_count": 0,
      "outputs": [
        {
          "output_type": "stream",
          "text": [
            "Original Series:\n",
            "0      3.000938\n",
            "1     11.370722\n",
            "2     14.612143\n",
            "3      8.990256\n",
            "4     13.925283\n",
            "5     12.056875\n",
            "6     10.884719\n",
            "7      5.719827\n",
            "8      9.242017\n",
            "9     11.020006\n",
            "10     8.167892\n",
            "11    11.740654\n",
            "12     7.665620\n",
            "13    13.267388\n",
            "14    12.690883\n",
            "15     9.582355\n",
            "16     7.874878\n",
            "17    14.118931\n",
            "18     8.247458\n",
            "19     5.526727\n",
            "dtype: float64\n",
            "\n",
            "Minimum, 25th percentile, median, 75th, and maximum of a given series:\n",
            "[ 3.00093811  8.09463867 10.23353705 12.21537733 14.61214321]\n"
          ],
          "name": "stdout"
        }
      ]
    },
    {
      "cell_type": "markdown",
      "metadata": {
        "id": "n2vfebPG7AS4",
        "colab_type": "text"
      },
      "source": [
        "Write a Pandas program to get the items of a given series not present in another given series. \n",
        "Sample Output:\n",
        "Original Series:\n",
        "sr1:\n",
        "0 1\n",
        "1 2\n",
        "2 3\n",
        "3 4\n",
        "4 5\n",
        "dtype: int64\n",
        "sr2:\n",
        "0 2\n",
        "1 4\n",
        "2 6\n",
        "3 8\n",
        "4 10\n",
        "dtype: int64\n",
        "Items of sr1 not present in sr2:\n",
        "0 1\n",
        "2 3\n",
        "4 5\n",
        "dtype: int64\n"
      ]
    },
    {
      "cell_type": "code",
      "metadata": {
        "id": "LGJbVkRp7B-n",
        "colab_type": "code",
        "outputId": "17e68994-422c-4d23-c2cc-3a02af4d114f",
        "colab": {
          "base_uri": "https://localhost:8080/",
          "height": 379
        }
      },
      "source": [
        "import pandas as pd\n",
        "sr1 = pd.Series([1, 2, 3, 4, 5])\n",
        "sr2 = pd.Series([2, 4, 6, 8, 10])\n",
        "print(\"Original Series:\")\n",
        "print(\"sr1:\")\n",
        "print(sr1)\n",
        "print(\"sr2:\")\n",
        "print(sr2)\n",
        "print(\"\\nItems of sr1 not present in sr2:\")\n",
        "result = sr1[~sr1.isin(sr2)]\n",
        "print(result)"
      ],
      "execution_count": 0,
      "outputs": [
        {
          "output_type": "stream",
          "text": [
            "Original Series:\n",
            "sr1:\n",
            "0    1\n",
            "1    2\n",
            "2    3\n",
            "3    4\n",
            "4    5\n",
            "dtype: int64\n",
            "sr2:\n",
            "0     2\n",
            "1     4\n",
            "2     6\n",
            "3     8\n",
            "4    10\n",
            "dtype: int64\n",
            "\n",
            "Items of sr1 not present in sr2:\n",
            "0    1\n",
            "2    3\n",
            "4    5\n",
            "dtype: int64\n"
          ],
          "name": "stdout"
        }
      ]
    },
    {
      "cell_type": "markdown",
      "metadata": {
        "id": "jVdK7SSA7NDp",
        "colab_type": "text"
      },
      "source": [
        "Write a Pandas program to filter words from a given series that contain at least two vowels. \n",
        "Sample Output:\n",
        "Original Series:\n",
        "0 Red\n",
        "1 Green\n",
        "2 Orange\n",
        "3 Pink\n",
        "4 Yellow\n",
        "5 White\n",
        "dtype: object\n",
        "\n",
        "Filtered words:\n",
        "1 Green\n",
        "2 Orange\n",
        "4 Yellow\n",
        "5 White\n",
        "dtype: object\n"
      ]
    },
    {
      "cell_type": "code",
      "metadata": {
        "id": "aJDYnaZh7HZf",
        "colab_type": "code",
        "outputId": "603b3e34-1ca6-46c9-f960-e32c6204693e",
        "colab": {
          "base_uri": "https://localhost:8080/",
          "height": 275
        }
      },
      "source": [
        "import pandas as pd\n",
        "from collections import Counter\n",
        "color_series = pd.Series(['Red', 'Green', 'Orange', 'Pink', 'Yellow', 'White'])\n",
        "print(\"Original Series:\")\n",
        "print(color_series)\n",
        "print(\"\\nFiltered words:\")\n",
        "result = mask = color_series.map(lambda c: sum([Counter(c.lower()).get(i, 0) for i in list('aeiou')]) >= 2)\n",
        "print(color_series[result])"
      ],
      "execution_count": 0,
      "outputs": [
        {
          "output_type": "stream",
          "text": [
            "Original Series:\n",
            "0       Red\n",
            "1     Green\n",
            "2    Orange\n",
            "3      Pink\n",
            "4    Yellow\n",
            "5     White\n",
            "dtype: object\n",
            "\n",
            "Filtered words:\n",
            "1     Green\n",
            "2    Orange\n",
            "4    Yellow\n",
            "5     White\n",
            "dtype: object\n"
          ],
          "name": "stdout"
        }
      ]
    },
    {
      "cell_type": "markdown",
      "metadata": {
        "id": "_dhDU9N07bRK",
        "colab_type": "text"
      },
      "source": [
        "Consider the following as my DataFrame,Write a Pandas program to select the rows where the number of attempts in the examination is greater than 2.\n",
        "\n"
      ]
    },
    {
      "cell_type": "code",
      "metadata": {
        "id": "HxLcf2sJ7U6B",
        "colab_type": "code",
        "outputId": "1217edcd-ac67-4f1d-b386-1d64a491fb1a",
        "colab": {
          "base_uri": "https://localhost:8080/",
          "height": 224
        }
      },
      "source": [
        "import pandas as pd\n",
        "import numpy as np\n",
        "exam_data  = {'name': ['Anastasia', 'Dima', 'Katherine', 'James', 'Emily', 'Michael', 'Matthew', 'Laura', 'Kevin', 'Jonas'],\n",
        "        'score': [12.5, 9, 16.5, np.nan, 9, 20, 14.5, np.nan, 8, 19],\n",
        "        'attempts': [1, 3, 2, 3, 2, 3, 1, 1, 2, 1],\n",
        "        'qualify': ['yes', 'no', 'yes', 'no', 'no', 'yes', 'yes', 'no', 'no', 'yes']}\n",
        "labels = ['a', 'b', 'c', 'd', 'e', 'f', 'g', 'h', 'i', 'j']\n",
        "df = pd.DataFrame(exam_data , index=labels)\n",
        "print(\"Number of attempts in the examination is greater than 2\")\n",
        "print(df['attempts'] > 2)"
      ],
      "execution_count": 0,
      "outputs": [
        {
          "output_type": "stream",
          "text": [
            "Number of attempts in the examination is greater than 2\n",
            "a    False\n",
            "b     True\n",
            "c    False\n",
            "d     True\n",
            "e    False\n",
            "f     True\n",
            "g    False\n",
            "h    False\n",
            "i    False\n",
            "j    False\n",
            "Name: attempts, dtype: bool\n"
          ],
          "name": "stdout"
        }
      ]
    },
    {
      "cell_type": "code",
      "metadata": {
        "id": "JgEaSM247ghM",
        "colab_type": "code",
        "colab": {}
      },
      "source": [
        ""
      ],
      "execution_count": 0,
      "outputs": []
    }
  ]
}