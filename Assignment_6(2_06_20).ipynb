{
  "nbformat": 4,
  "nbformat_minor": 0,
  "metadata": {
    "kernelspec": {
      "display_name": "Python 3",
      "language": "python",
      "name": "python3"
    },
    "language_info": {
      "codemirror_mode": {
        "name": "ipython",
        "version": 3
      },
      "file_extension": ".py",
      "mimetype": "text/x-python",
      "name": "python",
      "nbconvert_exporter": "python",
      "pygments_lexer": "ipython3",
      "version": "3.7.6"
    },
    "colab": {
      "name": "Assignment 6(2-06-20).ipynb",
      "provenance": [],
      "include_colab_link": true
    }
  },
  "cells": [
    {
      "cell_type": "markdown",
      "metadata": {
        "id": "view-in-github",
        "colab_type": "text"
      },
      "source": [
        "<a href=\"https://colab.research.google.com/github/saimahesh16/adv-pprog/blob/master/Assignment_6(2_06_20).ipynb\" target=\"_parent\"><img src=\"https://colab.research.google.com/assets/colab-badge.svg\" alt=\"Open In Colab\"/></a>"
      ]
    },
    {
      "cell_type": "markdown",
      "metadata": {
        "id": "G_wL2_0h7DZb",
        "colab_type": "text"
      },
      "source": [
        "# CSE-221710313064-Y SAIMAHESH"
      ]
    },
    {
      "cell_type": "code",
      "metadata": {
        "id": "7qp7Q2RL7DZf",
        "colab_type": "code",
        "colab": {},
        "outputId": "a0e0bd6c-29f3-46e2-f288-012f9ca002b4"
      },
      "source": [
        "import random #importing random package\n",
        "lives=9\n",
        "words=['apple', 'debug', 'virat', 'rohit', 'dhoni', 'mohit','rahul','heart','start','about']\n",
        "secret=random.choice(words)\n",
        "d=secret\n",
        "secret=list(secret)\n",
        "clue=list('?????')\n",
        "def update(a,secret,clue):\n",
        "    b=secret.index(a)\n",
        "    clue[b]=a\n",
        "    secret[b]=\"@\"\n",
        "    print(clue)    \n",
        "while lives>0:\n",
        "    guess=input('Guess a letter or a word')\n",
        "    if guess in secret or guess==d:\n",
        "        if guess in secret:\n",
        "            update(guess,secret,clue)\n",
        "        else:\n",
        "            print(\"You won!the secret word is\",d)\n",
        "            lives=0\n",
        "    else:\n",
        "        lives=lives-1\n",
        "        print(\"lives left\",lives)\n",
        "    if \"?\" not in clue:\n",
        "        print(\"You won!the secret word is\",d)\n",
        "        lives=0\n",
        "    \n",
        "\n"
      ],
      "execution_count": 0,
      "outputs": [
        {
          "output_type": "stream",
          "text": [
            "Guess a letter or a worda\n",
            "['?', '?', 'a', '?', '?']\n",
            "Guess a letter or a words\n",
            "['s', '?', 'a', '?', '?']\n",
            "Guess a letter or a wordt\n",
            "['s', 't', 'a', '?', '?']\n",
            "Guess a letter or a wordr\n",
            "['s', 't', 'a', 'r', '?']\n",
            "Guess a letter or a wordt\n",
            "['s', 't', 'a', 'r', 't']\n",
            "You won!the secret word is start\n"
          ],
          "name": "stdout"
        }
      ]
    },
    {
      "cell_type": "code",
      "metadata": {
        "id": "G-4yFAGi7DZo",
        "colab_type": "code",
        "colab": {}
      },
      "source": [
        ""
      ],
      "execution_count": 0,
      "outputs": []
    }
  ]
}