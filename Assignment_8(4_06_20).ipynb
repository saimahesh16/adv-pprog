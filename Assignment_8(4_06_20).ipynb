{
  "nbformat": 4,
  "nbformat_minor": 0,
  "metadata": {
    "kernelspec": {
      "display_name": "Python 3",
      "language": "python",
      "name": "python3"
    },
    "language_info": {
      "codemirror_mode": {
        "name": "ipython",
        "version": 3
      },
      "file_extension": ".py",
      "mimetype": "text/x-python",
      "name": "python",
      "nbconvert_exporter": "python",
      "pygments_lexer": "ipython3",
      "version": "3.7.6"
    },
    "colab": {
      "name": "Assignment 8(4-06-20).ipynb",
      "provenance": [],
      "include_colab_link": true
    }
  },
  "cells": [
    {
      "cell_type": "markdown",
      "metadata": {
        "id": "view-in-github",
        "colab_type": "text"
      },
      "source": [
        "<a href=\"https://colab.research.google.com/github/saimahesh16/adv-pprog/blob/master/Assignment_8(4_06_20).ipynb\" target=\"_parent\"><img src=\"https://colab.research.google.com/assets/colab-badge.svg\" alt=\"Open In Colab\"/></a>"
      ]
    },
    {
      "cell_type": "markdown",
      "metadata": {
        "id": "qkWgVtDD8aZp",
        "colab_type": "text"
      },
      "source": [
        "# CSE-221710313064-Y SAIMAHESH"
      ]
    },
    {
      "cell_type": "markdown",
      "metadata": {
        "id": "A-zeMVOe8aZt",
        "colab_type": "text"
      },
      "source": [
        "1.Write a NumPy program to reverse an array (first element becomes last). \n",
        "Original array:\n",
        "[12 13 14 15 16 17 18 19 20 21 22 23 24 25 26 27 28 29 30 31 32 33 34 35 36 37]\n",
        "Reverse array:\n",
        "[37 36 35 34 33 32 31 30 29 28 27 26 25 24 23 22 21 20 19 18 17 16 15 14 13 12]"
      ]
    },
    {
      "cell_type": "code",
      "metadata": {
        "id": "2ds6b6gC8aZu",
        "colab_type": "code",
        "colab": {},
        "outputId": "8235aef2-799a-4e23-d3fb-8f319814fb04"
      },
      "source": [
        "import numpy as np\n",
        "import numpy as np\n",
        "x = np.arange(12, 38)\n",
        "print(\"Original array:\")\n",
        "print(x)\n",
        "print(\"Reverse array:\")\n",
        "x = x[::-1]\n",
        "print(x)"
      ],
      "execution_count": 0,
      "outputs": [
        {
          "output_type": "stream",
          "text": [
            "Original array:\n",
            "[12 13 14 15 16 17 18 19 20 21 22 23 24 25 26 27 28 29 30 31 32 33 34 35\n",
            " 36 37]\n",
            "Reverse array:\n",
            "[37 36 35 34 33 32 31 30 29 28 27 26 25 24 23 22 21 20 19 18 17 16 15 14\n",
            " 13 12]\n"
          ],
          "name": "stdout"
        }
      ]
    },
    {
      "cell_type": "markdown",
      "metadata": {
        "id": "_2q7ORa28aZ1",
        "colab_type": "text"
      },
      "source": [
        "2.Write a NumPy program to create a 2d array with 1 on the border and 0 inside. \n",
        "Original array:\n",
        "[[ 1. 1. 1. 1. 1.]\n",
        "...................\n",
        "[ 1. 1. 1. 1. 1.]]\n",
        "1 on the border and 0 inside in the array\n",
        "Expected output:\n",
        "[[ 1. 1. 1. 1. 1.]\n",
        " [1. 0. 0. 0. 1.]\n",
        "……………..\n",
        " [1. 0. 0. 0. 1.]\n",
        "[ 1. 1. 1. 1. 1.]]"
      ]
    },
    {
      "cell_type": "code",
      "metadata": {
        "id": "JaOeYxQm8aZ2",
        "colab_type": "code",
        "colab": {},
        "outputId": "c5c5494b-7eb6-4e8a-c1cc-c244e404849a"
      },
      "source": [
        "import numpy as np\n",
        "x = np.ones((5,5))\n",
        "print(\"Original array:\")\n",
        "print(x)\n",
        "print(\"1 on the border and 0 inside in the array\")\n",
        "x[1:-1,1:-1] = 0\n",
        "print(x)"
      ],
      "execution_count": 0,
      "outputs": [
        {
          "output_type": "stream",
          "text": [
            "Original array:\n",
            "[[1. 1. 1. 1. 1.]\n",
            " [1. 1. 1. 1. 1.]\n",
            " [1. 1. 1. 1. 1.]\n",
            " [1. 1. 1. 1. 1.]\n",
            " [1. 1. 1. 1. 1.]]\n",
            "1 on the border and 0 inside in the array\n",
            "[[1. 1. 1. 1. 1.]\n",
            " [1. 0. 0. 0. 1.]\n",
            " [1. 0. 0. 0. 1.]\n",
            " [1. 0. 0. 0. 1.]\n",
            " [1. 1. 1. 1. 1.]]\n"
          ],
          "name": "stdout"
        }
      ]
    },
    {
      "cell_type": "markdown",
      "metadata": {
        "id": "zOaciHMV8aZ7",
        "colab_type": "text"
      },
      "source": [
        "3.Write a NumPy program to test whether each element of a 1-D array is also present in a second array.\n",
        "Expected Output:\n",
        "Array1: [ 0 10 20 40 60]\n",
        "Array2: [0, 40]\n",
        "Compare each element of array1 and array2\n",
        "[ True False False True False]"
      ]
    },
    {
      "cell_type": "code",
      "metadata": {
        "id": "EnD8KfZ48aZ8",
        "colab_type": "code",
        "colab": {},
        "outputId": "2d8e431d-23bc-47e7-99d5-549fcc830996"
      },
      "source": [
        "import numpy as np\n",
        "a1 = np.array([0, 10, 20, 40, 60])\n",
        "print(\"Array1: \",a1)\n",
        "a2 = [0, 40]\n",
        "print(\"Array2: \",a2)\n",
        "print(\"Compare each element of array1 and array2\")\n",
        "print(np.in1d(a1, a2))"
      ],
      "execution_count": 0,
      "outputs": [
        {
          "output_type": "stream",
          "text": [
            "Array1:  [ 0 10 20 40 60]\n",
            "Array2:  [0, 40]\n",
            "Compare each element of array1 and array2\n",
            "[ True False False  True False]\n"
          ],
          "name": "stdout"
        }
      ]
    },
    {
      "cell_type": "markdown",
      "metadata": {
        "id": "_6HsYEkL8aaB",
        "colab_type": "text"
      },
      "source": [
        "4.Write a NumPy program to find the set difference of two arrays. The set difference will return the sorted, unique values in array1 that are not in array2.\n",
        "Expected Output:\n",
        "Array1: [ 0 10 20 40 60 80]\n",
        "Array2: [10, 30, 40, 50, 70, 90]\n",
        "Set difference between two arrays:\n",
        "[ 0 20 60 80]"
      ]
    },
    {
      "cell_type": "code",
      "metadata": {
        "id": "0Hs5tYij8aaC",
        "colab_type": "code",
        "colab": {},
        "outputId": "1fc389fa-f129-4003-ad80-3cdf73d49693"
      },
      "source": [
        "import numpy as np\n",
        "a1 = np.array([0, 10, 20, 40, 60, 80])\n",
        "print(\"Array1: \",a1)\n",
        "a2 = [10, 30, 40, 50, 70]\n",
        "print(\"Array2: \",a2)\n",
        "print(\"Unique values in array1 that are not in array2:\")\n",
        "print(np.setdiff1d(a1, a2))"
      ],
      "execution_count": 0,
      "outputs": [
        {
          "output_type": "stream",
          "text": [
            "Array1:  [ 0 10 20 40 60 80]\n",
            "Array2:  [10, 30, 40, 50, 70]\n",
            "Unique values in array1 that are not in array2:\n",
            "[ 0 20 60 80]\n"
          ],
          "name": "stdout"
        }
      ]
    },
    {
      "cell_type": "markdown",
      "metadata": {
        "id": "XpOlpThb8aaJ",
        "colab_type": "text"
      },
      "source": [
        "5.Write a NumPy program to create a 2-D array whose diagonal equals [4, 5, 6, 8] and 0's elsewhere.\n",
        "Expected Output:\n",
        "[[4 0 0 0]\n",
        "[0 5 0 0]\n",
        "[0 0 6 0]\n",
        "[0 0 0 8]]"
      ]
    },
    {
      "cell_type": "code",
      "metadata": {
        "id": "K5rgVDUx8aaK",
        "colab_type": "code",
        "colab": {},
        "outputId": "e87be601-3c5d-4250-c6df-8e26e487c82e"
      },
      "source": [
        "import numpy as np\n",
        "x =  np.diagflat([4, 5, 6, 8])\n",
        "print(x)"
      ],
      "execution_count": 0,
      "outputs": [
        {
          "output_type": "stream",
          "text": [
            "[[4 0 0 0]\n",
            " [0 5 0 0]\n",
            " [0 0 6 0]\n",
            " [0 0 0 8]]\n"
          ],
          "name": "stdout"
        }
      ]
    }
  ]
}