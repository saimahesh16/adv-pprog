{
  "nbformat": 4,
  "nbformat_minor": 0,
  "metadata": {
    "kernelspec": {
      "display_name": "Python 3",
      "language": "python",
      "name": "python3"
    },
    "language_info": {
      "codemirror_mode": {
        "name": "ipython",
        "version": 3
      },
      "file_extension": ".py",
      "mimetype": "text/x-python",
      "name": "python",
      "nbconvert_exporter": "python",
      "pygments_lexer": "ipython3",
      "version": "3.7.6"
    },
    "colab": {
      "name": "assignment(30-05-20).ipynb",
      "provenance": [],
      "include_colab_link": true
    }
  },
  "cells": [
    {
      "cell_type": "markdown",
      "metadata": {
        "id": "view-in-github",
        "colab_type": "text"
      },
      "source": [
        "<a href=\"https://colab.research.google.com/github/saimahesh16/adv-pprog/blob/master/assignment(30_05_20).ipynb\" target=\"_parent\"><img src=\"https://colab.research.google.com/assets/colab-badge.svg\" alt=\"Open In Colab\"/></a>"
      ]
    },
    {
      "cell_type": "markdown",
      "metadata": {
        "id": "_G5H5BB_kItw",
        "colab_type": "text"
      },
      "source": [
        "Count the no.of words,no.of letters,no.of lines available in your file\n"
      ]
    },
    {
      "cell_type": "code",
      "metadata": {
        "id": "7QhSA47lkIt1",
        "colab_type": "code",
        "colab": {},
        "outputId": "8bb77f94-cbf6-438a-bd43-3a0aee960378"
      },
      "source": [
        "fname = input(\"Enter the name of the file:\")\n",
        "infile = open(fname,'r')\n",
        "lines = 0\n",
        "words = 0\n",
        "characters = 0\n",
        "for line in infile:\n",
        "    wordslist = line.split()\n",
        "    lines = lines + 1\n",
        "    words = words + len(wordslist)\n",
        "    characters = characters + len(line)\n",
        "print(lines)\n",
        "print(words)\n",
        "print(characters)"
      ],
      "execution_count": 0,
      "outputs": [
        {
          "output_type": "stream",
          "text": [
            "Enter the name of the file:sample.txt\n",
            "1\n",
            "2\n",
            "14\n"
          ],
          "name": "stdout"
        }
      ]
    },
    {
      "cell_type": "markdown",
      "metadata": {
        "id": "lH_kLSdzkIt7",
        "colab_type": "text"
      },
      "source": [
        "Copy the content of one file to another\n"
      ]
    },
    {
      "cell_type": "code",
      "metadata": {
        "id": "GziAwdqUkIt7",
        "colab_type": "code",
        "colab": {},
        "outputId": "f027d10b-8e09-4595-b3c9-337ec0096b25"
      },
      "source": [
        "f = open(\"sample.txt\",\"w\")\n",
        "f.write(\"Data science with python,Advanced programming,AI and ML\")\n",
        "f.close()\n",
        "\n",
        "f = open(\"sample.txt\",\"r\")\n",
        "data = f.read()\n",
        "print(data)\n",
        "f.close()\n",
        "\n",
        "f= open(\"sample1.txt\",\"w\")\n",
        "f.write(\"\")\n",
        "f.close()\n",
        "\n",
        "with open(\"sample.txt\") as f:\n",
        "    with open(\"sample1.txt\",\"w\") as f1:\n",
        "        for line in f:\n",
        "            f1.write(line)"
      ],
      "execution_count": 0,
      "outputs": [
        {
          "output_type": "stream",
          "text": [
            "Data science with python,Advanced programming,AI and ML\n"
          ],
          "name": "stdout"
        }
      ]
    },
    {
      "cell_type": "markdown",
      "metadata": {
        "id": "3HQY1xZqkIuB",
        "colab_type": "text"
      },
      "source": [
        "Display the words starting with letter 'p'\n"
      ]
    },
    {
      "cell_type": "code",
      "metadata": {
        "id": "mUrfRCxAkIuC",
        "colab_type": "code",
        "colab": {},
        "outputId": "249b58ca-c107-4abe-fc4d-1f5d6034be55"
      },
      "source": [
        "St= 'pencil mobile paper'\n",
        "List=St.split()\n",
        "for s in List:\n",
        "    if s.startswith('p'):\n",
        "        print(s)"
      ],
      "execution_count": 0,
      "outputs": [
        {
          "output_type": "stream",
          "text": [
            "pencil\n",
            "paper\n"
          ],
          "name": "stdout"
        }
      ]
    },
    {
      "cell_type": "markdown",
      "metadata": {
        "id": "V1KTpz2lkIuG",
        "colab_type": "text"
      },
      "source": [
        "Rename and remove files"
      ]
    },
    {
      "cell_type": "code",
      "metadata": {
        "id": "MsVE6l4CkIuH",
        "colab_type": "code",
        "colab": {}
      },
      "source": [
        "import os\n",
        "os.rename(\"mahesh.txt\",\"Coursesopted.txt\")"
      ],
      "execution_count": 0,
      "outputs": []
    },
    {
      "cell_type": "code",
      "metadata": {
        "id": "Hg4GwaKSkIuK",
        "colab_type": "code",
        "colab": {}
      },
      "source": [
        "import os\n",
        "os.remove(\"Coursesopted.txt\")"
      ],
      "execution_count": 0,
      "outputs": []
    },
    {
      "cell_type": "code",
      "metadata": {
        "id": "9riBFpAKkIuN",
        "colab_type": "code",
        "colab": {},
        "outputId": "c66c2c3d-672a-4ebd-e110-607fa6b5f3b2"
      },
      "source": [
        "import os\n",
        "os.getcwd()"
      ],
      "execution_count": 0,
      "outputs": [
        {
          "output_type": "execute_result",
          "data": {
            "text/plain": [
              "'C:\\\\Users\\\\saima'"
            ]
          },
          "metadata": {
            "tags": []
          },
          "execution_count": 13
        }
      ]
    },
    {
      "cell_type": "code",
      "metadata": {
        "id": "zpsTrvl9kIuS",
        "colab_type": "code",
        "colab": {}
      },
      "source": [
        "import os\n",
        "pa='C:/Users/saima/'\n",
        "dr=\"mahesh\"\n",
        "path=os.path.join(pa,dr)\n",
        "os.mkdir(path)\n",
        "os.chdir(path)\n",
        "a=\"mahesh\"\n",
        "l=[\"a\",\"b\",\"c\",\"d\",\"e\"]\n",
        "for i in l:\n",
        "    f=open(a+i,'w')\n",
        "    f.write(i*512)"
      ],
      "execution_count": 0,
      "outputs": []
    },
    {
      "cell_type": "code",
      "metadata": {
        "id": "xaaJEpUEkIuW",
        "colab_type": "code",
        "colab": {}
      },
      "source": [
        ""
      ],
      "execution_count": 0,
      "outputs": []
    }
  ]
}