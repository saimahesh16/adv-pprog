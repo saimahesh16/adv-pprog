{
  "nbformat": 4,
  "nbformat_minor": 0,
  "metadata": {
    "colab": {
      "name": "Day5-29-05-20",
      "provenance": []
    },
    "kernelspec": {
      "name": "python3",
      "display_name": "Python 3"
    }
  },
  "cells": [
    {
      "cell_type": "code",
      "metadata": {
        "id": "Xvczqrj3ci8b",
        "colab_type": "code",
        "colab": {
          "base_uri": "https://localhost:8080/",
          "height": 34
        },
        "outputId": "488da608-281e-4069-f893-02fd488b952f"
      },
      "source": [
        "for i in range(0,5):\n",
        "  if(i%2==0):\n",
        "    print(i)\n",
        "  else:\n",
        "    break  "
      ],
      "execution_count": 2,
      "outputs": [
        {
          "output_type": "stream",
          "text": [
            "0\n"
          ],
          "name": "stdout"
        }
      ]
    },
    {
      "cell_type": "code",
      "metadata": {
        "id": "mBNOemg9m-BR",
        "colab_type": "code",
        "colab": {
          "base_uri": "https://localhost:8080/",
          "height": 155
        },
        "outputId": "ded7cf61-8b97-45d4-9320-bd51d75d04f5"
      },
      "source": [
        "for i in range(1,10):\n",
        "  if(i%5==0):\n",
        "    continue\n",
        "  else:\n",
        "    print(i)"
      ],
      "execution_count": 3,
      "outputs": [
        {
          "output_type": "stream",
          "text": [
            "1\n",
            "2\n",
            "3\n",
            "4\n",
            "6\n",
            "7\n",
            "8\n",
            "9\n"
          ],
          "name": "stdout"
        }
      ]
    },
    {
      "cell_type": "code",
      "metadata": {
        "id": "JLfLsxOanmyE",
        "colab_type": "code",
        "colab": {
          "base_uri": "https://localhost:8080/",
          "height": 51
        },
        "outputId": "df62bd95-f173-4a3b-9cd1-93d0a08ae084"
      },
      "source": [
        "username=input()\n",
        "while username!=\"python\":\n",
        "  username=input()\n",
        "  password=input(\"enter password\")\n",
        "while username==\"python\" and password!=\"456\":\n",
        "  password=input(\"enter correct password\")"
      ],
      "execution_count": 6,
      "outputs": [
        {
          "output_type": "stream",
          "text": [
            "python\n",
            "enter correct password456\n"
          ],
          "name": "stdout"
        }
      ]
    },
    {
      "cell_type": "code",
      "metadata": {
        "id": "sidPQb70oSd_",
        "colab_type": "code",
        "colab": {}
      },
      "source": [
        "if 12 < 34:\n",
        "    pass\n",
        "else:\n",
        "    print(\"else\")    "
      ],
      "execution_count": 0,
      "outputs": []
    },
    {
      "cell_type": "code",
      "metadata": {
        "id": "kMnUDgRwrNjm",
        "colab_type": "code",
        "colab": {
          "base_uri": "https://localhost:8080/",
          "height": 69
        },
        "outputId": "ceca42bf-3bb2-4832-dce2-6d816b252ff1"
      },
      "source": [
        "while True:\n",
        "    user = input(\"enter your name: \")\n",
        "    if user == \"python\":\n",
        "        pwd = input(\"enter your password: \")\n",
        "        if pwd == \"abc123\":\n",
        "            print(\"login successs!!\")\n",
        "            break\n",
        "    else:\n",
        "        continue        "
      ],
      "execution_count": 44,
      "outputs": [
        {
          "output_type": "stream",
          "text": [
            "enter your name: python\n",
            "enter your password: abc123\n",
            "login successs!!\n"
          ],
          "name": "stdout"
        }
      ]
    },
    {
      "cell_type": "code",
      "metadata": {
        "id": "E_0NR-c7sPLA",
        "colab_type": "code",
        "colab": {
          "base_uri": "https://localhost:8080/",
          "height": 34
        },
        "outputId": "6b1340c9-3569-4e38-ee46-c3fb1759aa0a"
      },
      "source": [
        "def name(username):\n",
        "     print(\"hello\",username)\n",
        "name(\"mahesh\")     "
      ],
      "execution_count": 16,
      "outputs": [
        {
          "output_type": "stream",
          "text": [
            "hello mahesh\n"
          ],
          "name": "stdout"
        }
      ]
    },
    {
      "cell_type": "code",
      "metadata": {
        "id": "eC7dOTRttq6J",
        "colab_type": "code",
        "colab": {
          "base_uri": "https://localhost:8080/",
          "height": 51
        },
        "outputId": "5534819c-de77-47ef-d3df-77495ff99b2a"
      },
      "source": [
        "def addition(a,b):\n",
        "    return a+b\n",
        "print(addition(100,300))\n",
        "print(addition(400,300))   "
      ],
      "execution_count": 17,
      "outputs": [
        {
          "output_type": "stream",
          "text": [
            "400\n",
            "700\n"
          ],
          "name": "stdout"
        }
      ]
    },
    {
      "cell_type": "code",
      "metadata": {
        "id": "y1AFMeC3vOrt",
        "colab_type": "code",
        "colab": {
          "base_uri": "https://localhost:8080/",
          "height": 34
        },
        "outputId": "47ecd8d1-14bb-4c0a-8023-09ca2f01bbae"
      },
      "source": [
        "def addition(a,b):\n",
        "    return a+b,a-b,a*b,a/b\n",
        "add,sub,mul,div = addition(20,30)\n",
        "print(mul)\n"
      ],
      "execution_count": 19,
      "outputs": [
        {
          "output_type": "stream",
          "text": [
            "600\n"
          ],
          "name": "stdout"
        }
      ]
    },
    {
      "cell_type": "code",
      "metadata": {
        "id": "jal0tAkRwYcL",
        "colab_type": "code",
        "colab": {
          "base_uri": "https://localhost:8080/",
          "height": 34
        },
        "outputId": "e1bcd8a4-91fe-411e-d5a5-2e6679c6745b"
      },
      "source": [
        "def name(a,b,c):\n",
        "    return a/b,a+c\n",
        "name(100,20,40)"
      ],
      "execution_count": 20,
      "outputs": [
        {
          "output_type": "execute_result",
          "data": {
            "text/plain": [
              "(5.0, 140)"
            ]
          },
          "metadata": {
            "tags": []
          },
          "execution_count": 20
        }
      ]
    },
    {
      "cell_type": "code",
      "metadata": {
        "id": "XvTXHzYsxD5X",
        "colab_type": "code",
        "colab": {
          "base_uri": "https://localhost:8080/",
          "height": 51
        },
        "outputId": "0294e12d-96c3-4957-a53a-65e0c6eeb21a"
      },
      "source": [
        "def name(a,b,c):\n",
        "    return a/b,a+c\n",
        "print(name(100,20,40))\n",
        "a,b=name(100,10,2)\n",
        "print(a)"
      ],
      "execution_count": 21,
      "outputs": [
        {
          "output_type": "stream",
          "text": [
            "(5.0, 140)\n",
            "10.0\n"
          ],
          "name": "stdout"
        }
      ]
    },
    {
      "cell_type": "code",
      "metadata": {
        "id": "NkxdMZvwyICB",
        "colab_type": "code",
        "colab": {
          "base_uri": "https://localhost:8080/",
          "height": 69
        },
        "outputId": "e4a1b573-fba0-4374-9cba-7857992cb5a1"
      },
      "source": [
        "def add(a,b):\n",
        "    print(\"a value:\",a)\n",
        "    print(\"b value:\",b)\n",
        "    return(a+b)\n",
        "add(b = 10, a = 20)"
      ],
      "execution_count": 22,
      "outputs": [
        {
          "output_type": "stream",
          "text": [
            "a value: 20\n",
            "b value: 10\n"
          ],
          "name": "stdout"
        },
        {
          "output_type": "execute_result",
          "data": {
            "text/plain": [
              "30"
            ]
          },
          "metadata": {
            "tags": []
          },
          "execution_count": 22
        }
      ]
    },
    {
      "cell_type": "code",
      "metadata": {
        "id": "L-He9aht5DgM",
        "colab_type": "code",
        "colab": {
          "base_uri": "https://localhost:8080/",
          "height": 34
        },
        "outputId": "c0364567-fd00-407c-d56d-6d6510e78393"
      },
      "source": [
        "def add(a,b=23):\n",
        "  return a+b\n",
        "add(56)"
      ],
      "execution_count": 23,
      "outputs": [
        {
          "output_type": "execute_result",
          "data": {
            "text/plain": [
              "79"
            ]
          },
          "metadata": {
            "tags": []
          },
          "execution_count": 23
        }
      ]
    },
    {
      "cell_type": "code",
      "metadata": {
        "id": "RXOEzOMx5RBd",
        "colab_type": "code",
        "colab": {
          "base_uri": "https://localhost:8080/",
          "height": 34
        },
        "outputId": "c604d740-2a88-4793-8fe2-2dfef65811de"
      },
      "source": [
        "add(23,43)"
      ],
      "execution_count": 24,
      "outputs": [
        {
          "output_type": "execute_result",
          "data": {
            "text/plain": [
              "66"
            ]
          },
          "metadata": {
            "tags": []
          },
          "execution_count": 24
        }
      ]
    },
    {
      "cell_type": "code",
      "metadata": {
        "id": "pFafIya71LLb",
        "colab_type": "code",
        "colab": {
          "base_uri": "https://localhost:8080/",
          "height": 69
        },
        "outputId": "27373917-b172-42e8-baee-98d651fd8381"
      },
      "source": [
        "def add(*a):\n",
        "    return sum(a)\n",
        "print(add(10,30))\n",
        "print(add(14,350,45))\n",
        "print(add(40,30,50,60))"
      ],
      "execution_count": 25,
      "outputs": [
        {
          "output_type": "stream",
          "text": [
            "40\n",
            "409\n",
            "180\n"
          ],
          "name": "stdout"
        }
      ]
    },
    {
      "cell_type": "code",
      "metadata": {
        "id": "Q7EGGAKB5sl1",
        "colab_type": "code",
        "colab": {
          "base_uri": "https://localhost:8080/",
          "height": 69
        },
        "outputId": "d5ad8d74-a602-4c6e-a39f-ff534e2541d3"
      },
      "source": [
        "def add(*a):\n",
        "    m = 1\n",
        "    for i in a:\n",
        "        m = m*i\n",
        "    return m\n",
        "print(add(10,30))\n",
        "print(add(14,350,45))\n",
        "print(add(40,30,50,60))"
      ],
      "execution_count": 26,
      "outputs": [
        {
          "output_type": "stream",
          "text": [
            "300\n",
            "220500\n",
            "3600000\n"
          ],
          "name": "stdout"
        }
      ]
    },
    {
      "cell_type": "code",
      "metadata": {
        "id": "N-54WXsI60UV",
        "colab_type": "code",
        "colab": {
          "base_uri": "https://localhost:8080/",
          "height": 51
        },
        "outputId": "c21833ec-29a2-4068-c312-4fe134e1103a"
      },
      "source": [
        "def square(a):\n",
        "    return a*a\n",
        "def cube(x):\n",
        "    square(x)*x\n",
        "print(square(10))\n",
        "print(cube(10))"
      ],
      "execution_count": 29,
      "outputs": [
        {
          "output_type": "stream",
          "text": [
            "100\n",
            "None\n"
          ],
          "name": "stdout"
        }
      ]
    },
    {
      "cell_type": "code",
      "metadata": {
        "id": "1XzBaXYx7Mso",
        "colab_type": "code",
        "colab": {
          "base_uri": "https://localhost:8080/",
          "height": 34
        },
        "outputId": "6bbf11d5-c8b5-4022-ac29-a94e0aa04984"
      },
      "source": [
        "list1 = [12,23.45,True,\"abc\",12]\n",
        "print(type(list1))"
      ],
      "execution_count": 32,
      "outputs": [
        {
          "output_type": "stream",
          "text": [
            "<class 'list'>\n"
          ],
          "name": "stdout"
        }
      ]
    },
    {
      "cell_type": "code",
      "metadata": {
        "id": "IEnkZQhV_dpn",
        "colab_type": "code",
        "colab": {
          "base_uri": "https://localhost:8080/",
          "height": 120
        },
        "outputId": "82fe288f-a5e8-4e41-f131-45e69f396d08"
      },
      "source": [
        "list1 = [1,2,3]\n",
        "list2 = [10,20,30]\n",
        "print(list1+list2)\n",
        "print(list1*3)\n",
        "print(list1[1])\n",
        "print(list1[1:3])\n",
        "print(2 in list1)\n",
        "print(200 in list1)"
      ],
      "execution_count": 38,
      "outputs": [
        {
          "output_type": "stream",
          "text": [
            "[1, 2, 3, 10, 20, 30]\n",
            "[1, 2, 3, 1, 2, 3, 1, 2, 3]\n",
            "2\n",
            "[2, 3]\n",
            "True\n",
            "False\n"
          ],
          "name": "stdout"
        }
      ]
    },
    {
      "cell_type": "code",
      "metadata": {
        "id": "5NmV3uJZANwA",
        "colab_type": "code",
        "colab": {
          "base_uri": "https://localhost:8080/",
          "height": 34
        },
        "outputId": "1794dc18-086c-44ac-8a81-43290a3ffcdb"
      },
      "source": [
        "list1 = [1,2,3,\"python\"]\n",
        "list1[3][2]"
      ],
      "execution_count": 39,
      "outputs": [
        {
          "output_type": "execute_result",
          "data": {
            "text/plain": [
              "'t'"
            ]
          },
          "metadata": {
            "tags": []
          },
          "execution_count": 39
        }
      ]
    },
    {
      "cell_type": "code",
      "metadata": {
        "id": "to-iLp3xBkmN",
        "colab_type": "code",
        "colab": {
          "base_uri": "https://localhost:8080/",
          "height": 69
        },
        "outputId": "4b1f048c-9da3-493e-d060-f155db3e1a2e"
      },
      "source": [
        "list1 = [1,2,3,40]\n",
        "print(len(list1))\n",
        "print(min(list1))\n",
        "print(max(list1))"
      ],
      "execution_count": 40,
      "outputs": [
        {
          "output_type": "stream",
          "text": [
            "4\n",
            "1\n",
            "40\n"
          ],
          "name": "stdout"
        }
      ]
    },
    {
      "cell_type": "code",
      "metadata": {
        "id": "_mk7FEOpCTOe",
        "colab_type": "code",
        "colab": {
          "base_uri": "https://localhost:8080/",
          "height": 103
        },
        "outputId": "1a73ad23-a02d-4a58-eceb-113fd484afb5"
      },
      "source": [
        "list1 = [1,2,3,40]\n",
        "s1 = \"python\"\n",
        "print(len(list1))\n",
        "print(min(list1))\n",
        "print(max(list1))\n",
        "list2 = list(s1)\n",
        "print(list2)\n",
        "list1[-1] = 100\n",
        "print(list1)"
      ],
      "execution_count": 42,
      "outputs": [
        {
          "output_type": "stream",
          "text": [
            "4\n",
            "1\n",
            "40\n",
            "['p', 'y', 't', 'h', 'o', 'n']\n",
            "[1, 2, 3, 100]\n"
          ],
          "name": "stdout"
        }
      ]
    },
    {
      "cell_type": "code",
      "metadata": {
        "id": "t_dSyG_XCiBH",
        "colab_type": "code",
        "colab": {}
      },
      "source": [
        ""
      ],
      "execution_count": 0,
      "outputs": []
    }
  ]
}