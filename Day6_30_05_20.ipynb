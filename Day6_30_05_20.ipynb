{
  "nbformat": 4,
  "nbformat_minor": 0,
  "metadata": {
    "kernelspec": {
      "display_name": "Python 3",
      "language": "python",
      "name": "python3"
    },
    "language_info": {
      "codemirror_mode": {
        "name": "ipython",
        "version": 3
      },
      "file_extension": ".py",
      "mimetype": "text/x-python",
      "name": "python",
      "nbconvert_exporter": "python",
      "pygments_lexer": "ipython3",
      "version": "3.7.6"
    },
    "colab": {
      "name": "Day6 30-05-20.ipynb",
      "provenance": [],
      "include_colab_link": true
    }
  },
  "cells": [
    {
      "cell_type": "markdown",
      "metadata": {
        "id": "view-in-github",
        "colab_type": "text"
      },
      "source": [
        "<a href=\"https://colab.research.google.com/github/saimahesh16/adv-pprog/blob/master/Day6_30_05_20.ipynb\" target=\"_parent\"><img src=\"https://colab.research.google.com/assets/colab-badge.svg\" alt=\"Open In Colab\"/></a>"
      ]
    },
    {
      "cell_type": "code",
      "metadata": {
        "id": "5Ffb89ZjamkY",
        "colab_type": "code",
        "colab": {},
        "outputId": "14b47643-4529-4d42-eea5-130c6eab51eb"
      },
      "source": [
        "def Factorial(n):\n",
        "    if n == 0:\n",
        "        return 1\n",
        "    else:\n",
        "        return n*Factorial(n-1)\n",
        "Factorial(5)"
      ],
      "execution_count": 0,
      "outputs": [
        {
          "output_type": "execute_result",
          "data": {
            "text/plain": [
              "120"
            ]
          },
          "metadata": {
            "tags": []
          },
          "execution_count": 2
        }
      ]
    },
    {
      "cell_type": "code",
      "metadata": {
        "id": "arYFRcryamko",
        "colab_type": "code",
        "colab": {},
        "outputId": "04aa8a9a-5873-475d-aa3f-8e250bee25ab"
      },
      "source": [
        "def display(lb,ub):\n",
        "    if lb > ub:\n",
        "        return \n",
        "    else:\n",
        "        print(lb,end=\" \")\n",
        "        display(lb+1,ub)\n",
        "lb = int(input())\n",
        "ub = int(input())\n",
        "display(lb,ub)"
      ],
      "execution_count": 0,
      "outputs": [
        {
          "output_type": "stream",
          "text": [
            "1\n",
            "10\n",
            "1 2 3 4 5 6 7 8 9 10 "
          ],
          "name": "stdout"
        }
      ]
    },
    {
      "cell_type": "code",
      "metadata": {
        "id": "vbVebOyCamk0",
        "colab_type": "code",
        "colab": {},
        "outputId": "a8201ace-0f31-4571-828a-d8355cbd8a17"
      },
      "source": [
        "def recur_fibo(n):\n",
        "    if n == 1:\n",
        "        return 0\n",
        "    elif n == 2:\n",
        "        return 1\n",
        "    else:\n",
        "        return recur_fibo(n-1)+recur_fibo(n-2)\n",
        "recur_fibo(8)"
      ],
      "execution_count": 0,
      "outputs": [
        {
          "output_type": "execute_result",
          "data": {
            "text/plain": [
              "13"
            ]
          },
          "metadata": {
            "tags": []
          },
          "execution_count": 4
        }
      ]
    },
    {
      "cell_type": "code",
      "metadata": {
        "id": "T-Q2jKVBamlK",
        "colab_type": "code",
        "colab": {},
        "outputId": "d962e488-c83c-4c0b-d2e4-d07d903493b0"
      },
      "source": [
        "import time\n",
        "def recur_fibo(n):\n",
        "    if n == 1:\n",
        "        return 0\n",
        "    elif n == 2:\n",
        "        return 1\n",
        "    else:\n",
        "        return recur_fibo(n-1)+recur_fibo(n-2)\n",
        "prev = time.time()\n",
        "print(recur_fibo(20))\n",
        "print(time.time()-prev)"
      ],
      "execution_count": 0,
      "outputs": [
        {
          "output_type": "stream",
          "text": [
            "4181\n",
            "0.009970664978027344\n"
          ],
          "name": "stdout"
        }
      ]
    },
    {
      "cell_type": "code",
      "metadata": {
        "id": "SBnDzWabamlQ",
        "colab_type": "code",
        "colab": {},
        "outputId": "0be73726-c188-4bc5-8834-6fcb047d7274"
      },
      "source": [
        "list1 = [12,34,45,6,\"str\",True]\n",
        "list2 = [34,45,6.6,45]\n",
        "string = \"python\"\n",
        "print(\"lenght of list:\",len(list1))\n",
        "print(min(list2))\n",
        "print(max(list2))\n",
        "print(list(string))\n",
        "print()"
      ],
      "execution_count": 0,
      "outputs": [
        {
          "output_type": "stream",
          "text": [
            "lenght of list: 6\n",
            "6.6\n",
            "45\n",
            "['p', 'y', 't', 'h', 'o', 'n']\n",
            "\n"
          ],
          "name": "stdout"
        }
      ]
    },
    {
      "cell_type": "code",
      "metadata": {
        "id": "VibHSCK8amlW",
        "colab_type": "code",
        "colab": {},
        "outputId": "5f867782-b540-4e33-e3c3-c946b0bd8017"
      },
      "source": [
        "list1 = [12,34,45,6,\"str\",True]\n",
        "list2 = [34,45,6.6,45]\n",
        "string = \"python\"\n",
        "print(\"lenght of list:\",len(list1))\n",
        "print(min(list2))\n",
        "print(max(list2))\n",
        "print(list(string))\n",
        "list1.append(6)\n",
        "print(list1)\n",
        "list1.append(7)\n",
        "print(list1)\n",
        "list1.insert(2,100)\n",
        "print(list1)\n",
        "list1.extend([8,9,10])\n",
        "print(list1)\n",
        "list1.pop()\n",
        "print(list1)\n",
        "list1.remove(12)\n",
        "list1.clear()\n",
        "list1"
      ],
      "execution_count": 0,
      "outputs": [
        {
          "output_type": "stream",
          "text": [
            "lenght of list: 6\n",
            "6.6\n",
            "45\n",
            "['p', 'y', 't', 'h', 'o', 'n']\n",
            "[12, 34, 45, 6, 'str', True, 6]\n",
            "[12, 34, 45, 6, 'str', True, 6, 7]\n",
            "[12, 34, 100, 45, 6, 'str', True, 6, 7]\n",
            "[12, 34, 100, 45, 6, 'str', True, 6, 7, 8, 9, 10]\n",
            "[12, 34, 100, 45, 6, 'str', True, 6, 7, 8, 9]\n"
          ],
          "name": "stdout"
        },
        {
          "output_type": "execute_result",
          "data": {
            "text/plain": [
              "[]"
            ]
          },
          "metadata": {
            "tags": []
          },
          "execution_count": 33
        }
      ]
    },
    {
      "cell_type": "code",
      "metadata": {
        "id": "3LCHArzramlj",
        "colab_type": "code",
        "colab": {},
        "outputId": "2333ab6e-d85f-4da5-9037-2ebb002e6581"
      },
      "source": [
        "list1 = [1,2,3,4,5]\n",
        "list1.append(6)\n",
        "print(list1)\n",
        "list1.append(7)\n",
        "print(list1)"
      ],
      "execution_count": 0,
      "outputs": [
        {
          "output_type": "stream",
          "text": [
            "[1, 2, 3, 4, 5, 6]\n",
            "[1, 2, 3, 4, 5, 6, 7]\n"
          ],
          "name": "stdout"
        }
      ]
    },
    {
      "cell_type": "code",
      "metadata": {
        "id": "fzxx6ZbMamly",
        "colab_type": "code",
        "colab": {},
        "outputId": "66ac8e71-a0fb-494b-861d-4bd6affbb986"
      },
      "source": [
        "list1.insert(2,100)\n",
        "print(list1)"
      ],
      "execution_count": 0,
      "outputs": [
        {
          "output_type": "stream",
          "text": [
            "[1, 2, 100, 3, 4, 5, 6, 7]\n"
          ],
          "name": "stdout"
        }
      ]
    },
    {
      "cell_type": "code",
      "metadata": {
        "id": "khmiGvJOaml5",
        "colab_type": "code",
        "colab": {},
        "outputId": "586f1657-647f-4669-dd5f-81cf6131fea3"
      },
      "source": [
        "list1.extend([8,9,10])\n",
        "print(list1)"
      ],
      "execution_count": 0,
      "outputs": [
        {
          "output_type": "stream",
          "text": [
            "[1, 2, 100, 3, 4, 5, 6, 7, 8, 9, 10]\n"
          ],
          "name": "stdout"
        }
      ]
    },
    {
      "cell_type": "code",
      "metadata": {
        "id": "udKihq2JammA",
        "colab_type": "code",
        "colab": {},
        "outputId": "29a7a0ed-116f-47ca-e8d0-9787d3dbe1ca"
      },
      "source": [
        "list1.pop(4)\n",
        "print(list1)"
      ],
      "execution_count": 0,
      "outputs": [
        {
          "output_type": "stream",
          "text": [
            "[1, 2, 3, 4, 6, 7, 8, 9, 10]\n"
          ],
          "name": "stdout"
        }
      ]
    },
    {
      "cell_type": "code",
      "metadata": {
        "id": "B4yvoEI_ammH",
        "colab_type": "code",
        "colab": {},
        "outputId": "50a42543-5fc9-45cb-9ee0-4f67b138ca63"
      },
      "source": [
        "list1.remove(9)\n",
        "print(list1)"
      ],
      "execution_count": 0,
      "outputs": [
        {
          "output_type": "stream",
          "text": [
            "[1, 2, 3, 4, 6, 7, 8, 10]\n"
          ],
          "name": "stdout"
        }
      ]
    },
    {
      "cell_type": "code",
      "metadata": {
        "id": "tgbWf1-JammM",
        "colab_type": "code",
        "colab": {},
        "outputId": "3ca4c198-f4de-4a54-fd3c-61b0a35e96d7"
      },
      "source": [
        "list1.sort()\n",
        "print(list1)"
      ],
      "execution_count": 0,
      "outputs": [
        {
          "output_type": "stream",
          "text": [
            "[1, 2, 3, 4, 6, 7, 8, 10]\n"
          ],
          "name": "stdout"
        }
      ]
    },
    {
      "cell_type": "code",
      "metadata": {
        "id": "M6Huv_KOammR",
        "colab_type": "code",
        "colab": {},
        "outputId": "f527d2d4-e40c-4cff-c5ad-40573c3380ec"
      },
      "source": [
        "li1=[11,23,15,-7]\n",
        "print(li1)\n"
      ],
      "execution_count": 0,
      "outputs": [
        {
          "output_type": "stream",
          "text": [
            "[11, 23, 15, -7]\n"
          ],
          "name": "stdout"
        }
      ]
    },
    {
      "cell_type": "code",
      "metadata": {
        "id": "8jueYltXammU",
        "colab_type": "code",
        "colab": {},
        "outputId": "703d7fab-6274-49cf-a2cf-dd8b4c906588"
      },
      "source": [
        "li1.sort()\n",
        "print(li1)\n",
        "      "
      ],
      "execution_count": 0,
      "outputs": [
        {
          "output_type": "stream",
          "text": [
            "[-7, 11, 15, 23]\n"
          ],
          "name": "stdout"
        }
      ]
    },
    {
      "cell_type": "code",
      "metadata": {
        "id": "Q6Lo6szNammZ",
        "colab_type": "code",
        "colab": {},
        "outputId": "ccf6f0d4-7c19-4f02-dec1-4412d2f3c9b0"
      },
      "source": [
        "li1.reverse()\n",
        "print(li1)"
      ],
      "execution_count": 0,
      "outputs": [
        {
          "output_type": "stream",
          "text": [
            "[23, 15, 11, -7]\n"
          ],
          "name": "stdout"
        }
      ]
    },
    {
      "cell_type": "code",
      "metadata": {
        "id": "2pTKelBSammf",
        "colab_type": "code",
        "colab": {}
      },
      "source": [
        "li1.append(11)"
      ],
      "execution_count": 0,
      "outputs": []
    },
    {
      "cell_type": "code",
      "metadata": {
        "id": "e25cVDLnammm",
        "colab_type": "code",
        "colab": {},
        "outputId": "279011fc-35eb-46b2-930e-5603b0127e11"
      },
      "source": [
        "print(li1.index(15))\n",
        "print(li1.count(11))"
      ],
      "execution_count": 0,
      "outputs": [
        {
          "output_type": "stream",
          "text": [
            "1\n",
            "2\n"
          ],
          "name": "stdout"
        }
      ]
    },
    {
      "cell_type": "code",
      "metadata": {
        "id": "GsH1KOGaammw",
        "colab_type": "code",
        "colab": {},
        "outputId": "857b96a3-b866-4dd6-c41b-34bf88732bad"
      },
      "source": [
        "li=[]\n",
        "li=li1.copy()\n",
        "print(li)"
      ],
      "execution_count": 0,
      "outputs": [
        {
          "output_type": "stream",
          "text": [
            "[23, 15, 11, -7, 11]\n"
          ],
          "name": "stdout"
        }
      ]
    },
    {
      "cell_type": "code",
      "metadata": {
        "id": "qWVVKc39amm1",
        "colab_type": "code",
        "colab": {},
        "outputId": "fce1e371-dd53-409b-b8c3-f356f6d54113"
      },
      "source": [
        "list1 = [1,2,3,4,5]\n",
        "list2 = []\n",
        "list3 = []\n",
        "list2 = list1\n",
        "print(list2)\n",
        "list3 = list1.copy()\n",
        "print(list3)\n",
        "list1.append(6)\n",
        "list1.append(7)\n",
        "print(list1,list2,list3)"
      ],
      "execution_count": 0,
      "outputs": [
        {
          "output_type": "stream",
          "text": [
            "[1, 2, 3, 4, 5]\n",
            "[1, 2, 3, 4, 5]\n",
            "[1, 2, 3, 4, 5, 6, 7] [1, 2, 3, 4, 5, 6, 7] [1, 2, 3, 4, 5]\n"
          ],
          "name": "stdout"
        }
      ]
    },
    {
      "cell_type": "code",
      "metadata": {
        "id": "Xwm2m-Cyamm9",
        "colab_type": "code",
        "colab": {}
      },
      "source": [
        "list2=list1"
      ],
      "execution_count": 0,
      "outputs": []
    },
    {
      "cell_type": "code",
      "metadata": {
        "id": "BFADD9DgamnD",
        "colab_type": "code",
        "colab": {},
        "outputId": "39906d95-98bb-46f7-d804-1853fb5d5f9b"
      },
      "source": [
        "list1=[]\n",
        "list1=li1.copy()\n",
        "print(list1)"
      ],
      "execution_count": 0,
      "outputs": [
        {
          "output_type": "stream",
          "text": [
            "[23, 15, 11, -7, 11]\n"
          ],
          "name": "stdout"
        }
      ]
    },
    {
      "cell_type": "code",
      "metadata": {
        "id": "emtbg8soamnJ",
        "colab_type": "code",
        "colab": {}
      },
      "source": [
        "li2=li1\n"
      ],
      "execution_count": 0,
      "outputs": []
    },
    {
      "cell_type": "code",
      "metadata": {
        "id": "Sk-Y6eNIamnQ",
        "colab_type": "code",
        "colab": {}
      },
      "source": [
        "li1.append(89)"
      ],
      "execution_count": 0,
      "outputs": []
    },
    {
      "cell_type": "code",
      "metadata": {
        "id": "isjWQGAtamnX",
        "colab_type": "code",
        "colab": {},
        "outputId": "09a9711e-0fbe-4851-a720-3b32871f6aa7"
      },
      "source": [
        "li2"
      ],
      "execution_count": 0,
      "outputs": [
        {
          "output_type": "execute_result",
          "data": {
            "text/plain": [
              "[23, 15, 11, -7, 11, 89]"
            ]
          },
          "metadata": {
            "tags": []
          },
          "execution_count": 39
        }
      ]
    },
    {
      "cell_type": "code",
      "metadata": {
        "id": "1HPnJFh7amne",
        "colab_type": "code",
        "colab": {},
        "outputId": "9d72994e-c1e6-44bd-98de-3dc688563f69"
      },
      "source": [
        "li1"
      ],
      "execution_count": 0,
      "outputs": [
        {
          "output_type": "execute_result",
          "data": {
            "text/plain": [
              "[23, 15, 11, -7, 11, 89]"
            ]
          },
          "metadata": {
            "tags": []
          },
          "execution_count": 40
        }
      ]
    },
    {
      "cell_type": "code",
      "metadata": {
        "id": "nkfKMrM9amnr",
        "colab_type": "code",
        "colab": {}
      },
      "source": [
        "f=open(\"sample.txt\",\"w\")\n",
        "f.write(\"HI WELCOME...!\")\n",
        "f.close()"
      ],
      "execution_count": 0,
      "outputs": []
    },
    {
      "cell_type": "code",
      "metadata": {
        "id": "52fy3BTXamnv",
        "colab_type": "code",
        "colab": {},
        "outputId": "e014d071-b788-40c0-885c-c6f32fe67ce3"
      },
      "source": [
        "f=open(\"sample.txt\",\"r\")\n",
        "a=f.read()\n",
        "print(a)\n",
        "f.close()"
      ],
      "execution_count": 0,
      "outputs": [
        {
          "output_type": "stream",
          "text": [
            "HI WELCOME...!\n"
          ],
          "name": "stdout"
        }
      ]
    },
    {
      "cell_type": "code",
      "metadata": {
        "id": "Y4Uo4TDzamn0",
        "colab_type": "code",
        "colab": {}
      },
      "source": [
        "f=open(\"sample.txt\",\"a\")\n",
        "f.write(\"HI MSD.!\")\n",
        "f.close()"
      ],
      "execution_count": 0,
      "outputs": []
    },
    {
      "cell_type": "code",
      "metadata": {
        "id": "l3kzNGacamn3",
        "colab_type": "code",
        "colab": {},
        "outputId": "7a7e5391-d98b-49d2-e1be-c1a78b093ca0"
      },
      "source": [
        "f=open(\"sample.txt\",\"r\")\n",
        "a=f.read()\n",
        "print(a)\n",
        "f.close()"
      ],
      "execution_count": 0,
      "outputs": [
        {
          "output_type": "stream",
          "text": [
            "HI MSD.!\n"
          ],
          "name": "stdout"
        }
      ]
    },
    {
      "cell_type": "code",
      "metadata": {
        "id": "0Ot3AjqDamn5",
        "colab_type": "code",
        "colab": {}
      },
      "source": [
        ""
      ],
      "execution_count": 0,
      "outputs": []
    }
  ]
}