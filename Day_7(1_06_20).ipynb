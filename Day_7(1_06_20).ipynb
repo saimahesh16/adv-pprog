{
  "nbformat": 4,
  "nbformat_minor": 0,
  "metadata": {
    "kernelspec": {
      "display_name": "Python 3",
      "language": "python",
      "name": "python3"
    },
    "language_info": {
      "codemirror_mode": {
        "name": "ipython",
        "version": 3
      },
      "file_extension": ".py",
      "mimetype": "text/x-python",
      "name": "python",
      "nbconvert_exporter": "python",
      "pygments_lexer": "ipython3",
      "version": "3.7.6"
    },
    "colab": {
      "name": "Day 7(1-06-20).ipynb",
      "provenance": [],
      "include_colab_link": true
    }
  },
  "cells": [
    {
      "cell_type": "markdown",
      "metadata": {
        "id": "view-in-github",
        "colab_type": "text"
      },
      "source": [
        "<a href=\"https://colab.research.google.com/github/saimahesh16/adv-pprog/blob/master/Day_7(1_06_20).ipynb\" target=\"_parent\"><img src=\"https://colab.research.google.com/assets/colab-badge.svg\" alt=\"Open In Colab\"/></a>"
      ]
    },
    {
      "cell_type": "code",
      "metadata": {
        "id": "pu3Ue8W-o8zK",
        "colab_type": "code",
        "colab": {}
      },
      "source": [
        "import os\n",
        "os.rename(\"sample.txt\",\"demo.txt\")"
      ],
      "execution_count": 0,
      "outputs": []
    },
    {
      "cell_type": "code",
      "metadata": {
        "id": "Iuxc4aSRo8zS",
        "colab_type": "code",
        "colab": {}
      },
      "source": [
        "os.remove(\"demo.txt\")"
      ],
      "execution_count": 0,
      "outputs": []
    },
    {
      "cell_type": "code",
      "metadata": {
        "id": "yYE4o2Dco8zZ",
        "colab_type": "code",
        "colab": {},
        "outputId": "c38b45c7-45d9-4d7d-a98c-8d6d1c4ab442"
      },
      "source": [
        "tup1 = (12,3,345.56,\"abc\",True)\n",
        "print(type(tup1))"
      ],
      "execution_count": 0,
      "outputs": [
        {
          "output_type": "stream",
          "text": [
            "<class 'tuple'>\n"
          ],
          "name": "stdout"
        }
      ]
    },
    {
      "cell_type": "code",
      "metadata": {
        "id": "bQpO1B1mo8zk",
        "colab_type": "code",
        "colab": {},
        "outputId": "3ac3e5a5-fb93-4a00-a824-ce4a5e58c7c6"
      },
      "source": [
        "print(tup1[2])\n",
        "print(tup1[-1])"
      ],
      "execution_count": 0,
      "outputs": [
        {
          "output_type": "stream",
          "text": [
            "345.56\n",
            "True\n"
          ],
          "name": "stdout"
        }
      ]
    },
    {
      "cell_type": "code",
      "metadata": {
        "id": "EgAKBJP6o8zr",
        "colab_type": "code",
        "colab": {},
        "outputId": "f285fa67-bd33-4544-e9db-a44f6bf377a6"
      },
      "source": [
        "l = list(tup1)\n",
        "l[2] = 100\n",
        "tup1 = tuple(l)\n",
        "tup1"
      ],
      "execution_count": 0,
      "outputs": [
        {
          "output_type": "execute_result",
          "data": {
            "text/plain": [
              "(12, 3, 100, 'abc', True)"
            ]
          },
          "metadata": {
            "tags": []
          },
          "execution_count": 6
        }
      ]
    },
    {
      "cell_type": "code",
      "metadata": {
        "id": "IkXA1gfMo8zx",
        "colab_type": "code",
        "colab": {},
        "outputId": "719fcde4-095e-4e45-adbd-dee04f72d1fa"
      },
      "source": [
        "print(tup1.count(1))\n",
        "print(tup1.index(12))"
      ],
      "execution_count": 0,
      "outputs": [
        {
          "output_type": "stream",
          "text": [
            "1\n",
            "0\n"
          ],
          "name": "stdout"
        }
      ]
    },
    {
      "cell_type": "code",
      "metadata": {
        "id": "8soxzoVwo8z2",
        "colab_type": "code",
        "colab": {},
        "outputId": "bfd4140f-739b-4137-d82d-2694c4407615"
      },
      "source": [
        "tup2 = (12,232,4,564)\n",
        "a,b,c,d = tup2\n",
        "print(d)"
      ],
      "execution_count": 0,
      "outputs": [
        {
          "output_type": "stream",
          "text": [
            "564\n"
          ],
          "name": "stdout"
        }
      ]
    },
    {
      "cell_type": "code",
      "metadata": {
        "id": "XHfUdQhJo8z8",
        "colab_type": "code",
        "colab": {},
        "outputId": "d15cebed-75c4-4179-d8a3-33ce2cec6192"
      },
      "source": [
        "x = 10,20,30\n",
        "print(type(x))\n",
        "print(x)"
      ],
      "execution_count": 0,
      "outputs": [
        {
          "output_type": "stream",
          "text": [
            "<class 'tuple'>\n",
            "(10, 20, 30)\n"
          ],
          "name": "stdout"
        }
      ]
    },
    {
      "cell_type": "code",
      "metadata": {
        "id": "wtLhQhngo80D",
        "colab_type": "code",
        "colab": {},
        "outputId": "6ba7fa06-91bd-462a-f149-87826aa6953c"
      },
      "source": [
        "y = (10,)\n",
        "print(type(y))"
      ],
      "execution_count": 0,
      "outputs": [
        {
          "output_type": "stream",
          "text": [
            "<class 'tuple'>\n"
          ],
          "name": "stdout"
        }
      ]
    },
    {
      "cell_type": "code",
      "metadata": {
        "id": "LVFwCmTao80J",
        "colab_type": "code",
        "colab": {},
        "outputId": "b9a3de2d-44ba-48f2-9d4a-3951184ae964"
      },
      "source": [
        "for element in x:\n",
        "    print(element,end=\" \")"
      ],
      "execution_count": 0,
      "outputs": [
        {
          "output_type": "stream",
          "text": [
            "10 20 30 "
          ],
          "name": "stdout"
        }
      ]
    },
    {
      "cell_type": "code",
      "metadata": {
        "id": "UT4HMHRpo80P",
        "colab_type": "code",
        "colab": {},
        "outputId": "05c110a9-f9d0-4cc0-cef7-c316f5d4f29a"
      },
      "source": [
        "y=(10)\n",
        "print(type(y))"
      ],
      "execution_count": 0,
      "outputs": [
        {
          "output_type": "stream",
          "text": [
            "<class 'int'>\n"
          ],
          "name": "stdout"
        }
      ]
    },
    {
      "cell_type": "code",
      "metadata": {
        "id": "Asb_fPA7o80W",
        "colab_type": "code",
        "colab": {},
        "outputId": "63acd134-5180-4567-b3ca-000fdca11c0c"
      },
      "source": [
        "set1 = {1,2,3,44,55,66,2,1}\n",
        "print(set1)"
      ],
      "execution_count": 0,
      "outputs": [
        {
          "output_type": "stream",
          "text": [
            "{1, 2, 3, 66, 44, 55}\n"
          ],
          "name": "stdout"
        }
      ]
    },
    {
      "cell_type": "code",
      "metadata": {
        "scrolled": true,
        "id": "3hVX58uwo80b",
        "colab_type": "code",
        "colab": {},
        "outputId": "e5dcd775-fd5e-4916-81ea-d72c55bec249"
      },
      "source": [
        "for elements in set1:\n",
        "    print(elements)"
      ],
      "execution_count": 0,
      "outputs": [
        {
          "output_type": "stream",
          "text": [
            "1\n",
            "2\n",
            "3\n",
            "66\n",
            "44\n",
            "55\n"
          ],
          "name": "stdout"
        }
      ]
    },
    {
      "cell_type": "code",
      "metadata": {
        "id": "aoNCrJ2bo80h",
        "colab_type": "code",
        "colab": {},
        "outputId": "b3058317-f0c5-4d1e-ef17-c6cfe395439e"
      },
      "source": [
        "len(set1)"
      ],
      "execution_count": 0,
      "outputs": [
        {
          "output_type": "execute_result",
          "data": {
            "text/plain": [
              "6"
            ]
          },
          "metadata": {
            "tags": []
          },
          "execution_count": 18
        }
      ]
    },
    {
      "cell_type": "code",
      "metadata": {
        "id": "UkgM1Llso80l",
        "colab_type": "code",
        "colab": {},
        "outputId": "ee388959-75a0-4074-d6c5-74b8ee0fd2f3"
      },
      "source": [
        "min(set1)"
      ],
      "execution_count": 0,
      "outputs": [
        {
          "output_type": "execute_result",
          "data": {
            "text/plain": [
              "1"
            ]
          },
          "metadata": {
            "tags": []
          },
          "execution_count": 19
        }
      ]
    },
    {
      "cell_type": "code",
      "metadata": {
        "id": "gNpmMXk8o80p",
        "colab_type": "code",
        "colab": {},
        "outputId": "98dbf5cb-dec6-4dc9-f2bd-f4c4fd7079d8"
      },
      "source": [
        "max(set1)"
      ],
      "execution_count": 0,
      "outputs": [
        {
          "output_type": "execute_result",
          "data": {
            "text/plain": [
              "66"
            ]
          },
          "metadata": {
            "tags": []
          },
          "execution_count": 20
        }
      ]
    },
    {
      "cell_type": "code",
      "metadata": {
        "id": "HMW37Yvco80s",
        "colab_type": "code",
        "colab": {},
        "outputId": "d6ccdecb-d925-4f73-87f5-7bf0f1e0ae93"
      },
      "source": [
        "set1.pop()"
      ],
      "execution_count": 0,
      "outputs": [
        {
          "output_type": "execute_result",
          "data": {
            "text/plain": [
              "1"
            ]
          },
          "metadata": {
            "tags": []
          },
          "execution_count": 21
        }
      ]
    },
    {
      "cell_type": "code",
      "metadata": {
        "id": "Q1sQyWj6o80v",
        "colab_type": "code",
        "colab": {}
      },
      "source": [
        "set1.add(6)"
      ],
      "execution_count": 0,
      "outputs": []
    },
    {
      "cell_type": "code",
      "metadata": {
        "id": "sS3LYhQ2o801",
        "colab_type": "code",
        "colab": {},
        "outputId": "0123c509-3905-48e2-d4c9-b73ce95a2098"
      },
      "source": [
        "set1"
      ],
      "execution_count": 0,
      "outputs": [
        {
          "output_type": "execute_result",
          "data": {
            "text/plain": [
              "{2, 3, 6, 44, 55, 66}"
            ]
          },
          "metadata": {
            "tags": []
          },
          "execution_count": 23
        }
      ]
    },
    {
      "cell_type": "code",
      "metadata": {
        "id": "7cM3wq9yo803",
        "colab_type": "code",
        "colab": {},
        "outputId": "690b2687-3182-4bfe-d601-e6e2b17ddc43"
      },
      "source": [
        "set22 = {1,5,88,99}\n",
        "set22.union(set1)"
      ],
      "execution_count": 0,
      "outputs": [
        {
          "output_type": "execute_result",
          "data": {
            "text/plain": [
              "{1, 2, 3, 5, 6, 44, 55, 66, 88, 99}"
            ]
          },
          "metadata": {
            "tags": []
          },
          "execution_count": 24
        }
      ]
    },
    {
      "cell_type": "code",
      "metadata": {
        "id": "kqqGBdXKo806",
        "colab_type": "code",
        "colab": {},
        "outputId": "0a661c9f-2842-41da-8cff-e2c8faef934b"
      },
      "source": [
        "set22.difference(set1)"
      ],
      "execution_count": 0,
      "outputs": [
        {
          "output_type": "execute_result",
          "data": {
            "text/plain": [
              "{1, 5, 88, 99}"
            ]
          },
          "metadata": {
            "tags": []
          },
          "execution_count": 25
        }
      ]
    },
    {
      "cell_type": "code",
      "metadata": {
        "id": "KO5i7dKKo809",
        "colab_type": "code",
        "colab": {}
      },
      "source": [
        "set1.remove(3)"
      ],
      "execution_count": 0,
      "outputs": []
    },
    {
      "cell_type": "code",
      "metadata": {
        "id": "W4RIHMtlo81A",
        "colab_type": "code",
        "colab": {}
      },
      "source": [
        "set1.discard(1)"
      ],
      "execution_count": 0,
      "outputs": []
    },
    {
      "cell_type": "code",
      "metadata": {
        "id": "f-dV0D1vo81C",
        "colab_type": "code",
        "colab": {},
        "outputId": "fe505aba-3e5c-4950-aa91-1e16ae06898d"
      },
      "source": [
        "set1"
      ],
      "execution_count": 0,
      "outputs": [
        {
          "output_type": "execute_result",
          "data": {
            "text/plain": [
              "{2, 6, 44, 55, 66}"
            ]
          },
          "metadata": {
            "tags": []
          },
          "execution_count": 29
        }
      ]
    },
    {
      "cell_type": "code",
      "metadata": {
        "id": "f64vprwzo81F",
        "colab_type": "code",
        "colab": {}
      },
      "source": [
        "set1.clear()"
      ],
      "execution_count": 0,
      "outputs": []
    },
    {
      "cell_type": "code",
      "metadata": {
        "id": "JnfjTPweo81I",
        "colab_type": "code",
        "colab": {},
        "outputId": "b41d8bb3-143f-4bbd-d918-45c9910d4063"
      },
      "source": [
        "set1 = {1,2,3,4,5,8,9}\n",
        "set22.intersection(set1)"
      ],
      "execution_count": 0,
      "outputs": [
        {
          "output_type": "execute_result",
          "data": {
            "text/plain": [
              "{1, 5}"
            ]
          },
          "metadata": {
            "tags": []
          },
          "execution_count": 31
        }
      ]
    },
    {
      "cell_type": "code",
      "metadata": {
        "id": "br_dU0duo81P",
        "colab_type": "code",
        "colab": {},
        "outputId": "96b59214-dbdd-475e-f747-5950c31ca6f9"
      },
      "source": [
        "set1.issubset(set22)"
      ],
      "execution_count": 0,
      "outputs": [
        {
          "output_type": "execute_result",
          "data": {
            "text/plain": [
              "False"
            ]
          },
          "metadata": {
            "tags": []
          },
          "execution_count": 32
        }
      ]
    },
    {
      "cell_type": "code",
      "metadata": {
        "id": "pAa3OrJVo81U",
        "colab_type": "code",
        "colab": {},
        "outputId": "482e22a2-e274-4fa1-a01a-af12b531b999"
      },
      "source": [
        "set1.issuperset(set22)"
      ],
      "execution_count": 0,
      "outputs": [
        {
          "output_type": "execute_result",
          "data": {
            "text/plain": [
              "False"
            ]
          },
          "metadata": {
            "tags": []
          },
          "execution_count": 34
        }
      ]
    },
    {
      "cell_type": "code",
      "metadata": {
        "id": "kKPn0m95o81W",
        "colab_type": "code",
        "colab": {},
        "outputId": "e3f885cc-1ef3-4e86-99d9-e2760f8bdea2"
      },
      "source": [
        "set1.isdisjoint(set22)"
      ],
      "execution_count": 0,
      "outputs": [
        {
          "output_type": "execute_result",
          "data": {
            "text/plain": [
              "False"
            ]
          },
          "metadata": {
            "tags": []
          },
          "execution_count": 35
        }
      ]
    },
    {
      "cell_type": "code",
      "metadata": {
        "id": "FsPHMXyJo81Y",
        "colab_type": "code",
        "colab": {},
        "outputId": "b14c479f-de95-4be2-c384-5529c5ea2a25"
      },
      "source": [
        "set22.symmetric_difference(set1)"
      ],
      "execution_count": 0,
      "outputs": [
        {
          "output_type": "execute_result",
          "data": {
            "text/plain": [
              "{2, 3, 4, 8, 9, 88, 99}"
            ]
          },
          "metadata": {
            "tags": []
          },
          "execution_count": 36
        }
      ]
    },
    {
      "cell_type": "code",
      "metadata": {
        "id": "t4yOGjNfo81Z",
        "colab_type": "code",
        "colab": {}
      },
      "source": [
        "set1.update(set22)"
      ],
      "execution_count": 0,
      "outputs": []
    },
    {
      "cell_type": "code",
      "metadata": {
        "id": "zAfVC5Wvo81c",
        "colab_type": "code",
        "colab": {},
        "outputId": "de8e5f42-5b9a-49f3-e96a-54c3f14016a0"
      },
      "source": [
        "set1"
      ],
      "execution_count": 0,
      "outputs": [
        {
          "output_type": "execute_result",
          "data": {
            "text/plain": [
              "{1, 2, 3, 4, 5, 8, 9, 88, 99}"
            ]
          },
          "metadata": {
            "tags": []
          },
          "execution_count": 39
        }
      ]
    },
    {
      "cell_type": "code",
      "metadata": {
        "id": "4-CkTIG9o81f",
        "colab_type": "code",
        "colab": {}
      },
      "source": [
        "set22.intersection_update(set1)"
      ],
      "execution_count": 0,
      "outputs": []
    },
    {
      "cell_type": "code",
      "metadata": {
        "id": "vmw0LEL4o81h",
        "colab_type": "code",
        "colab": {},
        "outputId": "9fd07901-5e15-47b7-8da8-c2924b26f5fe"
      },
      "source": [
        "set22"
      ],
      "execution_count": 0,
      "outputs": [
        {
          "output_type": "execute_result",
          "data": {
            "text/plain": [
              "{1, 5, 88, 99}"
            ]
          },
          "metadata": {
            "tags": []
          },
          "execution_count": 41
        }
      ]
    },
    {
      "cell_type": "code",
      "metadata": {
        "id": "HsylMD0Fo81j",
        "colab_type": "code",
        "colab": {}
      },
      "source": [
        "set22.difference_update(set1)"
      ],
      "execution_count": 0,
      "outputs": []
    },
    {
      "cell_type": "code",
      "metadata": {
        "id": "NYC847Cdo81m",
        "colab_type": "code",
        "colab": {},
        "outputId": "339f8e83-82d4-4a26-e612-3d820157493d"
      },
      "source": [
        "dict1 = {\"name\":\"mahesh\",\"emp id\":4563,\"address\":\"hyd\"}\n",
        "print(dict1)"
      ],
      "execution_count": 0,
      "outputs": [
        {
          "output_type": "stream",
          "text": [
            "{'name': 'mahesh', 'emp id': 4563, 'address': 'hyd'}\n"
          ],
          "name": "stdout"
        }
      ]
    },
    {
      "cell_type": "code",
      "metadata": {
        "id": "9ryFpA_jo81o",
        "colab_type": "code",
        "colab": {},
        "outputId": "57432c3d-8dae-4538-f503-45846693de38"
      },
      "source": [
        "print(dict1[\"emp id\"])"
      ],
      "execution_count": 0,
      "outputs": [
        {
          "output_type": "stream",
          "text": [
            "4563\n"
          ],
          "name": "stdout"
        }
      ]
    },
    {
      "cell_type": "code",
      "metadata": {
        "id": "67oDTmASo81q",
        "colab_type": "code",
        "colab": {},
        "outputId": "93cdf9e1-dde4-4606-a7bb-8545f33fa8b1"
      },
      "source": [
        "del dict1[\"address\"]\n",
        "print(dict1)"
      ],
      "execution_count": 0,
      "outputs": [
        {
          "output_type": "stream",
          "text": [
            "{'name': 'mahesh', 'emp id': 4563}\n"
          ],
          "name": "stdout"
        }
      ]
    },
    {
      "cell_type": "code",
      "metadata": {
        "id": "VH6BcmGIo81u",
        "colab_type": "code",
        "colab": {},
        "outputId": "30f864f6-540f-4a43-cbda-64da40d876eb"
      },
      "source": [
        "dict1[\"course\"] = \"python\"\n",
        "print(dict1)"
      ],
      "execution_count": 0,
      "outputs": [
        {
          "output_type": "stream",
          "text": [
            "{'name': 'mahesh', 'emp id': 4563, 'course': 'python'}\n"
          ],
          "name": "stdout"
        }
      ]
    },
    {
      "cell_type": "code",
      "metadata": {
        "id": "R9VHKwDxo81w",
        "colab_type": "code",
        "colab": {},
        "outputId": "f62ed40a-aed6-4142-afd9-827d83f2c90f"
      },
      "source": [
        "print(dict1.keys())\n",
        "print(dict1.values())\n",
        "print(dict1.items())"
      ],
      "execution_count": 0,
      "outputs": [
        {
          "output_type": "stream",
          "text": [
            "dict_keys(['name', 'emp id', 'course'])\n",
            "dict_values(['mahesh', 4563, 'python'])\n",
            "dict_items([('name', 'mahesh'), ('emp id', 4563), ('course', 'python')])\n"
          ],
          "name": "stdout"
        }
      ]
    },
    {
      "cell_type": "code",
      "metadata": {
        "id": "yPYppEzNo81x",
        "colab_type": "code",
        "colab": {},
        "outputId": "3ab004cf-e4d2-4045-aae1-71dddd1c955a"
      },
      "source": [
        "print(dict1.get(\"name\"))"
      ],
      "execution_count": 0,
      "outputs": [
        {
          "output_type": "stream",
          "text": [
            "mahesh\n"
          ],
          "name": "stdout"
        }
      ]
    },
    {
      "cell_type": "code",
      "metadata": {
        "id": "z0KNbu7Ao810",
        "colab_type": "code",
        "colab": {},
        "outputId": "5a87c3b9-9a9f-45c3-d47b-65544b1a46bf"
      },
      "source": [
        "dict1[\"address\"] = \"hyd\"\n",
        "dict1"
      ],
      "execution_count": 0,
      "outputs": [
        {
          "output_type": "execute_result",
          "data": {
            "text/plain": [
              "{'name': 'mahesh', 'emp id': 4563, 'course': 'python', 'address': 'hyd'}"
            ]
          },
          "metadata": {
            "tags": []
          },
          "execution_count": 52
        }
      ]
    },
    {
      "cell_type": "code",
      "metadata": {
        "id": "oGatswnso813",
        "colab_type": "code",
        "colab": {},
        "outputId": "c0e222eb-eb42-4ce1-d821-0ab577695c85"
      },
      "source": [
        "d = {1:1,2:2,3:3}\n",
        "dict1.update(d)\n",
        "print(dict1)"
      ],
      "execution_count": 0,
      "outputs": [
        {
          "output_type": "stream",
          "text": [
            "{'name': 'mahesh', 'emp id': 4563, 'course': 'python', 'address': 'hyd', 1: 1, 2: 2, 3: 3}\n"
          ],
          "name": "stdout"
        }
      ]
    },
    {
      "cell_type": "code",
      "metadata": {
        "id": "8wznjLspo815",
        "colab_type": "code",
        "colab": {},
        "outputId": "1eb660e0-57ce-4635-a6a2-a8725850600d"
      },
      "source": [
        "dict1.pop(\"name\")\n",
        "dict1"
      ],
      "execution_count": 0,
      "outputs": [
        {
          "output_type": "error",
          "ename": "KeyError",
          "evalue": "'name'",
          "traceback": [
            "\u001b[1;31m---------------------------------------------------------------------------\u001b[0m",
            "\u001b[1;31mKeyError\u001b[0m                                  Traceback (most recent call last)",
            "\u001b[1;32m<ipython-input-60-069d27591af2>\u001b[0m in \u001b[0;36m<module>\u001b[1;34m\u001b[0m\n\u001b[1;32m----> 1\u001b[1;33m \u001b[0mdict1\u001b[0m\u001b[1;33m.\u001b[0m\u001b[0mpop\u001b[0m\u001b[1;33m(\u001b[0m\u001b[1;34m\"name\"\u001b[0m\u001b[1;33m)\u001b[0m\u001b[1;33m\u001b[0m\u001b[1;33m\u001b[0m\u001b[0m\n\u001b[0m\u001b[0;32m      2\u001b[0m \u001b[0mdict1\u001b[0m\u001b[1;33m\u001b[0m\u001b[1;33m\u001b[0m\u001b[0m\n",
            "\u001b[1;31mKeyError\u001b[0m: 'name'"
          ]
        }
      ]
    },
    {
      "cell_type": "code",
      "metadata": {
        "id": "hw0iV8R6o817",
        "colab_type": "code",
        "colab": {},
        "outputId": "e9471b13-1691-4627-b1b7-05b34273fad9"
      },
      "source": [
        "dict1.popitem()"
      ],
      "execution_count": 0,
      "outputs": [
        {
          "output_type": "execute_result",
          "data": {
            "text/plain": [
              "(2, 2)"
            ]
          },
          "metadata": {
            "tags": []
          },
          "execution_count": 61
        }
      ]
    },
    {
      "cell_type": "code",
      "metadata": {
        "id": "QUEKAc8wo819",
        "colab_type": "code",
        "colab": {},
        "outputId": "ee3634ec-bd81-47b8-f729-3b7f18ba2446"
      },
      "source": [
        "dict1"
      ],
      "execution_count": 0,
      "outputs": [
        {
          "output_type": "execute_result",
          "data": {
            "text/plain": [
              "{'emp id': 4563, 'course': 'python', 'address': 'hyd', 1: 1}"
            ]
          },
          "metadata": {
            "tags": []
          },
          "execution_count": 62
        }
      ]
    },
    {
      "cell_type": "code",
      "metadata": {
        "id": "J5DuEU3fo82A",
        "colab_type": "code",
        "colab": {}
      },
      "source": [
        ""
      ],
      "execution_count": 0,
      "outputs": []
    }
  ]
}