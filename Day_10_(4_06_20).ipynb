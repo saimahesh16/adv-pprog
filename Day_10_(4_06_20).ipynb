{
  "nbformat": 4,
  "nbformat_minor": 0,
  "metadata": {
    "kernelspec": {
      "display_name": "Python 3",
      "language": "python",
      "name": "python3"
    },
    "language_info": {
      "codemirror_mode": {
        "name": "ipython",
        "version": 3
      },
      "file_extension": ".py",
      "mimetype": "text/x-python",
      "name": "python",
      "nbconvert_exporter": "python",
      "pygments_lexer": "ipython3",
      "version": "3.7.6"
    },
    "colab": {
      "name": " Day 10 (4-06-20).ipynb",
      "provenance": [],
      "include_colab_link": true
    }
  },
  "cells": [
    {
      "cell_type": "markdown",
      "metadata": {
        "id": "view-in-github",
        "colab_type": "text"
      },
      "source": [
        "<a href=\"https://colab.research.google.com/github/saimahesh16/adv-pprog/blob/master/Day_10_(4_06_20).ipynb\" target=\"_parent\"><img src=\"https://colab.research.google.com/assets/colab-badge.svg\" alt=\"Open In Colab\"/></a>"
      ]
    },
    {
      "cell_type": "code",
      "metadata": {
        "id": "Y0iwDp1yVtb8",
        "colab_type": "code",
        "colab": {},
        "outputId": "72011318-4572-488e-a430-22dbba8bf00a"
      },
      "source": [
        "import numpy as np\n",
        "a1=np.array([[1,2,3],[3,4,5],[5,6,7]])\n",
        "a1"
      ],
      "execution_count": 0,
      "outputs": [
        {
          "output_type": "execute_result",
          "data": {
            "text/plain": [
              "array([[1, 2, 3],\n",
              "       [3, 4, 5],\n",
              "       [5, 6, 7]])"
            ]
          },
          "metadata": {
            "tags": []
          },
          "execution_count": 1
        }
      ]
    },
    {
      "cell_type": "code",
      "metadata": {
        "id": "ddNX4RGqVtcG",
        "colab_type": "code",
        "colab": {},
        "outputId": "b89049d3-ca82-4770-8f7a-50a7b3392585"
      },
      "source": [
        "a1.ndim"
      ],
      "execution_count": 0,
      "outputs": [
        {
          "output_type": "execute_result",
          "data": {
            "text/plain": [
              "2"
            ]
          },
          "metadata": {
            "tags": []
          },
          "execution_count": 2
        }
      ]
    },
    {
      "cell_type": "code",
      "metadata": {
        "id": "H0iHyyODVtcM",
        "colab_type": "code",
        "colab": {},
        "outputId": "28543dda-b3b8-457f-e059-84c5c48e5be6"
      },
      "source": [
        "a1.shape"
      ],
      "execution_count": 0,
      "outputs": [
        {
          "output_type": "execute_result",
          "data": {
            "text/plain": [
              "(3, 3)"
            ]
          },
          "metadata": {
            "tags": []
          },
          "execution_count": 3
        }
      ]
    },
    {
      "cell_type": "code",
      "metadata": {
        "id": "h3kejKhFVtcU",
        "colab_type": "code",
        "colab": {},
        "outputId": "74fbe101-ddc2-4379-c9d2-18a92ec68f06"
      },
      "source": [
        "a2=np.arange(1,10)\n",
        "a3=np.array([[1,2,3],[3,4,6]])\n",
        "print(a2,a3)"
      ],
      "execution_count": 0,
      "outputs": [
        {
          "output_type": "stream",
          "text": [
            "[1 2 3 4 5 6 7 8 9] [[1 2 3]\n",
            " [3 4 6]]\n"
          ],
          "name": "stdout"
        }
      ]
    },
    {
      "cell_type": "code",
      "metadata": {
        "id": "ewCOzQYbVtcZ",
        "colab_type": "code",
        "colab": {},
        "outputId": "27ba1f33-f065-458e-c158-2e3c17b9d98a"
      },
      "source": [
        "a3=np.append(a3,int(input()))"
      ],
      "execution_count": 0,
      "outputs": [
        {
          "output_type": "stream",
          "text": [
            "15\n"
          ],
          "name": "stdout"
        }
      ]
    },
    {
      "cell_type": "code",
      "metadata": {
        "id": "W6Q0HPLwVtch",
        "colab_type": "code",
        "colab": {},
        "outputId": "d1ac5be2-315d-4481-8a7f-7d9e7c856839"
      },
      "source": [
        "a3"
      ],
      "execution_count": 0,
      "outputs": [
        {
          "output_type": "execute_result",
          "data": {
            "text/plain": [
              "array([ 1,  2,  3,  3,  4,  6, 15])"
            ]
          },
          "metadata": {
            "tags": []
          },
          "execution_count": 6
        }
      ]
    },
    {
      "cell_type": "code",
      "metadata": {
        "id": "CXKNnn18Vtcn",
        "colab_type": "code",
        "colab": {}
      },
      "source": [
        "a3=np.append(a3,[1,2,3,4,5])"
      ],
      "execution_count": 0,
      "outputs": []
    },
    {
      "cell_type": "code",
      "metadata": {
        "id": "-2TUjVUtVtcw",
        "colab_type": "code",
        "colab": {},
        "outputId": "4140d98d-0b7d-4b04-fd8c-ed73ba26ee36"
      },
      "source": [
        "a3"
      ],
      "execution_count": 0,
      "outputs": [
        {
          "output_type": "execute_result",
          "data": {
            "text/plain": [
              "array([ 1,  2,  3,  3,  4,  6, 15,  1,  2,  3,  4,  5])"
            ]
          },
          "metadata": {
            "tags": []
          },
          "execution_count": 8
        }
      ]
    },
    {
      "cell_type": "code",
      "metadata": {
        "id": "XXNJE8JyVtc3",
        "colab_type": "code",
        "colab": {},
        "outputId": "fcf9f7b8-e095-4f4a-ffb7-ae108830b747"
      },
      "source": [
        "a3.ndim"
      ],
      "execution_count": 0,
      "outputs": [
        {
          "output_type": "execute_result",
          "data": {
            "text/plain": [
              "1"
            ]
          },
          "metadata": {
            "tags": []
          },
          "execution_count": 9
        }
      ]
    },
    {
      "cell_type": "code",
      "metadata": {
        "id": "V5i0lE9wVtc9",
        "colab_type": "code",
        "colab": {},
        "outputId": "b863381c-ee90-4f18-f3e1-6ac255ae94f8"
      },
      "source": [
        "a3[5]"
      ],
      "execution_count": 0,
      "outputs": [
        {
          "output_type": "execute_result",
          "data": {
            "text/plain": [
              "6"
            ]
          },
          "metadata": {
            "tags": []
          },
          "execution_count": 10
        }
      ]
    },
    {
      "cell_type": "code",
      "metadata": {
        "id": "HI20nliqVtdE",
        "colab_type": "code",
        "colab": {},
        "outputId": "64d47f9b-8d2c-46fc-ae16-87d0e457be1d"
      },
      "source": [
        "a3[1:4]"
      ],
      "execution_count": 0,
      "outputs": [
        {
          "output_type": "execute_result",
          "data": {
            "text/plain": [
              "array([2, 3, 3])"
            ]
          },
          "metadata": {
            "tags": []
          },
          "execution_count": 11
        }
      ]
    },
    {
      "cell_type": "code",
      "metadata": {
        "id": "GR4dJXUiVtdJ",
        "colab_type": "code",
        "colab": {},
        "outputId": "abc0214a-2842-41c7-abe8-e155f62e2763"
      },
      "source": [
        "a3=np.array([[1,2,3],[3,4,6]])\n",
        "a3[0:2,1:]"
      ],
      "execution_count": 0,
      "outputs": [
        {
          "output_type": "execute_result",
          "data": {
            "text/plain": [
              "array([[2, 3],\n",
              "       [4, 6]])"
            ]
          },
          "metadata": {
            "tags": []
          },
          "execution_count": 12
        }
      ]
    },
    {
      "cell_type": "code",
      "metadata": {
        "id": "mYwQUPzkVtdO",
        "colab_type": "code",
        "colab": {},
        "outputId": "eca81627-00ab-4441-cf16-66b823889d55"
      },
      "source": [
        "a3[:,:]"
      ],
      "execution_count": 0,
      "outputs": [
        {
          "output_type": "execute_result",
          "data": {
            "text/plain": [
              "array([[1, 2, 3],\n",
              "       [3, 4, 6]])"
            ]
          },
          "metadata": {
            "tags": []
          },
          "execution_count": 13
        }
      ]
    },
    {
      "cell_type": "code",
      "metadata": {
        "id": "11bMSO3qVtdU",
        "colab_type": "code",
        "colab": {}
      },
      "source": [
        "a4=np.arange(1,21).reshape(5,4)"
      ],
      "execution_count": 0,
      "outputs": []
    },
    {
      "cell_type": "code",
      "metadata": {
        "id": "g4nANFl9VtdZ",
        "colab_type": "code",
        "colab": {},
        "outputId": "cfad8727-55f5-4171-c51c-74c3d358c2da"
      },
      "source": [
        "a4"
      ],
      "execution_count": 0,
      "outputs": [
        {
          "output_type": "execute_result",
          "data": {
            "text/plain": [
              "array([[ 1,  2,  3,  4],\n",
              "       [ 5,  6,  7,  8],\n",
              "       [ 9, 10, 11, 12],\n",
              "       [13, 14, 15, 16],\n",
              "       [17, 18, 19, 20]])"
            ]
          },
          "metadata": {
            "tags": []
          },
          "execution_count": 15
        }
      ]
    },
    {
      "cell_type": "code",
      "metadata": {
        "id": "Pla3dih9Vtdf",
        "colab_type": "code",
        "colab": {},
        "outputId": "2b582a68-67ac-4132-b70a-4a92d0dc8ff2"
      },
      "source": [
        "result= (a4%2==0)\n",
        "result"
      ],
      "execution_count": 0,
      "outputs": [
        {
          "output_type": "execute_result",
          "data": {
            "text/plain": [
              "array([[False,  True, False,  True],\n",
              "       [False,  True, False,  True],\n",
              "       [False,  True, False,  True],\n",
              "       [False,  True, False,  True],\n",
              "       [False,  True, False,  True]])"
            ]
          },
          "metadata": {
            "tags": []
          },
          "execution_count": 18
        }
      ]
    },
    {
      "cell_type": "code",
      "metadata": {
        "id": "ydjS9VKqVtdl",
        "colab_type": "code",
        "colab": {},
        "outputId": "9b951e5d-cbab-4b50-b2bb-660ce4131929"
      },
      "source": [
        "a4[result]"
      ],
      "execution_count": 0,
      "outputs": [
        {
          "output_type": "execute_result",
          "data": {
            "text/plain": [
              "array([ 2,  4,  6,  8, 10, 12, 14, 16, 18, 20])"
            ]
          },
          "metadata": {
            "tags": []
          },
          "execution_count": 19
        }
      ]
    },
    {
      "cell_type": "code",
      "metadata": {
        "id": "OY9DDdmXVtdq",
        "colab_type": "code",
        "colab": {},
        "outputId": "d11715c7-ec66-4ee6-ac64-0517f712c938"
      },
      "source": [
        "for row in a3:\n",
        "    print(row)\n",
        "for i in a3.flat:\n",
        "    print(i,end=\" \")"
      ],
      "execution_count": 0,
      "outputs": [
        {
          "output_type": "stream",
          "text": [
            "[1 2 3]\n",
            "[3 4 6]\n",
            "1 2 3 3 4 6 "
          ],
          "name": "stdout"
        }
      ]
    },
    {
      "cell_type": "code",
      "metadata": {
        "id": "o1eod0-9Vtdz",
        "colab_type": "code",
        "colab": {},
        "outputId": "0a661a91-904e-4ac8-9161-9553671334ae"
      },
      "source": [
        "ar1=np.arange(1,10).reshape(3,3)\n",
        "ar2=np.arange(11,20).reshape(3,3)\n",
        "print(np.hstack((ar1,ar2)))"
      ],
      "execution_count": 0,
      "outputs": [
        {
          "output_type": "stream",
          "text": [
            "[[ 1  2  3 11 12 13]\n",
            " [ 4  5  6 14 15 16]\n",
            " [ 7  8  9 17 18 19]]\n"
          ],
          "name": "stdout"
        }
      ]
    },
    {
      "cell_type": "code",
      "metadata": {
        "id": "amWSMDsdVtd4",
        "colab_type": "code",
        "colab": {},
        "outputId": "8e2ed078-d8eb-4da6-f763-a9df298867c1"
      },
      "source": [
        "print(ar1.size)\n",
        "print(ar1.itemsize)\n",
        "print(ar1.dtype)\n",
        "print(ar1.ndim)\n",
        "print(ar1.shape)"
      ],
      "execution_count": 0,
      "outputs": [
        {
          "output_type": "stream",
          "text": [
            "9\n",
            "4\n",
            "int32\n",
            "2\n",
            "(3, 3)\n"
          ],
          "name": "stdout"
        }
      ]
    },
    {
      "cell_type": "code",
      "metadata": {
        "id": "3jP_3Mm0Vtd9",
        "colab_type": "code",
        "colab": {},
        "outputId": "56425048-1b99-4f06-b0ff-21f5b7322043"
      },
      "source": [
        "ar1=np.arange(1,10).reshape(3,3)\n",
        "ar2=np.arange(11,20).reshape(3,3)\n",
        "print(np.vstack((ar1,ar2)))"
      ],
      "execution_count": 0,
      "outputs": [
        {
          "output_type": "stream",
          "text": [
            "[[ 1  2  3]\n",
            " [ 4  5  6]\n",
            " [ 7  8  9]\n",
            " [11 12 13]\n",
            " [14 15 16]\n",
            " [17 18 19]]\n"
          ],
          "name": "stdout"
        }
      ]
    },
    {
      "cell_type": "code",
      "metadata": {
        "id": "Xv0vcAgwVteF",
        "colab_type": "code",
        "colab": {},
        "outputId": "73cf1847-b156-4d0c-ec5f-d725d3120e65"
      },
      "source": [
        "z=np.zeros((2,3),dtype='int32')\n",
        "z"
      ],
      "execution_count": 0,
      "outputs": [
        {
          "output_type": "execute_result",
          "data": {
            "text/plain": [
              "array([[0, 0, 0],\n",
              "       [0, 0, 0]])"
            ]
          },
          "metadata": {
            "tags": []
          },
          "execution_count": 23
        }
      ]
    },
    {
      "cell_type": "code",
      "metadata": {
        "id": "Lf2Q0Z7LVteL",
        "colab_type": "code",
        "colab": {},
        "outputId": "c316aa1d-a804-4ba9-c0da-29d91eae9374"
      },
      "source": [
        "z=np.ones((2,3),dtype='int32')\n",
        "z"
      ],
      "execution_count": 0,
      "outputs": [
        {
          "output_type": "execute_result",
          "data": {
            "text/plain": [
              "array([[1, 1, 1],\n",
              "       [1, 1, 1]])"
            ]
          },
          "metadata": {
            "tags": []
          },
          "execution_count": 24
        }
      ]
    },
    {
      "cell_type": "code",
      "metadata": {
        "id": "raYBciivVteP",
        "colab_type": "code",
        "colab": {},
        "outputId": "23c09326-325e-4ce1-a057-ccc0ef2527b3"
      },
      "source": [
        "z=np.full((2,3),\"kbc\")\n",
        "z"
      ],
      "execution_count": 0,
      "outputs": [
        {
          "output_type": "execute_result",
          "data": {
            "text/plain": [
              "array([['kbc', 'kbc', 'kbc'],\n",
              "       ['kbc', 'kbc', 'kbc']], dtype='<U3')"
            ]
          },
          "metadata": {
            "tags": []
          },
          "execution_count": 25
        }
      ]
    },
    {
      "cell_type": "code",
      "metadata": {
        "id": "CUVudE-cVteW",
        "colab_type": "code",
        "colab": {},
        "outputId": "d0d400aa-1c0b-48fd-a3b1-2d84595ad5b1"
      },
      "source": [
        "n=np.eye(3,dtype='int32')\n",
        "n"
      ],
      "execution_count": 0,
      "outputs": [
        {
          "output_type": "execute_result",
          "data": {
            "text/plain": [
              "array([[1, 0, 0],\n",
              "       [0, 1, 0],\n",
              "       [0, 0, 1]])"
            ]
          },
          "metadata": {
            "tags": []
          },
          "execution_count": 26
        }
      ]
    },
    {
      "cell_type": "code",
      "metadata": {
        "id": "F2nRwhcuVted",
        "colab_type": "code",
        "colab": {},
        "outputId": "7997491b-888f-467f-ed9d-8f8886f7c8ed"
      },
      "source": [
        "n1=np.linspace(1,10,5)\n",
        "n1"
      ],
      "execution_count": 0,
      "outputs": [
        {
          "output_type": "execute_result",
          "data": {
            "text/plain": [
              "array([ 1.  ,  3.25,  5.5 ,  7.75, 10.  ])"
            ]
          },
          "metadata": {
            "tags": []
          },
          "execution_count": 29
        }
      ]
    },
    {
      "cell_type": "code",
      "metadata": {
        "id": "_t9iYom5Vteh",
        "colab_type": "code",
        "colab": {},
        "outputId": "7c27aa1c-ed08-40b9-abf7-52245db0fae7"
      },
      "source": [
        "np.ravel(n)"
      ],
      "execution_count": 0,
      "outputs": [
        {
          "output_type": "execute_result",
          "data": {
            "text/plain": [
              "array([1, 0, 0, 0, 1, 0, 0, 0, 1])"
            ]
          },
          "metadata": {
            "tags": []
          },
          "execution_count": 30
        }
      ]
    },
    {
      "cell_type": "code",
      "metadata": {
        "id": "-vChS1GcVten",
        "colab_type": "code",
        "colab": {},
        "outputId": "444f8d36-3a26-4b66-9b8a-38bd3dadea2d"
      },
      "source": [
        "a4.min()"
      ],
      "execution_count": 0,
      "outputs": [
        {
          "output_type": "execute_result",
          "data": {
            "text/plain": [
              "1"
            ]
          },
          "metadata": {
            "tags": []
          },
          "execution_count": 31
        }
      ]
    },
    {
      "cell_type": "code",
      "metadata": {
        "id": "b5-jyCK-Vtes",
        "colab_type": "code",
        "colab": {},
        "outputId": "3071eee7-9501-4e9b-d741-921b26f47ad7"
      },
      "source": [
        "a4.max()"
      ],
      "execution_count": 0,
      "outputs": [
        {
          "output_type": "execute_result",
          "data": {
            "text/plain": [
              "20"
            ]
          },
          "metadata": {
            "tags": []
          },
          "execution_count": 32
        }
      ]
    },
    {
      "cell_type": "code",
      "metadata": {
        "id": "Fhh5DiyfVtev",
        "colab_type": "code",
        "colab": {},
        "outputId": "a04cb000-12f4-441e-d61f-9703ae63ed42"
      },
      "source": [
        "a4.sum()"
      ],
      "execution_count": 0,
      "outputs": [
        {
          "output_type": "execute_result",
          "data": {
            "text/plain": [
              "210"
            ]
          },
          "metadata": {
            "tags": []
          },
          "execution_count": 33
        }
      ]
    },
    {
      "cell_type": "code",
      "metadata": {
        "id": "7eIcE8NbVtez",
        "colab_type": "code",
        "colab": {},
        "outputId": "088976c1-b215-4072-b966-99ca5e8a6dbb"
      },
      "source": [
        "a4.sum(axis=0)#column"
      ],
      "execution_count": 0,
      "outputs": [
        {
          "output_type": "execute_result",
          "data": {
            "text/plain": [
              "array([45, 50, 55, 60])"
            ]
          },
          "metadata": {
            "tags": []
          },
          "execution_count": 34
        }
      ]
    },
    {
      "cell_type": "code",
      "metadata": {
        "id": "-LvZtQEXVte6",
        "colab_type": "code",
        "colab": {},
        "outputId": "eda0b5e2-41a7-4e27-8516-e7a7cbb9b203"
      },
      "source": [
        "a4.sum(axis=1)#row"
      ],
      "execution_count": 0,
      "outputs": [
        {
          "output_type": "execute_result",
          "data": {
            "text/plain": [
              "array([10, 26, 42, 58, 74])"
            ]
          },
          "metadata": {
            "tags": []
          },
          "execution_count": 35
        }
      ]
    },
    {
      "cell_type": "code",
      "metadata": {
        "id": "Vn_32jgQVte_",
        "colab_type": "code",
        "colab": {},
        "outputId": "69d33f61-1976-462f-d0a1-05b1f49a3bbd"
      },
      "source": [
        "print(np.sqrt(a4),np.mean(a4),np.median(a4))"
      ],
      "execution_count": 0,
      "outputs": [
        {
          "output_type": "stream",
          "text": [
            "[[1.         1.41421356 1.73205081 2.        ]\n",
            " [2.23606798 2.44948974 2.64575131 2.82842712]\n",
            " [3.         3.16227766 3.31662479 3.46410162]\n",
            " [3.60555128 3.74165739 3.87298335 4.        ]\n",
            " [4.12310563 4.24264069 4.35889894 4.47213595]] 10.5 10.5\n"
          ],
          "name": "stdout"
        }
      ]
    },
    {
      "cell_type": "code",
      "metadata": {
        "id": "z3wU88j7VtfE",
        "colab_type": "code",
        "colab": {},
        "outputId": "4e9f1ef3-77ae-4cbf-a51d-5fc1b55f22a4"
      },
      "source": [
        "ar1+ar2"
      ],
      "execution_count": 0,
      "outputs": [
        {
          "output_type": "execute_result",
          "data": {
            "text/plain": [
              "array([[12, 14, 16],\n",
              "       [18, 20, 22],\n",
              "       [24, 26, 28]])"
            ]
          },
          "metadata": {
            "tags": []
          },
          "execution_count": 37
        }
      ]
    },
    {
      "cell_type": "code",
      "metadata": {
        "id": "6s8mZbJrVtfJ",
        "colab_type": "code",
        "colab": {},
        "outputId": "ea17aac4-e437-46d8-90e8-a9a1d79dd74c"
      },
      "source": [
        "ar1/ar2"
      ],
      "execution_count": 0,
      "outputs": [
        {
          "output_type": "execute_result",
          "data": {
            "text/plain": [
              "array([[0.09090909, 0.16666667, 0.23076923],\n",
              "       [0.28571429, 0.33333333, 0.375     ],\n",
              "       [0.41176471, 0.44444444, 0.47368421]])"
            ]
          },
          "metadata": {
            "tags": []
          },
          "execution_count": 38
        }
      ]
    },
    {
      "cell_type": "code",
      "metadata": {
        "id": "ma0I_Fz5VtfM",
        "colab_type": "code",
        "colab": {},
        "outputId": "9b17fe26-221f-4361-ca63-7f3a22eccd01"
      },
      "source": [
        "ar1%ar2"
      ],
      "execution_count": 0,
      "outputs": [
        {
          "output_type": "execute_result",
          "data": {
            "text/plain": [
              "array([[1, 2, 3],\n",
              "       [4, 5, 6],\n",
              "       [7, 8, 9]], dtype=int32)"
            ]
          },
          "metadata": {
            "tags": []
          },
          "execution_count": 39
        }
      ]
    },
    {
      "cell_type": "code",
      "metadata": {
        "id": "SpwkS91vVtfP",
        "colab_type": "code",
        "colab": {},
        "outputId": "3cd18ded-7f1c-47d1-a2b3-79e055e0ea62"
      },
      "source": [
        "ar1<=ar2"
      ],
      "execution_count": 0,
      "outputs": [
        {
          "output_type": "execute_result",
          "data": {
            "text/plain": [
              "array([[ True,  True,  True],\n",
              "       [ True,  True,  True],\n",
              "       [ True,  True,  True]])"
            ]
          },
          "metadata": {
            "tags": []
          },
          "execution_count": 40
        }
      ]
    },
    {
      "cell_type": "code",
      "metadata": {
        "id": "HH1XQTmWVtfT",
        "colab_type": "code",
        "colab": {},
        "outputId": "149faa6f-c749-4a71-a84f-620c812c036f"
      },
      "source": [
        "np.dot(ar1,ar2)"
      ],
      "execution_count": 0,
      "outputs": [
        {
          "output_type": "execute_result",
          "data": {
            "text/plain": [
              "array([[ 90,  96, 102],\n",
              "       [216, 231, 246],\n",
              "       [342, 366, 390]])"
            ]
          },
          "metadata": {
            "tags": []
          },
          "execution_count": 41
        }
      ]
    },
    {
      "cell_type": "code",
      "metadata": {
        "id": "PtNmNe1hVtfV",
        "colab_type": "code",
        "colab": {},
        "outputId": "00e25aad-f317-4225-cf7e-97371dc75818"
      },
      "source": [
        "ar1.dot(ar2) #multiplication"
      ],
      "execution_count": 0,
      "outputs": [
        {
          "output_type": "execute_result",
          "data": {
            "text/plain": [
              "array([[ 90,  96, 102],\n",
              "       [216, 231, 246],\n",
              "       [342, 366, 390]])"
            ]
          },
          "metadata": {
            "tags": []
          },
          "execution_count": 42
        }
      ]
    },
    {
      "cell_type": "code",
      "metadata": {
        "id": "M8-YG74yVtff",
        "colab_type": "code",
        "colab": {},
        "outputId": "ca23164e-7126-4734-f99b-5c1ee52bf608"
      },
      "source": [
        "ar1.T #transpose of an array"
      ],
      "execution_count": 0,
      "outputs": [
        {
          "output_type": "execute_result",
          "data": {
            "text/plain": [
              "array([[1, 4, 7],\n",
              "       [2, 5, 8],\n",
              "       [3, 6, 9]])"
            ]
          },
          "metadata": {
            "tags": []
          },
          "execution_count": 43
        }
      ]
    },
    {
      "cell_type": "code",
      "metadata": {
        "id": "6mr0hwREVtfi",
        "colab_type": "code",
        "colab": {},
        "outputId": "1ea9dfd5-59d6-4c81-d17f-e9532709f89e"
      },
      "source": [
        "l1=list(range(1,20))\n",
        "l1"
      ],
      "execution_count": 0,
      "outputs": [
        {
          "output_type": "execute_result",
          "data": {
            "text/plain": [
              "[1, 2, 3, 4, 5, 6, 7, 8, 9, 10, 11, 12, 13, 14, 15, 16, 17, 18, 19]"
            ]
          },
          "metadata": {
            "tags": []
          },
          "execution_count": 45
        }
      ]
    },
    {
      "cell_type": "code",
      "metadata": {
        "id": "ZydwfeeTVtfm",
        "colab_type": "code",
        "colab": {}
      },
      "source": [
        "import numpy as np\n",
        "a=np.array([1, 2, 3, 4, 5, 6, 7, 8, 9, 10, 11, 12, 13, 14, 15, 16, 17, 18, 19])"
      ],
      "execution_count": 0,
      "outputs": []
    },
    {
      "cell_type": "code",
      "metadata": {
        "id": "TGa_Gnn-Vtfr",
        "colab_type": "code",
        "colab": {},
        "outputId": "f9c38180-e87b-4d59-e485-c67c0e3fd4c4"
      },
      "source": [
        "result=[x/(x+1) for x in [1, 2, 3, 4, 5, 6, 7, 8, 9, 10, 11, 12, 13, 14, 15, 16, 17, 18, 19]]\n",
        "result"
      ],
      "execution_count": 0,
      "outputs": [
        {
          "output_type": "execute_result",
          "data": {
            "text/plain": [
              "[0.5,\n",
              " 0.6666666666666666,\n",
              " 0.75,\n",
              " 0.8,\n",
              " 0.8333333333333334,\n",
              " 0.8571428571428571,\n",
              " 0.875,\n",
              " 0.8888888888888888,\n",
              " 0.9,\n",
              " 0.9090909090909091,\n",
              " 0.9166666666666666,\n",
              " 0.9230769230769231,\n",
              " 0.9285714285714286,\n",
              " 0.9333333333333333,\n",
              " 0.9375,\n",
              " 0.9411764705882353,\n",
              " 0.9444444444444444,\n",
              " 0.9473684210526315,\n",
              " 0.95]"
            ]
          },
          "metadata": {
            "tags": []
          },
          "execution_count": 6
        }
      ]
    },
    {
      "cell_type": "code",
      "metadata": {
        "id": "Ba7wUt0tVtfv",
        "colab_type": "code",
        "colab": {},
        "outputId": "30da79c1-c062-48e3-896d-cd929b1f6dcc"
      },
      "source": [
        "f=np.vectorize(lambda x:x/(x+1))\n",
        "f(a)"
      ],
      "execution_count": 0,
      "outputs": [
        {
          "output_type": "execute_result",
          "data": {
            "text/plain": [
              "array([0.5       , 0.66666667, 0.75      , 0.8       , 0.83333333,\n",
              "       0.85714286, 0.875     , 0.88888889, 0.9       , 0.90909091,\n",
              "       0.91666667, 0.92307692, 0.92857143, 0.93333333, 0.9375    ,\n",
              "       0.94117647, 0.94444444, 0.94736842, 0.95      ])"
            ]
          },
          "metadata": {
            "tags": []
          },
          "execution_count": 7
        }
      ]
    },
    {
      "cell_type": "code",
      "metadata": {
        "id": "7bT4kKV6Vtfy",
        "colab_type": "code",
        "colab": {},
        "outputId": "56326c92-81c7-4cab-a5ab-29c6fe336971"
      },
      "source": [
        "a/(a+1)"
      ],
      "execution_count": 0,
      "outputs": [
        {
          "output_type": "execute_result",
          "data": {
            "text/plain": [
              "array([0.5       , 0.66666667, 0.75      , 0.8       , 0.83333333,\n",
              "       0.85714286, 0.875     , 0.88888889, 0.9       , 0.90909091,\n",
              "       0.91666667, 0.92307692, 0.92857143, 0.93333333, 0.9375    ,\n",
              "       0.94117647, 0.94444444, 0.94736842, 0.95      ])"
            ]
          },
          "metadata": {
            "tags": []
          },
          "execution_count": 8
        }
      ]
    },
    {
      "cell_type": "code",
      "metadata": {
        "id": "Ho26h_tuVtf2",
        "colab_type": "code",
        "colab": {}
      },
      "source": [
        ""
      ],
      "execution_count": 0,
      "outputs": []
    }
  ]
}