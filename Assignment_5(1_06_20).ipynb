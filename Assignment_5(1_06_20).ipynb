{
  "nbformat": 4,
  "nbformat_minor": 0,
  "metadata": {
    "kernelspec": {
      "display_name": "Python 3",
      "language": "python",
      "name": "python3"
    },
    "language_info": {
      "codemirror_mode": {
        "name": "ipython",
        "version": 3
      },
      "file_extension": ".py",
      "mimetype": "text/x-python",
      "name": "python",
      "nbconvert_exporter": "python",
      "pygments_lexer": "ipython3",
      "version": "3.7.6"
    },
    "colab": {
      "name": "Assignment 5(1-06-20).ipynb",
      "provenance": [],
      "include_colab_link": true
    }
  },
  "cells": [
    {
      "cell_type": "markdown",
      "metadata": {
        "id": "view-in-github",
        "colab_type": "text"
      },
      "source": [
        "<a href=\"https://colab.research.google.com/github/saimahesh16/adv-pprog/blob/master/Assignment_5(1_06_20).ipynb\" target=\"_parent\"><img src=\"https://colab.research.google.com/assets/colab-badge.svg\" alt=\"Open In Colab\"/></a>"
      ]
    },
    {
      "cell_type": "markdown",
      "metadata": {
        "id": "qNqCmbzB8SGQ",
        "colab_type": "text"
      },
      "source": [
        "CSE-221710313064-Y SAIMAHESH"
      ]
    },
    {
      "cell_type": "markdown",
      "metadata": {
        "id": "nUsa9C608SGS",
        "colab_type": "text"
      },
      "source": [
        "password format---> [noun+verb+digits+specialcharacters]\n",
        "press 0 generate the new password and press 1 to stop "
      ]
    },
    {
      "cell_type": "code",
      "metadata": {
        "id": "w5Ykm1We8SGT",
        "colab_type": "code",
        "colab": {}
      },
      "source": [
        "# lists of nouns and the list of verbs\n",
        "verb = [\"beat\",\"become\",\"dream\",\"blow\",\"dig\",\"build\",\"burn\",\"catch\",\"come\",\"dive\"]\n",
        "noun = [\"mahesh\",\"ramesh\",\"ntr\",\"hyderabad\",\"cbn\",\"usa\",\"canada\",\"lion\",\"pencil\",\"newyork\"]"
      ],
      "execution_count": 0,
      "outputs": []
    },
    {
      "cell_type": "code",
      "metadata": {
        "id": "2vwy0vja8SGa",
        "colab_type": "code",
        "colab": {}
      },
      "source": [
        "# list of special characters\n",
        "sc = [\"!\",\"\",\"@\",\"/\",\"$\",\"#\",\"%\",\"^\",\"&\",\"*\"]"
      ],
      "execution_count": 0,
      "outputs": []
    },
    {
      "cell_type": "code",
      "metadata": {
        "id": "DR8IevDB8SGi",
        "colab_type": "code",
        "colab": {},
        "outputId": "f9291237-1bde-4e81-dc82-3bfe1aae3a09"
      },
      "source": [
        "# selecting each noun and verb and special character and digit\n",
        "import random\n",
        "n = random.choice(noun)\n",
        "v = random.choice(verb)\n",
        "num = random.randint(1,3000)\n",
        "scp = random.choice(sc)\n",
        "print(n+v+str(num)+scp)"
      ],
      "execution_count": 0,
      "outputs": [
        {
          "output_type": "stream",
          "text": [
            "ntrbuild2097^\n"
          ],
          "name": "stdout"
        }
      ]
    },
    {
      "cell_type": "code",
      "metadata": {
        "id": "qpKvzlmF8SGu",
        "colab_type": "code",
        "colab": {},
        "outputId": "fe778e92-a428-4ba3-9e86-0ade3ba1edeb"
      },
      "source": [
        "#import random packet from randint and choice methods\n",
        "import random\n",
        "z = 0\n",
        "while z!=1:\n",
        "    n = random.choice(noun)\n",
        "    v = random.choice(verb)\n",
        "    num = random.randint(1,3000)\n",
        "    scp = random.choice(sc)\n",
        "    print(n+v+str(num)+scp)\n",
        "    #Ask user's opinion or order\n",
        "    z=int(input(\"enter 1 to stop and 0 to generate new password\"))"
      ],
      "execution_count": 0,
      "outputs": [
        {
          "output_type": "stream",
          "text": [
            "lioncatch1984\n",
            "enter 1 to stop and 0 to generate new password0\n",
            "ntrdive303!\n",
            "enter 1 to stop and 0 to generate new password0\n",
            "newyorkbeat2149@\n",
            "enter 1 to stop and 0 to generate new password0\n",
            "ntrbuild1984%\n",
            "enter 1 to stop and 0 to generate new password1\n"
          ],
          "name": "stdout"
        }
      ]
    },
    {
      "cell_type": "code",
      "metadata": {
        "id": "MgVx1dJ18SG4",
        "colab_type": "code",
        "colab": {}
      },
      "source": [
        ""
      ],
      "execution_count": 0,
      "outputs": []
    },
    {
      "cell_type": "code",
      "metadata": {
        "id": "oX2j6gZH8SG-",
        "colab_type": "code",
        "colab": {}
      },
      "source": [
        ""
      ],
      "execution_count": 0,
      "outputs": []
    }
  ]
}