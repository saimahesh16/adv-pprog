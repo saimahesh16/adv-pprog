{
  "nbformat": 4,
  "nbformat_minor": 0,
  "metadata": {
    "kernelspec": {
      "display_name": "Python 3",
      "language": "python",
      "name": "python3"
    },
    "colab": {
      "name": "Day 9(3-06-20).ipynb",
      "provenance": [],
      "include_colab_link": true
    }
  },
  "cells": [
    {
      "cell_type": "markdown",
      "metadata": {
        "id": "view-in-github",
        "colab_type": "text"
      },
      "source": [
        "<a href=\"https://colab.research.google.com/github/saimahesh16/adv-pprog/blob/master/Day_9(3_06_20).ipynb\" target=\"_parent\"><img src=\"https://colab.research.google.com/assets/colab-badge.svg\" alt=\"Open In Colab\"/></a>"
      ]
    },
    {
      "cell_type": "code",
      "metadata": {
        "id": "DV1XZ1Vq-_Re",
        "colab_type": "code",
        "colab": {}
      },
      "source": [
        "import string as s"
      ],
      "execution_count": 0,
      "outputs": []
    },
    {
      "cell_type": "code",
      "metadata": {
        "id": "0smfEPqT-_Rp",
        "colab_type": "code",
        "colab": {},
        "outputId": "3bb97c58-c7a6-4fc5-a182-dc3f92773442"
      },
      "source": [
        "s.digits"
      ],
      "execution_count": 0,
      "outputs": [
        {
          "output_type": "execute_result",
          "data": {
            "text/plain": [
              "'0123456789'"
            ]
          },
          "metadata": {
            "tags": []
          },
          "execution_count": 2
        }
      ]
    },
    {
      "cell_type": "code",
      "metadata": {
        "id": "xAFSvh5j-_Rw",
        "colab_type": "code",
        "colab": {},
        "outputId": "448da825-1589-450c-8fc7-4483e34e401a"
      },
      "source": [
        "s.punctuation"
      ],
      "execution_count": 0,
      "outputs": [
        {
          "output_type": "execute_result",
          "data": {
            "text/plain": [
              "'!\"#$%&\\'()*+,-./:;<=>?@[\\\\]^_`{|}~'"
            ]
          },
          "metadata": {
            "tags": []
          },
          "execution_count": 3
        }
      ]
    },
    {
      "cell_type": "code",
      "metadata": {
        "id": "K5XV5swz-_R3",
        "colab_type": "code",
        "colab": {},
        "outputId": "e654480f-6e8a-47ea-c328-7af95cc58fa5"
      },
      "source": [
        "l=[i for i in range(5)]\n",
        "sum(l)"
      ],
      "execution_count": 0,
      "outputs": [
        {
          "output_type": "execute_result",
          "data": {
            "text/plain": [
              "10"
            ]
          },
          "metadata": {
            "tags": []
          },
          "execution_count": 5
        }
      ]
    },
    {
      "cell_type": "code",
      "metadata": {
        "id": "KlOXkF_D-_R7",
        "colab_type": "code",
        "colab": {},
        "outputId": "c3bd8236-d7a4-401f-db13-b010d15562fa"
      },
      "source": [
        "import operations\n",
        "operations.hi(\"mahesh\")#user defined module"
      ],
      "execution_count": 0,
      "outputs": [
        {
          "output_type": "stream",
          "text": [
            "hi mahesh\n"
          ],
          "name": "stdout"
        }
      ]
    },
    {
      "cell_type": "code",
      "metadata": {
        "id": "ElCGol_O-_SA",
        "colab_type": "code",
        "colab": {},
        "outputId": "12861336-bbfc-4b9d-b5cd-5c2baf4a7eb7"
      },
      "source": [
        "s.ascii_lowercase"
      ],
      "execution_count": 0,
      "outputs": [
        {
          "output_type": "execute_result",
          "data": {
            "text/plain": [
              "'abcdefghijklmnopqrstuvwxyz'"
            ]
          },
          "metadata": {
            "tags": []
          },
          "execution_count": 10
        }
      ]
    },
    {
      "cell_type": "code",
      "metadata": {
        "id": "YHnQ-WHj-_SF",
        "colab_type": "code",
        "colab": {},
        "outputId": "5b49513e-bc6d-41e0-c7b1-5028604650f9"
      },
      "source": [
        "from string import *\n",
        "punctuation"
      ],
      "execution_count": 0,
      "outputs": [
        {
          "output_type": "execute_result",
          "data": {
            "text/plain": [
              "'!\"#$%&\\'()*+,-./:;<=>?@[\\\\]^_`{|}~'"
            ]
          },
          "metadata": {
            "tags": []
          },
          "execution_count": 11
        }
      ]
    },
    {
      "cell_type": "code",
      "metadata": {
        "id": "9PxPfplo-_SM",
        "colab_type": "code",
        "colab": {},
        "outputId": "3cc168ae-4b60-4575-e9a3-802e59f0b8fc"
      },
      "source": [
        "import string as s\n",
        "s.digits"
      ],
      "execution_count": 0,
      "outputs": [
        {
          "output_type": "execute_result",
          "data": {
            "text/plain": [
              "'0123456789'"
            ]
          },
          "metadata": {
            "tags": []
          },
          "execution_count": 9
        }
      ]
    },
    {
      "cell_type": "code",
      "metadata": {
        "id": "l1FpqIDV-_SQ",
        "colab_type": "code",
        "colab": {},
        "outputId": "58de2735-0462-48ad-858a-6792a1a8bff0"
      },
      "source": [
        "operations.result"
      ],
      "execution_count": 0,
      "outputs": [
        {
          "output_type": "execute_result",
          "data": {
            "text/plain": [
              "'True'"
            ]
          },
          "metadata": {
            "tags": []
          },
          "execution_count": 8
        }
      ]
    },
    {
      "cell_type": "code",
      "metadata": {
        "id": "Pbv-QpCL-_ST",
        "colab_type": "code",
        "colab": {},
        "outputId": "d95eae25-7b3d-48ab-f3ac-7de26a291774"
      },
      "source": [
        "help(operations)"
      ],
      "execution_count": 0,
      "outputs": [
        {
          "output_type": "stream",
          "text": [
            "Help on module operations:\n",
            "\n",
            "NAME\n",
            "    operations\n",
            "\n",
            "FUNCTIONS\n",
            "    hi(n)\n",
            "\n",
            "DATA\n",
            "    result = 'True'\n",
            "\n",
            "FILE\n",
            "    c:\\users\\saima\\operations.py\n",
            "\n",
            "\n"
          ],
          "name": "stdout"
        }
      ]
    },
    {
      "cell_type": "code",
      "metadata": {
        "id": "LuAi59Q7-_SW",
        "colab_type": "code",
        "colab": {}
      },
      "source": [
        "import math"
      ],
      "execution_count": 0,
      "outputs": []
    },
    {
      "cell_type": "code",
      "metadata": {
        "id": "sps_Q6fX-_SZ",
        "colab_type": "code",
        "colab": {},
        "outputId": "f16c2a77-0699-41e5-f9e6-757bcb00bd4f"
      },
      "source": [
        "help(math)"
      ],
      "execution_count": 0,
      "outputs": [
        {
          "output_type": "stream",
          "text": [
            "Help on built-in module math:\n",
            "\n",
            "NAME\n",
            "    math\n",
            "\n",
            "DESCRIPTION\n",
            "    This module provides access to the mathematical functions\n",
            "    defined by the C standard.\n",
            "\n",
            "FUNCTIONS\n",
            "    acos(x, /)\n",
            "        Return the arc cosine (measured in radians) of x.\n",
            "    \n",
            "    acosh(x, /)\n",
            "        Return the inverse hyperbolic cosine of x.\n",
            "    \n",
            "    asin(x, /)\n",
            "        Return the arc sine (measured in radians) of x.\n",
            "    \n",
            "    asinh(x, /)\n",
            "        Return the inverse hyperbolic sine of x.\n",
            "    \n",
            "    atan(x, /)\n",
            "        Return the arc tangent (measured in radians) of x.\n",
            "    \n",
            "    atan2(y, x, /)\n",
            "        Return the arc tangent (measured in radians) of y/x.\n",
            "        \n",
            "        Unlike atan(y/x), the signs of both x and y are considered.\n",
            "    \n",
            "    atanh(x, /)\n",
            "        Return the inverse hyperbolic tangent of x.\n",
            "    \n",
            "    ceil(x, /)\n",
            "        Return the ceiling of x as an Integral.\n",
            "        \n",
            "        This is the smallest integer >= x.\n",
            "    \n",
            "    copysign(x, y, /)\n",
            "        Return a float with the magnitude (absolute value) of x but the sign of y.\n",
            "        \n",
            "        On platforms that support signed zeros, copysign(1.0, -0.0)\n",
            "        returns -1.0.\n",
            "    \n",
            "    cos(x, /)\n",
            "        Return the cosine of x (measured in radians).\n",
            "    \n",
            "    cosh(x, /)\n",
            "        Return the hyperbolic cosine of x.\n",
            "    \n",
            "    degrees(x, /)\n",
            "        Convert angle x from radians to degrees.\n",
            "    \n",
            "    erf(x, /)\n",
            "        Error function at x.\n",
            "    \n",
            "    erfc(x, /)\n",
            "        Complementary error function at x.\n",
            "    \n",
            "    exp(x, /)\n",
            "        Return e raised to the power of x.\n",
            "    \n",
            "    expm1(x, /)\n",
            "        Return exp(x)-1.\n",
            "        \n",
            "        This function avoids the loss of precision involved in the direct evaluation of exp(x)-1 for small x.\n",
            "    \n",
            "    fabs(x, /)\n",
            "        Return the absolute value of the float x.\n",
            "    \n",
            "    factorial(x, /)\n",
            "        Find x!.\n",
            "        \n",
            "        Raise a ValueError if x is negative or non-integral.\n",
            "    \n",
            "    floor(x, /)\n",
            "        Return the floor of x as an Integral.\n",
            "        \n",
            "        This is the largest integer <= x.\n",
            "    \n",
            "    fmod(x, y, /)\n",
            "        Return fmod(x, y), according to platform C.\n",
            "        \n",
            "        x % y may differ.\n",
            "    \n",
            "    frexp(x, /)\n",
            "        Return the mantissa and exponent of x, as pair (m, e).\n",
            "        \n",
            "        m is a float and e is an int, such that x = m * 2.**e.\n",
            "        If x is 0, m and e are both 0.  Else 0.5 <= abs(m) < 1.0.\n",
            "    \n",
            "    fsum(seq, /)\n",
            "        Return an accurate floating point sum of values in the iterable seq.\n",
            "        \n",
            "        Assumes IEEE-754 floating point arithmetic.\n",
            "    \n",
            "    gamma(x, /)\n",
            "        Gamma function at x.\n",
            "    \n",
            "    gcd(x, y, /)\n",
            "        greatest common divisor of x and y\n",
            "    \n",
            "    hypot(x, y, /)\n",
            "        Return the Euclidean distance, sqrt(x*x + y*y).\n",
            "    \n",
            "    isclose(a, b, *, rel_tol=1e-09, abs_tol=0.0)\n",
            "        Determine whether two floating point numbers are close in value.\n",
            "        \n",
            "          rel_tol\n",
            "            maximum difference for being considered \"close\", relative to the\n",
            "            magnitude of the input values\n",
            "          abs_tol\n",
            "            maximum difference for being considered \"close\", regardless of the\n",
            "            magnitude of the input values\n",
            "        \n",
            "        Return True if a is close in value to b, and False otherwise.\n",
            "        \n",
            "        For the values to be considered close, the difference between them\n",
            "        must be smaller than at least one of the tolerances.\n",
            "        \n",
            "        -inf, inf and NaN behave similarly to the IEEE 754 Standard.  That\n",
            "        is, NaN is not close to anything, even itself.  inf and -inf are\n",
            "        only close to themselves.\n",
            "    \n",
            "    isfinite(x, /)\n",
            "        Return True if x is neither an infinity nor a NaN, and False otherwise.\n",
            "    \n",
            "    isinf(x, /)\n",
            "        Return True if x is a positive or negative infinity, and False otherwise.\n",
            "    \n",
            "    isnan(x, /)\n",
            "        Return True if x is a NaN (not a number), and False otherwise.\n",
            "    \n",
            "    ldexp(x, i, /)\n",
            "        Return x * (2**i).\n",
            "        \n",
            "        This is essentially the inverse of frexp().\n",
            "    \n",
            "    lgamma(x, /)\n",
            "        Natural logarithm of absolute value of Gamma function at x.\n",
            "    \n",
            "    log(...)\n",
            "        log(x, [base=math.e])\n",
            "        Return the logarithm of x to the given base.\n",
            "        \n",
            "        If the base not specified, returns the natural logarithm (base e) of x.\n",
            "    \n",
            "    log10(x, /)\n",
            "        Return the base 10 logarithm of x.\n",
            "    \n",
            "    log1p(x, /)\n",
            "        Return the natural logarithm of 1+x (base e).\n",
            "        \n",
            "        The result is computed in a way which is accurate for x near zero.\n",
            "    \n",
            "    log2(x, /)\n",
            "        Return the base 2 logarithm of x.\n",
            "    \n",
            "    modf(x, /)\n",
            "        Return the fractional and integer parts of x.\n",
            "        \n",
            "        Both results carry the sign of x and are floats.\n",
            "    \n",
            "    pow(x, y, /)\n",
            "        Return x**y (x to the power of y).\n",
            "    \n",
            "    radians(x, /)\n",
            "        Convert angle x from degrees to radians.\n",
            "    \n",
            "    remainder(x, y, /)\n",
            "        Difference between x and the closest integer multiple of y.\n",
            "        \n",
            "        Return x - n*y where n*y is the closest integer multiple of y.\n",
            "        In the case where x is exactly halfway between two multiples of\n",
            "        y, the nearest even value of n is used. The result is always exact.\n",
            "    \n",
            "    sin(x, /)\n",
            "        Return the sine of x (measured in radians).\n",
            "    \n",
            "    sinh(x, /)\n",
            "        Return the hyperbolic sine of x.\n",
            "    \n",
            "    sqrt(x, /)\n",
            "        Return the square root of x.\n",
            "    \n",
            "    tan(x, /)\n",
            "        Return the tangent of x (measured in radians).\n",
            "    \n",
            "    tanh(x, /)\n",
            "        Return the hyperbolic tangent of x.\n",
            "    \n",
            "    trunc(x, /)\n",
            "        Truncates the Real x to the nearest Integral toward 0.\n",
            "        \n",
            "        Uses the __trunc__ magic method.\n",
            "\n",
            "DATA\n",
            "    e = 2.718281828459045\n",
            "    inf = inf\n",
            "    nan = nan\n",
            "    pi = 3.141592653589793\n",
            "    tau = 6.283185307179586\n",
            "\n",
            "FILE\n",
            "    (built-in)\n",
            "\n",
            "\n"
          ],
          "name": "stdout"
        }
      ]
    },
    {
      "cell_type": "code",
      "metadata": {
        "id": "RlnFfphj-_Sd",
        "colab_type": "code",
        "colab": {},
        "outputId": "20a7fa19-000f-4f13-aa5f-e1c6fcb0e88c"
      },
      "source": [
        "math.factorial(6)"
      ],
      "execution_count": 0,
      "outputs": [
        {
          "output_type": "execute_result",
          "data": {
            "text/plain": [
              "720"
            ]
          },
          "metadata": {
            "tags": []
          },
          "execution_count": 15
        }
      ]
    },
    {
      "cell_type": "code",
      "metadata": {
        "id": "uNN9tVHh-_Sh",
        "colab_type": "code",
        "colab": {},
        "outputId": "ee9f9415-08bd-476a-8f32-be073a2c9d0a"
      },
      "source": [
        "def area(r):\n",
        "    return r*r*math.pi\n",
        "area(5)"
      ],
      "execution_count": 0,
      "outputs": [
        {
          "output_type": "execute_result",
          "data": {
            "text/plain": [
              "78.53981633974483"
            ]
          },
          "metadata": {
            "tags": []
          },
          "execution_count": 16
        }
      ]
    },
    {
      "cell_type": "code",
      "metadata": {
        "id": "TX5G56-v-_Sk",
        "colab_type": "code",
        "colab": {}
      },
      "source": [
        "import statistics as s"
      ],
      "execution_count": 0,
      "outputs": []
    },
    {
      "cell_type": "code",
      "metadata": {
        "id": "SF_7W-0w-_Sn",
        "colab_type": "code",
        "colab": {},
        "outputId": "fd57fbcd-703b-4402-9424-10ff886e5ec4"
      },
      "source": [
        "help(s)"
      ],
      "execution_count": 0,
      "outputs": [
        {
          "output_type": "stream",
          "text": [
            "Help on module statistics:\n",
            "\n",
            "NAME\n",
            "    statistics - Basic statistics module.\n",
            "\n",
            "DESCRIPTION\n",
            "    This module provides functions for calculating statistics of data, including\n",
            "    averages, variance, and standard deviation.\n",
            "    \n",
            "    Calculating averages\n",
            "    --------------------\n",
            "    \n",
            "    ==================  =============================================\n",
            "    Function            Description\n",
            "    ==================  =============================================\n",
            "    mean                Arithmetic mean (average) of data.\n",
            "    harmonic_mean       Harmonic mean of data.\n",
            "    median              Median (middle value) of data.\n",
            "    median_low          Low median of data.\n",
            "    median_high         High median of data.\n",
            "    median_grouped      Median, or 50th percentile, of grouped data.\n",
            "    mode                Mode (most common value) of data.\n",
            "    ==================  =============================================\n",
            "    \n",
            "    Calculate the arithmetic mean (\"the average\") of data:\n",
            "    \n",
            "    >>> mean([-1.0, 2.5, 3.25, 5.75])\n",
            "    2.625\n",
            "    \n",
            "    \n",
            "    Calculate the standard median of discrete data:\n",
            "    \n",
            "    >>> median([2, 3, 4, 5])\n",
            "    3.5\n",
            "    \n",
            "    \n",
            "    Calculate the median, or 50th percentile, of data grouped into class intervals\n",
            "    centred on the data values provided. E.g. if your data points are rounded to\n",
            "    the nearest whole number:\n",
            "    \n",
            "    >>> median_grouped([2, 2, 3, 3, 3, 4])  #doctest: +ELLIPSIS\n",
            "    2.8333333333...\n",
            "    \n",
            "    This should be interpreted in this way: you have two data points in the class\n",
            "    interval 1.5-2.5, three data points in the class interval 2.5-3.5, and one in\n",
            "    the class interval 3.5-4.5. The median of these data points is 2.8333...\n",
            "    \n",
            "    \n",
            "    Calculating variability or spread\n",
            "    ---------------------------------\n",
            "    \n",
            "    ==================  =============================================\n",
            "    Function            Description\n",
            "    ==================  =============================================\n",
            "    pvariance           Population variance of data.\n",
            "    variance            Sample variance of data.\n",
            "    pstdev              Population standard deviation of data.\n",
            "    stdev               Sample standard deviation of data.\n",
            "    ==================  =============================================\n",
            "    \n",
            "    Calculate the standard deviation of sample data:\n",
            "    \n",
            "    >>> stdev([2.5, 3.25, 5.5, 11.25, 11.75])  #doctest: +ELLIPSIS\n",
            "    4.38961843444...\n",
            "    \n",
            "    If you have previously calculated the mean, you can pass it as the optional\n",
            "    second argument to the four \"spread\" functions to avoid recalculating it:\n",
            "    \n",
            "    >>> data = [1, 2, 2, 4, 4, 4, 5, 6]\n",
            "    >>> mu = mean(data)\n",
            "    >>> pvariance(data, mu)\n",
            "    2.5\n",
            "    \n",
            "    \n",
            "    Exceptions\n",
            "    ----------\n",
            "    \n",
            "    A single exception is defined: StatisticsError is a subclass of ValueError.\n",
            "\n",
            "CLASSES\n",
            "    builtins.ValueError(builtins.Exception)\n",
            "        StatisticsError\n",
            "    \n",
            "    class StatisticsError(builtins.ValueError)\n",
            "     |  Inappropriate argument value (of correct type).\n",
            "     |  \n",
            "     |  Method resolution order:\n",
            "     |      StatisticsError\n",
            "     |      builtins.ValueError\n",
            "     |      builtins.Exception\n",
            "     |      builtins.BaseException\n",
            "     |      builtins.object\n",
            "     |  \n",
            "     |  Data descriptors defined here:\n",
            "     |  \n",
            "     |  __weakref__\n",
            "     |      list of weak references to the object (if defined)\n",
            "     |  \n",
            "     |  ----------------------------------------------------------------------\n",
            "     |  Methods inherited from builtins.ValueError:\n",
            "     |  \n",
            "     |  __init__(self, /, *args, **kwargs)\n",
            "     |      Initialize self.  See help(type(self)) for accurate signature.\n",
            "     |  \n",
            "     |  ----------------------------------------------------------------------\n",
            "     |  Static methods inherited from builtins.ValueError:\n",
            "     |  \n",
            "     |  __new__(*args, **kwargs) from builtins.type\n",
            "     |      Create and return a new object.  See help(type) for accurate signature.\n",
            "     |  \n",
            "     |  ----------------------------------------------------------------------\n",
            "     |  Methods inherited from builtins.BaseException:\n",
            "     |  \n",
            "     |  __delattr__(self, name, /)\n",
            "     |      Implement delattr(self, name).\n",
            "     |  \n",
            "     |  __getattribute__(self, name, /)\n",
            "     |      Return getattr(self, name).\n",
            "     |  \n",
            "     |  __reduce__(...)\n",
            "     |      Helper for pickle.\n",
            "     |  \n",
            "     |  __repr__(self, /)\n",
            "     |      Return repr(self).\n",
            "     |  \n",
            "     |  __setattr__(self, name, value, /)\n",
            "     |      Implement setattr(self, name, value).\n",
            "     |  \n",
            "     |  __setstate__(...)\n",
            "     |  \n",
            "     |  __str__(self, /)\n",
            "     |      Return str(self).\n",
            "     |  \n",
            "     |  with_traceback(...)\n",
            "     |      Exception.with_traceback(tb) --\n",
            "     |      set self.__traceback__ to tb and return self.\n",
            "     |  \n",
            "     |  ----------------------------------------------------------------------\n",
            "     |  Data descriptors inherited from builtins.BaseException:\n",
            "     |  \n",
            "     |  __cause__\n",
            "     |      exception cause\n",
            "     |  \n",
            "     |  __context__\n",
            "     |      exception context\n",
            "     |  \n",
            "     |  __dict__\n",
            "     |  \n",
            "     |  __suppress_context__\n",
            "     |  \n",
            "     |  __traceback__\n",
            "     |  \n",
            "     |  args\n",
            "\n",
            "FUNCTIONS\n",
            "    harmonic_mean(data)\n",
            "        Return the harmonic mean of data.\n",
            "        \n",
            "        The harmonic mean, sometimes called the subcontrary mean, is the\n",
            "        reciprocal of the arithmetic mean of the reciprocals of the data,\n",
            "        and is often appropriate when averaging quantities which are rates\n",
            "        or ratios, for example speeds. Example:\n",
            "        \n",
            "        Suppose an investor purchases an equal value of shares in each of\n",
            "        three companies, with P/E (price/earning) ratios of 2.5, 3 and 10.\n",
            "        What is the average P/E ratio for the investor's portfolio?\n",
            "        \n",
            "        >>> harmonic_mean([2.5, 3, 10])  # For an equal investment portfolio.\n",
            "        3.6\n",
            "        \n",
            "        Using the arithmetic mean would give an average of about 5.167, which\n",
            "        is too high.\n",
            "        \n",
            "        If ``data`` is empty, or any element is less than zero,\n",
            "        ``harmonic_mean`` will raise ``StatisticsError``.\n",
            "    \n",
            "    mean(data)\n",
            "        Return the sample arithmetic mean of data.\n",
            "        \n",
            "        >>> mean([1, 2, 3, 4, 4])\n",
            "        2.8\n",
            "        \n",
            "        >>> from fractions import Fraction as F\n",
            "        >>> mean([F(3, 7), F(1, 21), F(5, 3), F(1, 3)])\n",
            "        Fraction(13, 21)\n",
            "        \n",
            "        >>> from decimal import Decimal as D\n",
            "        >>> mean([D(\"0.5\"), D(\"0.75\"), D(\"0.625\"), D(\"0.375\")])\n",
            "        Decimal('0.5625')\n",
            "        \n",
            "        If ``data`` is empty, StatisticsError will be raised.\n",
            "    \n",
            "    median(data)\n",
            "        Return the median (middle value) of numeric data.\n",
            "        \n",
            "        When the number of data points is odd, return the middle data point.\n",
            "        When the number of data points is even, the median is interpolated by\n",
            "        taking the average of the two middle values:\n",
            "        \n",
            "        >>> median([1, 3, 5])\n",
            "        3\n",
            "        >>> median([1, 3, 5, 7])\n",
            "        4.0\n",
            "    \n",
            "    median_grouped(data, interval=1)\n",
            "        Return the 50th percentile (median) of grouped continuous data.\n",
            "        \n",
            "        >>> median_grouped([1, 2, 2, 3, 4, 4, 4, 4, 4, 5])\n",
            "        3.7\n",
            "        >>> median_grouped([52, 52, 53, 54])\n",
            "        52.5\n",
            "        \n",
            "        This calculates the median as the 50th percentile, and should be\n",
            "        used when your data is continuous and grouped. In the above example,\n",
            "        the values 1, 2, 3, etc. actually represent the midpoint of classes\n",
            "        0.5-1.5, 1.5-2.5, 2.5-3.5, etc. The middle value falls somewhere in\n",
            "        class 3.5-4.5, and interpolation is used to estimate it.\n",
            "        \n",
            "        Optional argument ``interval`` represents the class interval, and\n",
            "        defaults to 1. Changing the class interval naturally will change the\n",
            "        interpolated 50th percentile value:\n",
            "        \n",
            "        >>> median_grouped([1, 3, 3, 5, 7], interval=1)\n",
            "        3.25\n",
            "        >>> median_grouped([1, 3, 3, 5, 7], interval=2)\n",
            "        3.5\n",
            "        \n",
            "        This function does not check whether the data points are at least\n",
            "        ``interval`` apart.\n",
            "    \n",
            "    median_high(data)\n",
            "        Return the high median of data.\n",
            "        \n",
            "        When the number of data points is odd, the middle value is returned.\n",
            "        When it is even, the larger of the two middle values is returned.\n",
            "        \n",
            "        >>> median_high([1, 3, 5])\n",
            "        3\n",
            "        >>> median_high([1, 3, 5, 7])\n",
            "        5\n",
            "    \n",
            "    median_low(data)\n",
            "        Return the low median of numeric data.\n",
            "        \n",
            "        When the number of data points is odd, the middle value is returned.\n",
            "        When it is even, the smaller of the two middle values is returned.\n",
            "        \n",
            "        >>> median_low([1, 3, 5])\n",
            "        3\n",
            "        >>> median_low([1, 3, 5, 7])\n",
            "        3\n",
            "    \n",
            "    mode(data)\n",
            "        Return the most common data point from discrete or nominal data.\n",
            "        \n",
            "        ``mode`` assumes discrete data, and returns a single value. This is the\n",
            "        standard treatment of the mode as commonly taught in schools:\n",
            "        \n",
            "        >>> mode([1, 1, 2, 3, 3, 3, 3, 4])\n",
            "        3\n",
            "        \n",
            "        This also works with nominal (non-numeric) data:\n",
            "        \n",
            "        >>> mode([\"red\", \"blue\", \"blue\", \"red\", \"green\", \"red\", \"red\"])\n",
            "        'red'\n",
            "        \n",
            "        If there is not exactly one most common value, ``mode`` will raise\n",
            "        StatisticsError.\n",
            "    \n",
            "    pstdev(data, mu=None)\n",
            "        Return the square root of the population variance.\n",
            "        \n",
            "        See ``pvariance`` for arguments and other details.\n",
            "        \n",
            "        >>> pstdev([1.5, 2.5, 2.5, 2.75, 3.25, 4.75])\n",
            "        0.986893273527251\n",
            "    \n",
            "    pvariance(data, mu=None)\n",
            "        Return the population variance of ``data``.\n",
            "        \n",
            "        data should be an iterable of Real-valued numbers, with at least one\n",
            "        value. The optional argument mu, if given, should be the mean of\n",
            "        the data. If it is missing or None, the mean is automatically calculated.\n",
            "        \n",
            "        Use this function to calculate the variance from the entire population.\n",
            "        To estimate the variance from a sample, the ``variance`` function is\n",
            "        usually a better choice.\n",
            "        \n",
            "        Examples:\n",
            "        \n",
            "        >>> data = [0.0, 0.25, 0.25, 1.25, 1.5, 1.75, 2.75, 3.25]\n",
            "        >>> pvariance(data)\n",
            "        1.25\n",
            "        \n",
            "        If you have already calculated the mean of the data, you can pass it as\n",
            "        the optional second argument to avoid recalculating it:\n",
            "        \n",
            "        >>> mu = mean(data)\n",
            "        >>> pvariance(data, mu)\n",
            "        1.25\n",
            "        \n",
            "        This function does not check that ``mu`` is actually the mean of ``data``.\n",
            "        Giving arbitrary values for ``mu`` may lead to invalid or impossible\n",
            "        results.\n",
            "        \n",
            "        Decimals and Fractions are supported:\n",
            "        \n",
            "        >>> from decimal import Decimal as D\n",
            "        >>> pvariance([D(\"27.5\"), D(\"30.25\"), D(\"30.25\"), D(\"34.5\"), D(\"41.75\")])\n",
            "        Decimal('24.815')\n",
            "        \n",
            "        >>> from fractions import Fraction as F\n",
            "        >>> pvariance([F(1, 4), F(5, 4), F(1, 2)])\n",
            "        Fraction(13, 72)\n",
            "    \n",
            "    stdev(data, xbar=None)\n",
            "        Return the square root of the sample variance.\n",
            "        \n",
            "        See ``variance`` for arguments and other details.\n",
            "        \n",
            "        >>> stdev([1.5, 2.5, 2.5, 2.75, 3.25, 4.75])\n",
            "        1.0810874155219827\n",
            "    \n",
            "    variance(data, xbar=None)\n",
            "        Return the sample variance of data.\n",
            "        \n",
            "        data should be an iterable of Real-valued numbers, with at least two\n",
            "        values. The optional argument xbar, if given, should be the mean of\n",
            "        the data. If it is missing or None, the mean is automatically calculated.\n",
            "        \n",
            "        Use this function when your data is a sample from a population. To\n",
            "        calculate the variance from the entire population, see ``pvariance``.\n",
            "        \n",
            "        Examples:\n",
            "        \n",
            "        >>> data = [2.75, 1.75, 1.25, 0.25, 0.5, 1.25, 3.5]\n",
            "        >>> variance(data)\n",
            "        1.3720238095238095\n",
            "        \n",
            "        If you have already calculated the mean of your data, you can pass it as\n",
            "        the optional second argument ``xbar`` to avoid recalculating it:\n",
            "        \n",
            "        >>> m = mean(data)\n",
            "        >>> variance(data, m)\n",
            "        1.3720238095238095\n",
            "        \n",
            "        This function does not check that ``xbar`` is actually the mean of\n",
            "        ``data``. Giving arbitrary values for ``xbar`` may lead to invalid or\n",
            "        impossible results.\n",
            "        \n",
            "        Decimals and Fractions are supported:\n",
            "        \n",
            "        >>> from decimal import Decimal as D\n",
            "        >>> variance([D(\"27.5\"), D(\"30.25\"), D(\"30.25\"), D(\"34.5\"), D(\"41.75\")])\n",
            "        Decimal('31.01875')\n",
            "        \n",
            "        >>> from fractions import Fraction as F\n",
            "        >>> variance([F(1, 6), F(1, 2), F(5, 3)])\n",
            "        Fraction(67, 108)\n",
            "\n",
            "DATA\n",
            "    __all__ = ['StatisticsError', 'pstdev', 'pvariance', 'stdev', 'varianc...\n",
            "\n",
            "FILE\n",
            "    c:\\users\\saima\\anaconda3\\lib\\statistics.py\n",
            "\n",
            "\n"
          ],
          "name": "stdout"
        }
      ]
    },
    {
      "cell_type": "code",
      "metadata": {
        "id": "odcJcp6l-_Sq",
        "colab_type": "code",
        "colab": {},
        "outputId": "324c6713-7d92-4681-f539-d9b7f1732156"
      },
      "source": [
        "s.mean(l)"
      ],
      "execution_count": 0,
      "outputs": [
        {
          "output_type": "execute_result",
          "data": {
            "text/plain": [
              "2"
            ]
          },
          "metadata": {
            "tags": []
          },
          "execution_count": 22
        }
      ]
    },
    {
      "cell_type": "code",
      "metadata": {
        "id": "ma5MZvJJ-_Ss",
        "colab_type": "code",
        "colab": {},
        "outputId": "5e8f8327-801d-4731-aa7c-daf7a7e41e3c"
      },
      "source": [
        "s.median(l)"
      ],
      "execution_count": 0,
      "outputs": [
        {
          "output_type": "execute_result",
          "data": {
            "text/plain": [
              "2"
            ]
          },
          "metadata": {
            "tags": []
          },
          "execution_count": 23
        }
      ]
    },
    {
      "cell_type": "code",
      "metadata": {
        "id": "S-Rw3khl-_S0",
        "colab_type": "code",
        "colab": {},
        "outputId": "2686f757-dd18-4c6e-aab2-db6ddc76c70d"
      },
      "source": [
        "sum(l)/len(l)"
      ],
      "execution_count": 0,
      "outputs": [
        {
          "output_type": "execute_result",
          "data": {
            "text/plain": [
              "2.0"
            ]
          },
          "metadata": {
            "tags": []
          },
          "execution_count": 24
        }
      ]
    },
    {
      "cell_type": "code",
      "metadata": {
        "id": "-3PfHrpM-_S4",
        "colab_type": "code",
        "colab": {},
        "outputId": "b2622ec2-ddbf-4491-fe84-e99384032a1a"
      },
      "source": [
        "s.variance(l)"
      ],
      "execution_count": 0,
      "outputs": [
        {
          "output_type": "execute_result",
          "data": {
            "text/plain": [
              "2.5"
            ]
          },
          "metadata": {
            "tags": []
          },
          "execution_count": 25
        }
      ]
    },
    {
      "cell_type": "code",
      "metadata": {
        "id": "tXxOpKxB-_S7",
        "colab_type": "code",
        "colab": {},
        "outputId": "5d9ceeea-d47f-48fc-fff7-0f74bfea4109"
      },
      "source": [
        "s.stdev(l)"
      ],
      "execution_count": 0,
      "outputs": [
        {
          "output_type": "execute_result",
          "data": {
            "text/plain": [
              "1.5811388300841898"
            ]
          },
          "metadata": {
            "tags": []
          },
          "execution_count": 26
        }
      ]
    },
    {
      "cell_type": "code",
      "metadata": {
        "id": "E5TdO9Y2-_S-",
        "colab_type": "code",
        "colab": {}
      },
      "source": [
        "import random as r"
      ],
      "execution_count": 0,
      "outputs": []
    },
    {
      "cell_type": "code",
      "metadata": {
        "id": "M9Q3brbs-_TB",
        "colab_type": "code",
        "colab": {},
        "outputId": "4e05393d-60a7-4478-c5aa-158da7e51329"
      },
      "source": [
        "import random as r\n",
        "print(r.choice(l),r.random(),r.randint(1,10))"
      ],
      "execution_count": 0,
      "outputs": [
        {
          "output_type": "stream",
          "text": [
            "1 0.9801484839925447 1\n"
          ],
          "name": "stdout"
        }
      ]
    },
    {
      "cell_type": "code",
      "metadata": {
        "id": "Tehhj5bX-_TD",
        "colab_type": "code",
        "colab": {},
        "outputId": "628a2cd1-9e99-4a62-cd30-4b019f5d5ad8"
      },
      "source": [
        "import random as r\n",
        "print(r.choice(l),r.random(),r.randint(1,10),r.randrange(1,10))"
      ],
      "execution_count": 0,
      "outputs": [
        {
          "output_type": "stream",
          "text": [
            "3 0.9436858024887105 5 6\n"
          ],
          "name": "stdout"
        }
      ]
    },
    {
      "cell_type": "code",
      "metadata": {
        "id": "CuW9hGMp-_TH",
        "colab_type": "code",
        "colab": {}
      },
      "source": [
        "import os"
      ],
      "execution_count": 0,
      "outputs": []
    },
    {
      "cell_type": "code",
      "metadata": {
        "id": "49BBzD8X-_TK",
        "colab_type": "code",
        "colab": {},
        "outputId": "362cebe1-036c-4b82-ed34-defa27665996"
      },
      "source": [
        "os.getcwd()"
      ],
      "execution_count": 0,
      "outputs": [
        {
          "output_type": "execute_result",
          "data": {
            "text/plain": [
              "'C:\\\\Users\\\\saima'"
            ]
          },
          "metadata": {
            "tags": []
          },
          "execution_count": 31
        }
      ]
    },
    {
      "cell_type": "code",
      "metadata": {
        "id": "V31bfms3-_TO",
        "colab_type": "code",
        "colab": {},
        "outputId": "f7f4ea91-9226-4095-d5f8-8c54f7853efa"
      },
      "source": [
        "import numpy as np\n",
        "list1 = [1,2,3,4,5]\n",
        "arr1 = np.array(list1)\n",
        "type(arr1)"
      ],
      "execution_count": 0,
      "outputs": [
        {
          "output_type": "execute_result",
          "data": {
            "text/plain": [
              "numpy.ndarray"
            ]
          },
          "metadata": {
            "tags": []
          },
          "execution_count": 34
        }
      ]
    },
    {
      "cell_type": "code",
      "metadata": {
        "id": "lMkahTeo-_TR",
        "colab_type": "code",
        "colab": {}
      },
      "source": [
        "arr1=n.array([1,2,3,4])\n",
        "arr2=n.array([5,6,7,8])"
      ],
      "execution_count": 0,
      "outputs": []
    },
    {
      "cell_type": "code",
      "metadata": {
        "id": "Tlyjc3VB-_TS",
        "colab_type": "code",
        "colab": {},
        "outputId": "58a43cf5-3565-4b4f-d8a9-93689ea2a348"
      },
      "source": [
        "list2 = list(range(1,11))\n",
        "list2"
      ],
      "execution_count": 0,
      "outputs": [
        {
          "output_type": "execute_result",
          "data": {
            "text/plain": [
              "[1, 2, 3, 4, 5, 6, 7, 8, 9, 10]"
            ]
          },
          "metadata": {
            "tags": []
          },
          "execution_count": 35
        }
      ]
    },
    {
      "cell_type": "code",
      "metadata": {
        "id": "GyIo2f1y-_TU",
        "colab_type": "code",
        "colab": {},
        "outputId": "766c7dd2-6f9d-4376-875b-1871b5b52f0d"
      },
      "source": [
        "arr2 = np.arange(1,11)\n",
        "arr2"
      ],
      "execution_count": 0,
      "outputs": [
        {
          "output_type": "execute_result",
          "data": {
            "text/plain": [
              "array([ 1,  2,  3,  4,  5,  6,  7,  8,  9, 10])"
            ]
          },
          "metadata": {
            "tags": []
          },
          "execution_count": 36
        }
      ]
    },
    {
      "cell_type": "code",
      "metadata": {
        "id": "0oH67JrE-_TV",
        "colab_type": "code",
        "colab": {},
        "outputId": "9fa334cb-09cf-4417-849f-f37a6102ce2f"
      },
      "source": [
        "import sys\n",
        "l=[1,2,3]\n",
        "print(sys.getsizeof(l[0]),arr1.itemsize)"
      ],
      "execution_count": 0,
      "outputs": [
        {
          "output_type": "stream",
          "text": [
            "14 4\n"
          ],
          "name": "stdout"
        }
      ]
    },
    {
      "cell_type": "code",
      "metadata": {
        "id": "Ia-uQip1-_TY",
        "colab_type": "code",
        "colab": {},
        "outputId": "71ad457a-e3b0-4dd3-d72a-edb3b20bce2a"
      },
      "source": [
        "import time\n",
        "import numpy as np\n",
        "size = 2000\n",
        "list1 = list(range(size))\n",
        "list2 = list(range(size))\n",
        "start = time.time()\n",
        "result = [x+y for x,y in zip(list1,list2)]\n",
        "print(\"Time took for python list: \",time.time()-start)\n",
        "arr1 = np.arange(size)\n",
        "arr2 = np.arange(size)\n",
        "start = time.time()\n",
        "result = arr1 + arr2\n",
        "print(\"Time took for Numpy array: \",time.time()-start)"
      ],
      "execution_count": 0,
      "outputs": [
        {
          "output_type": "stream",
          "text": [
            "Time took for python list:  0.0009996891021728516\n",
            "Time took for Numpy array:  0.0010004043579101562\n"
          ],
          "name": "stdout"
        }
      ]
    },
    {
      "cell_type": "code",
      "metadata": {
        "id": "oEV7DBK7-_Ta",
        "colab_type": "code",
        "colab": {},
        "outputId": "39727af5-55f1-45e7-d391-ed8e3a852d62"
      },
      "source": [
        "l1 = [1,2,3,4,5]\n",
        "l2 = [10,11,12,23,14]\n",
        "result = [x+y for x,y in zip(l1,l2)]\n",
        "result"
      ],
      "execution_count": 0,
      "outputs": [
        {
          "output_type": "execute_result",
          "data": {
            "text/plain": [
              "[11, 13, 15, 27, 19]"
            ]
          },
          "metadata": {
            "tags": []
          },
          "execution_count": 4
        }
      ]
    }
  ]
}