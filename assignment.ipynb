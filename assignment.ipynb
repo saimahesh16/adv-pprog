{
  "nbformat": 4,
  "nbformat_minor": 0,
  "metadata": {
    "colab": {
      "name": "assignment",
      "provenance": [],
      "authorship_tag": "ABX9TyOhldNyR+HEO1Hz6aDi62fq",
      "include_colab_link": true
    },
    "kernelspec": {
      "name": "python3",
      "display_name": "Python 3"
    }
  },
  "cells": [
    {
      "cell_type": "markdown",
      "metadata": {
        "id": "view-in-github",
        "colab_type": "text"
      },
      "source": [
        "<a href=\"https://colab.research.google.com/github/saimahesh16/adv-pprog/blob/master/assignment.ipynb\" target=\"_parent\"><img src=\"https://colab.research.google.com/assets/colab-badge.svg\" alt=\"Open In Colab\"/></a>"
      ]
    },
    {
      "cell_type": "markdown",
      "metadata": {
        "id": "4alnyeM7Nkn-",
        "colab_type": "text"
      },
      "source": [
        ""
      ]
    },
    {
      "cell_type": "markdown",
      "metadata": {
        "id": "kuUpK81WNl9u",
        "colab_type": "text"
      },
      "source": [
        "Convert a decimal number to Binary"
      ]
    },
    {
      "cell_type": "code",
      "metadata": {
        "id": "VGNte4U_NpKT",
        "colab_type": "code",
        "colab": {
          "base_uri": "https://localhost:8080/",
          "height": 51
        },
        "outputId": "4521dd8e-3f70-4bc1-a97f-f6eb9d4641a6"
      },
      "source": [
        "def decimalToBinary(num):\n",
        "    if num > 1:\n",
        "        decimalToBinary(num//2)\n",
        "    print(num%2,end='')\n",
        "number = int(input(\"enter any decmal number: \"))\n",
        "decimalToBinary(number)"
      ],
      "execution_count": 19,
      "outputs": [
        {
          "output_type": "stream",
          "text": [
            "enter any decmal number: 3\n",
            "11"
          ],
          "name": "stdout"
        }
      ]
    },
    {
      "cell_type": "markdown",
      "metadata": {
        "id": "Q4tOAOxi35OG",
        "colab_type": "text"
      },
      "source": [
        ". Generate the following pattern\n",
        "  \t*\n",
        "   \t*  *\n",
        "\t*  *  *\n",
        " \t*  *  *  *\n",
        " \t*  *  *  *  *\n",
        "\n",
        "# This is formatted as code\n",
        "```\t\n",
        "\t   *\n",
        "   \t*  *\n",
        "\t*  *  *\n",
        " \t*  *  *  *\n",
        " \t*  *  *  *  *\n",
        "\n",
        "```\n",
        "\n"
      ]
    },
    {
      "cell_type": "code",
      "metadata": {
        "id": "NbJF-vyK4MOM",
        "colab_type": "code",
        "outputId": "a505a510-fdbd-4405-cac7-e6854ea84884",
        "colab": {
          "base_uri": "https://localhost:8080/",
          "height": 189
        }
      },
      "source": [
        "for i in range (1,5+1):\n",
        "  for j in range (1,i):\n",
        "     print(\"*\", end=\" \")\n",
        "  print('\\n')\n"
      ],
      "execution_count": 0,
      "outputs": [
        {
          "output_type": "stream",
          "text": [
            "\n",
            "\n",
            "* \n",
            "\n",
            "* * \n",
            "\n",
            "* * * \n",
            "\n",
            "* * * * \n",
            "\n"
          ],
          "name": "stdout"
        }
      ]
    },
    {
      "cell_type": "markdown",
      "metadata": {
        "id": "Y_yaRA2UFO5i",
        "colab_type": "text"
      },
      "source": [
        "Display multiplication table of K. Take k value from user\n",
        " \tEx:      7 x 1 =7\n",
        "    \t\t7 x 2 = 14 "
      ]
    },
    {
      "cell_type": "markdown",
      "metadata": {
        "id": "KyeEEv-jYQe5",
        "colab_type": "text"
      },
      "source": [
        ""
      ]
    },
    {
      "cell_type": "code",
      "metadata": {
        "id": "mVNQTGWxFaIL",
        "colab_type": "code",
        "outputId": "073c2413-bf6b-4bb4-f7cc-58e00966f852",
        "colab": {
          "base_uri": "https://localhost:8080/",
          "height": 189
        }
      },
      "source": [
        "k=int(input(\"enter k value\"))\n",
        "for i in range(1,10):\n",
        "    print(k, 'x',i,'=', k*i)"
      ],
      "execution_count": 0,
      "outputs": [
        {
          "output_type": "stream",
          "text": [
            "enter k value7\n",
            "7 x 1 = 7\n",
            "7 x 2 = 14\n",
            "7 x 3 = 21\n",
            "7 x 4 = 28\n",
            "7 x 5 = 35\n",
            "7 x 6 = 42\n",
            "7 x 7 = 49\n",
            "7 x 8 = 56\n",
            "7 x 9 = 63\n"
          ],
          "name": "stdout"
        }
      ]
    },
    {
      "cell_type": "markdown",
      "metadata": {
        "id": "JZopmcNeYSYJ",
        "colab_type": "text"
      },
      "source": [
        "Generate first N number of Fibonacci numbers. Take N value from the user\n"
      ]
    },
    {
      "cell_type": "code",
      "metadata": {
        "id": "gl1gyxXjYfw8",
        "colab_type": "code",
        "colab": {
          "base_uri": "https://localhost:8080/",
          "height": 34
        },
        "outputId": "e10243d6-5fec-4d06-ec42-85bd7e6d22ee"
      },
      "source": [
        "def printFibonacciNumbers(n): \n",
        "      \n",
        "    x1 = 0\n",
        "    x2 = 1\n",
        "    if (n < 1): \n",
        "        return\n",
        "    for x in range(0, n): \n",
        "        print(x2, end = \" \") \n",
        "        next = x1 + x2 \n",
        "        x1 = x2 \n",
        "        x2 = next\n",
        "printFibonacciNumbers(5)"
      ],
      "execution_count": 20,
      "outputs": [
        {
          "output_type": "stream",
          "text": [
            "1 1 2 3 5 "
          ],
          "name": "stdout"
        }
      ]
    },
    {
      "cell_type": "markdown",
      "metadata": {
        "id": "bV-phheXbnxO",
        "colab_type": "text"
      },
      "source": [
        " Roots of quadratic equation\n",
        "  \tTake the coefficients a,b,c from the user"
      ]
    },
    {
      "cell_type": "code",
      "metadata": {
        "id": "0CGHDzFobrHG",
        "colab_type": "code",
        "colab": {
          "base_uri": "https://localhost:8080/",
          "height": 103
        },
        "outputId": "0b860b15-2d38-4ea0-ed2e-e969667e90a8"
      },
      "source": [
        "from math import sqrt\n",
        "\n",
        "print(\"Quadratic function : (a * x^2) + b*x + c\")\n",
        "a = float(input(\"a: \"))\n",
        "b = float(input(\"b: \"))\n",
        "c = float(input(\"c: \"))\n",
        "\n",
        "r = b**2 - 4*a*c\n",
        "\n",
        "if r > 0:\n",
        "    num_roots = 2\n",
        "    x1 = (((-b) + sqrt(r))/(2*a))     \n",
        "    x2 = (((-b) - sqrt(r))/(2*a))\n",
        "    print(\"There are 2 roots: %f and %f\" % (x1, x2))\n",
        "elif r == 0:\n",
        "    num_roots = 1\n",
        "    x = (-b) / 2*a\n",
        "    print(\"There is one root: \", x)\n",
        "else:\n",
        "    num_roots = 0\n",
        "    print(\"No roots, discriminant < 0.\")\n",
        "    "
      ],
      "execution_count": 21,
      "outputs": [
        {
          "output_type": "stream",
          "text": [
            "Quadratic function : (a * x^2) + b*x + c\n",
            "a: 2\n",
            "b: 3\n",
            "c: 5\n",
            "No roots, discriminant < 0.\n"
          ],
          "name": "stdout"
        }
      ]
    },
    {
      "cell_type": "code",
      "metadata": {
        "id": "9naVBWO_YR7v",
        "colab_type": "code",
        "colab": {}
      },
      "source": [
        ""
      ],
      "execution_count": 0,
      "outputs": []
    }
  ]
}