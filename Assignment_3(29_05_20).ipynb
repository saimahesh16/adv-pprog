{
  "nbformat": 4,
  "nbformat_minor": 0,
  "metadata": {
    "kernelspec": {
      "display_name": "Python 3",
      "language": "python",
      "name": "python3"
    },
    "language_info": {
      "codemirror_mode": {
        "name": "ipython",
        "version": 3
      },
      "file_extension": ".py",
      "mimetype": "text/x-python",
      "name": "python",
      "nbconvert_exporter": "python",
      "pygments_lexer": "ipython3",
      "version": "3.7.6"
    },
    "colab": {
      "name": "Assignment 3(29-05-20).ipynb",
      "provenance": [],
      "include_colab_link": true
    }
  },
  "cells": [
    {
      "cell_type": "markdown",
      "metadata": {
        "id": "view-in-github",
        "colab_type": "text"
      },
      "source": [
        "<a href=\"https://colab.research.google.com/github/saimahesh16/adv-pprog/blob/master/Assignment_3(29_05_20).ipynb\" target=\"_parent\"><img src=\"https://colab.research.google.com/assets/colab-badge.svg\" alt=\"Open In Colab\"/></a>"
      ]
    },
    {
      "cell_type": "markdown",
      "metadata": {
        "id": "cEDCqD4EAtlE",
        "colab_type": "text"
      },
      "source": [
        "Create a function to find Factorial of a number using Recursion"
      ]
    },
    {
      "cell_type": "code",
      "metadata": {
        "id": "SGRRpGeYAtlH",
        "colab_type": "code",
        "colab": {},
        "outputId": "fdd6d756-2e38-48b5-a5f9-8fdb75a7b9df"
      },
      "source": [
        "def fact(i):\n",
        "    if i==1:\n",
        "        return 1  \n",
        "    else:\n",
        "        return(i*fact(i-1))\n",
        "n=int(input())\n",
        "fact(n)"
      ],
      "execution_count": 0,
      "outputs": [
        {
          "output_type": "stream",
          "text": [
            "6\n"
          ],
          "name": "stdout"
        },
        {
          "output_type": "execute_result",
          "data": {
            "text/plain": [
              "720"
            ]
          },
          "metadata": {
            "tags": []
          },
          "execution_count": 14
        }
      ]
    },
    {
      "cell_type": "markdown",
      "metadata": {
        "id": "re6TGMZnAtlZ",
        "colab_type": "text"
      },
      "source": [
        "Create a function and display ‘n’ Fibonacci numbers using Recursion"
      ]
    },
    {
      "cell_type": "code",
      "metadata": {
        "id": "5AOtyVfTAtla",
        "colab_type": "code",
        "colab": {},
        "outputId": "f764e550-8f43-4d93-fefc-df644153a156"
      },
      "source": [
        "def fib(n):\n",
        "    if n<=1:\n",
        "        return n\n",
        "    else:\n",
        "        return fib(n-1)+fib(n-2)\n",
        "n=int(input())\n",
        "for i in range(n):\n",
        "    print(fib(i),end=' ')"
      ],
      "execution_count": 0,
      "outputs": [
        {
          "output_type": "stream",
          "text": [
            "6\n",
            "0 1 1 2 3 5 "
          ],
          "name": "stdout"
        }
      ]
    },
    {
      "cell_type": "markdown",
      "metadata": {
        "id": "cbSNoFmZAtlp",
        "colab_type": "text"
      },
      "source": [
        "Print sum of list of elements without using sum() function"
      ]
    },
    {
      "cell_type": "code",
      "metadata": {
        "id": "56kjtlvIAtlq",
        "colab_type": "code",
        "colab": {},
        "outputId": "5f93001e-5f62-4957-e442-53502b80f9e5"
      },
      "source": [
        "list1=[10,20,30,40]\n",
        "sum=0;\n",
        "for i in range(0,len(list1)):\n",
        "    sum=sum+list1[i]\n",
        "    \n",
        "print(sum)"
      ],
      "execution_count": 0,
      "outputs": [
        {
          "output_type": "stream",
          "text": [
            "100\n"
          ],
          "name": "stdout"
        }
      ]
    },
    {
      "cell_type": "markdown",
      "metadata": {
        "id": "wCy7si58Atly",
        "colab_type": "text"
      },
      "source": [
        "print only even numbers from the list"
      ]
    },
    {
      "cell_type": "code",
      "metadata": {
        "id": "AdGLBO1PAtl1",
        "colab_type": "code",
        "colab": {},
        "outputId": "a78b6666-1b51-4e8c-b59d-42cf6c346f2e"
      },
      "source": [
        "l1=[10,21,30,33,35,89,90,2,36,47]\n",
        "for i in range(0,len(l1)):\n",
        "    if l1[i]%2==0:\n",
        "        l2=print(l1[i])"
      ],
      "execution_count": 0,
      "outputs": [
        {
          "output_type": "stream",
          "text": [
            "10\n",
            "30\n",
            "90\n",
            "2\n",
            "36\n"
          ],
          "name": "stdout"
        }
      ]
    },
    {
      "cell_type": "markdown",
      "metadata": {
        "id": "WMj7mxkVAtl7",
        "colab_type": "text"
      },
      "source": [
        "Write a Python program to get the smallest number from a list and display index of smallest element of the list"
      ]
    },
    {
      "cell_type": "code",
      "metadata": {
        "id": "LdqCSLegAtl8",
        "colab_type": "code",
        "colab": {},
        "outputId": "5b3e9beb-c8ee-4e6f-b9eb-d3f27b6bdccf"
      },
      "source": [
        "l1=[10,20,4,5,66,89,10001,1,79]\n",
        "s=l1[0]\n",
        "for i in range(0,len(l1)):\n",
        "    if l1[i]<s:\n",
        "        a=l1[i]\n",
        "        ind=i\n",
        "        \n",
        "        \n",
        "print(a)\n",
        "print(ind+1)"
      ],
      "execution_count": 0,
      "outputs": [
        {
          "output_type": "stream",
          "text": [
            "1\n",
            "8\n"
          ],
          "name": "stdout"
        }
      ]
    },
    {
      "cell_type": "markdown",
      "metadata": {
        "id": "BECq-8oHAtmE",
        "colab_type": "text"
      },
      "source": [
        "Write a Python program to count the number of even and odd numbers from a series of numbers. \n",
        "Sample numbers : numbers = [1, 2, 3, 4, 5, 6, 7, 8, 9]\n",
        "Expected Output :\n",
        "Number of even numbers : 4\n",
        "Number of odd numbers : 5"
      ]
    },
    {
      "cell_type": "code",
      "metadata": {
        "id": "Iov69-UqAtmH",
        "colab_type": "code",
        "colab": {},
        "outputId": "2f930555-b6bc-441d-bea0-f3180ccc8545"
      },
      "source": [
        "l1= [1, 2, 3, 4, 5, 6, 7, 8, 9]\n",
        "ec=0\n",
        "oc=0\n",
        "for i in range (0,len(l1)):\n",
        "    if i%2==0:\n",
        "        ec=ec+1;\n",
        "    else:\n",
        "        oc=oc+1\n",
        "        \n",
        "print(\"Number of even numbers=\",end=\" \")\n",
        "print(ec)\n",
        "print(\"Number of odd numbers=\",end=\" \")\n",
        "print(oc)"
      ],
      "execution_count": 0,
      "outputs": [
        {
          "output_type": "stream",
          "text": [
            "Number of even numbers= 5\n",
            "Number of odd numbers= 4\n"
          ],
          "name": "stdout"
        }
      ]
    },
    {
      "cell_type": "markdown",
      "metadata": {
        "id": "HosJWA1VAtmS",
        "colab_type": "text"
      },
      "source": [
        "Write a Python program that prints all the numbers from 0 to 6 except 3 and 6.\n",
        "Note : Use 'continue' statement.\n",
        "Expected Output : 0 1 2 4 5\n"
      ]
    },
    {
      "cell_type": "code",
      "metadata": {
        "id": "Y0UFlFEWAtmT",
        "colab_type": "code",
        "colab": {},
        "outputId": "b7d2f4ef-f74c-4aee-9336-7d741eac2544"
      },
      "source": [
        "for i in range (0,7):\n",
        "    if i==3 or i==6:\n",
        "        continue\n",
        "    else:\n",
        "        print(i)"
      ],
      "execution_count": 0,
      "outputs": [
        {
          "output_type": "stream",
          "text": [
            "0\n",
            "1\n",
            "2\n",
            "4\n",
            "5\n"
          ],
          "name": "stdout"
        }
      ]
    },
    {
      "cell_type": "markdown",
      "metadata": {
        "id": "F_ua46y1AtmZ",
        "colab_type": "text"
      },
      "source": [
        "Write a python function to check whether the given number is prime or not"
      ]
    },
    {
      "cell_type": "code",
      "metadata": {
        "id": "d4hI4fSMAtmb",
        "colab_type": "code",
        "colab": {},
        "outputId": "06b009a1-3aa0-4346-a178-99a7a8cacb70"
      },
      "source": [
        "n=int(input(\"enter a number\"))\n",
        "c=0\n",
        "for i in range (2,n+1):\n",
        "    if n%i==0:\n",
        "        c=c+1\n",
        "        \n",
        "if c==1:\n",
        "    print(\"it is a prime number\")\n",
        "else:\n",
        "    print(\"not a prime number\")"
      ],
      "execution_count": 0,
      "outputs": [
        {
          "output_type": "stream",
          "text": [
            "enter a number6\n",
            "not a prime number\n"
          ],
          "name": "stdout"
        }
      ]
    },
    {
      "cell_type": "markdown",
      "metadata": {
        "id": "OBhKZj-jAtmh",
        "colab_type": "text"
      },
      "source": [
        "Write a python function to check whether the given number is Adam number or not\n",
        "Example: \n",
        "Input : 12\n",
        "Output : Adam Number\n",
        "\n",
        "Explanation: 12*12 = 144\n",
        "Reverse of 12 is 21 → 21*21 =441\n",
        "Reverse of 144 == 441\n"
      ]
    },
    {
      "cell_type": "code",
      "metadata": {
        "id": "gWz8Tta0Atmj",
        "colab_type": "code",
        "colab": {},
        "outputId": "afe89e1c-8a80-476e-90d5-3f65c4d86427"
      },
      "source": [
        "def rev(n):\n",
        "    rev=0\n",
        "    while n>0:\n",
        "        rem=n%10\n",
        "        rev=rev*10+rem\n",
        "        n=n//10\n",
        "    return rev\n",
        "        \n",
        "n=int(input(\"enter a number\"))\n",
        "s1=n*n\n",
        "rev1=rev(n)\n",
        "s2=rev1*rev1\n",
        "if s1==rev(s2):\n",
        "    print(\"Adam Number\")\n",
        "else:\n",
        "    print(\"Not a Adam Number\")"
      ],
      "execution_count": 0,
      "outputs": [
        {
          "output_type": "stream",
          "text": [
            "enter a number12\n",
            "Adam Number\n"
          ],
          "name": "stdout"
        }
      ]
    },
    {
      "cell_type": "markdown",
      "metadata": {
        "id": "LuZ4piwHAtmq",
        "colab_type": "text"
      },
      "source": [
        "Write a Python function that checks whether a passed string is palindrome or not"
      ]
    },
    {
      "cell_type": "code",
      "metadata": {
        "id": "yNA8jQeDAtmr",
        "colab_type": "code",
        "colab": {},
        "outputId": "1d50e5c8-3431-46d3-dac6-663fdaa4ef0d"
      },
      "source": [
        "def pallin(s):\n",
        "    s1=s[::-1]\n",
        "    if s1==s:\n",
        "        print(\"Pallindrome\")\n",
        "    else:\n",
        "        print(\"Not a Pallindrome\")\n",
        "n=input()\n",
        "pallin(n)"
      ],
      "execution_count": 0,
      "outputs": [
        {
          "output_type": "stream",
          "text": [
            "mahesh\n",
            "Not a Pallindrome\n"
          ],
          "name": "stdout"
        }
      ]
    },
    {
      "cell_type": "code",
      "metadata": {
        "id": "OVgtCF5IAtm0",
        "colab_type": "code",
        "colab": {}
      },
      "source": [
        ""
      ],
      "execution_count": 0,
      "outputs": []
    },
    {
      "cell_type": "code",
      "metadata": {
        "id": "zshgf7zcAtm7",
        "colab_type": "code",
        "colab": {}
      },
      "source": [
        ""
      ],
      "execution_count": 0,
      "outputs": []
    }
  ]
}