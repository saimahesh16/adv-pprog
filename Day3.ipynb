{
  "nbformat": 4,
  "nbformat_minor": 0,
  "metadata": {
    "colab": {
      "name": "Day3",
      "provenance": []
    },
    "kernelspec": {
      "name": "python3",
      "display_name": "Python 3"
    }
  },
  "cells": [
    {
      "cell_type": "code",
      "metadata": {
        "id": "uMcr-0YmVJBu",
        "colab_type": "code",
        "colab": {
          "base_uri": "https://localhost:8080/",
          "height": 34
        },
        "outputId": "a9a7a768-ff62-40a4-aae7-fcab23616a87"
      },
      "source": [
        "print(\"hello\")"
      ],
      "execution_count": 1,
      "outputs": [
        {
          "output_type": "stream",
          "text": [
            "hello\n"
          ],
          "name": "stdout"
        }
      ]
    },
    {
      "cell_type": "markdown",
      "metadata": {
        "id": "qNu6yFvByrwg",
        "colab_type": "text"
      },
      "source": [
        "# Python\n",
        "## Python\n",
        "### Python\n",
        "#### Python\n",
        "##### Python\n",
        "###### Python"
      ]
    },
    {
      "cell_type": "code",
      "metadata": {
        "id": "sdWTWwzdyqz4",
        "colab_type": "code",
        "colab": {}
      },
      "source": [
        ""
      ],
      "execution_count": 0,
      "outputs": []
    },
    {
      "cell_type": "markdown",
      "metadata": {
        "id": "q1a5-xOlYleq",
        "colab_type": "text"
      },
      "source": [
        "### list of programming languages\n",
        "1.python\n",
        "2.java\n",
        "3.c\n",
        "4.c++\n",
        "5. .NET"
      ]
    },
    {
      "cell_type": "markdown",
      "metadata": {
        "id": "x0RLwrToy1Qz",
        "colab_type": "text"
      },
      "source": [
        "# UnOrdered List\n",
        "- List Item1\n",
        "    - Item 1\n",
        "    - Item2\n",
        "- List Item2\n",
        "- List Item3"
      ]
    },
    {
      "cell_type": "markdown",
      "metadata": {
        "id": "l7c549yReUTv",
        "colab_type": "text"
      },
      "source": [
        "**Bold**\n",
        "*Italic*"
      ]
    },
    {
      "cell_type": "markdown",
      "metadata": {
        "id": "Msaeet-8ZlkG",
        "colab_type": "text"
      },
      "source": [
        "[Click here](https://moodle.dspsinstitute.com/)"
      ]
    },
    {
      "cell_type": "markdown",
      "metadata": {
        "id": "TIF1k_w6ZZMs",
        "colab_type": "text"
      },
      "source": [
        "- **python programming**\n",
        "- *python programming*"
      ]
    },
    {
      "cell_type": "markdown",
      "metadata": {
        "id": "Wf40yBRmaL0t",
        "colab_type": "text"
      },
      "source": [
        "! [image] https://cdn.pixabay.com/photo/2015/04/23/22/00/tree-736885__340.jpg"
      ]
    },
    {
      "cell_type": "markdown",
      "metadata": {
        "id": "nhj1gZahega4",
        "colab_type": "text"
      },
      "source": [
        "<img src=\"data:image/png;base64,iVBORw0KGgoAAAANSUhEUgAAAOEAAADhCAMAAAAJbSJIAAAAclBMVEUAAAD////MzMzj4+O3t7fx8fGmpqaysrKOjo7Gxsa9vb38/PypqamsrKzu7u5ra2vc3Nx4eHglJSXS0tIQEBBgYGBFRUXCwsJMTEw3Nzeenp4bGxtYWFiCgoLf39+YmJiGhoYxMTEiIiJUVFR0dHQNDQ2QjkL6AAADdklEQVR4nO3c61LiQBCGYQYIIQQ0KoiALLC693+LKx4ZyImkU92J7/NXquyvksxMegZ6PQAAAAAAAAAAAAAAAAAAAAAA0C3zl7l2CU3aRoFzz9pVNGYzdO9utQtpymc+5xbalTTjzn171K6lEcufgE67lkYMTgLG2sU0ITgJ6CLtahpwegWdG2uXI2/iBezgY3jrB+xr1yMv9hN2bzac+gEH2vXI8wN2cFE68gMuteuR5z+FHZztF/4lfNKuR97MC3inXU4DvOXMXruaJpwG7OSb7+Yn381Ku5hGHL4DrrVLacjqM1+oXUhj3u7SeBB28gHspsV4FIazcfbLw/NukgQuGEThuH3dqKfwZOZL1veXn9j3/eVN1Krpf3xz9gbhkq33gcXy/ANHU6Vyr7aN08p3w687cbMOUj/Qljnk75+s8l0we129rJPMv7tWrANu8+ovw/rjuK4b0LmddoZcYf2Athuoo+Lyy7C75tnKBHTO6nDzKBUwsNqAu5jmKzK7VSP0ENodSzfFtZey1w6SKXWleT27U4XQJTT88j8trr4Ey/s06e8T10p5j7RiUVx9CSPtGDmGxeUXM71PIzLbm50J38wlApo+s3BXXH4x02cWRFZsdif73sURmWoMTxXnp5yqMT2Sisz3ltczF0dIKjH7WvhOIuFEO0QuEpLw6EE7RC6JhIF2iFwSCU0vS2USmt4HlljT2N48jCQSJtop8ojsOZleeu9EElrex5dpRJkeTWUSGu4H9zJPV1zH8IQhMpg6d6OdI5vMUGO5G7UqLr4cu4+izL6F5Ygi3bZ3Vm/UV7GEZk9+ySW0ugclNF98iC32v2sf2fNpx0kjGtBk83RWXHd5Jo+23QsGNLqH0S+uvCybg2nvRS6hdpQsIv2oI7Ptb6E3fcsNm+xj+lcx/PVnoSfR7iUUGk5n2inySJxQNDoXfhHoZmyL/4uq2jOG6d7+0aFuwn/aCQrt6wW0/rWno4c6Aa02aXw12m62d7q/PVVP2JZfAqn8KFrszqSruGE61K77CpVWb7YP1JxLjxgP+lHUH6QPRe0KmHZ4P9kdvv542F0ufdp0i37wj37Hs7NXotXZRkcbZvpz85/LmKSupk8upNHOU7HdMkkehuPMn0K+34eT/mTavZ/dAwAAAAAAAAAAAAAAAAAAAAAAAAAAAPDL/Qd1QiS0LZvdpgAAAABJRU5ErkJggg==\" width=400 height=600>"
      ]
    },
    {
      "cell_type": "code",
      "metadata": {
        "id": "5IkbzY7XgX30",
        "colab_type": "code",
        "colab": {
          "base_uri": "https://localhost:8080/",
          "height": 34
        },
        "outputId": "84e48f5c-1c70-483f-9a31-60f3a5e5dfab"
      },
      "source": [
        "a=10\n",
        "b=10.5\n",
        "c=\"a\"\n",
        "d=1+5j\n",
        "print(type(a),type(b),type(c),type(d))"
      ],
      "execution_count": 9,
      "outputs": [
        {
          "output_type": "stream",
          "text": [
            "<class 'int'> <class 'float'> <class 'str'> <class 'complex'>\n"
          ],
          "name": "stdout"
        }
      ]
    },
    {
      "cell_type": "code",
      "metadata": {
        "id": "skxt0kqHhP81",
        "colab_type": "code",
        "colab": {
          "base_uri": "https://localhost:8080/",
          "height": 34
        },
        "outputId": "c552f48a-bec5-4623-a205-e494b2ea80af"
      },
      "source": [
        "c1=complex(5,7)\n",
        "print(c1,c1.real,c1.imag)\n"
      ],
      "execution_count": 10,
      "outputs": [
        {
          "output_type": "stream",
          "text": [
            "(5+7j) 5.0 7.0\n"
          ],
          "name": "stdout"
        }
      ]
    },
    {
      "cell_type": "code",
      "metadata": {
        "id": "azvJZ3Fqiy-w",
        "colab_type": "code",
        "colab": {
          "base_uri": "https://localhost:8080/",
          "height": 51
        },
        "outputId": "22e1aec4-ee89-408d-f38e-6b6828b2e6eb"
      },
      "source": [
        "a=int(input())\n",
        "print(a*5)"
      ],
      "execution_count": 1,
      "outputs": [
        {
          "output_type": "stream",
          "text": [
            "5\n",
            "25\n"
          ],
          "name": "stdout"
        }
      ]
    },
    {
      "cell_type": "code",
      "metadata": {
        "id": "bN1J20Cvjl_e",
        "colab_type": "code",
        "colab": {
          "base_uri": "https://localhost:8080/",
          "height": 51
        },
        "outputId": "7318a8f1-226a-47d4-b978-d11b3709f1ce"
      },
      "source": [
        "a=int(input())\n",
        "print(a*5,a+7,a-5,a/5,a%2,a//2,a**2,end=\" \")\n",
        "# sep=\" \"\n"
      ],
      "execution_count": 14,
      "outputs": [
        {
          "output_type": "stream",
          "text": [
            "5\n",
            "25 12 0 1.0 1 2 25 "
          ],
          "name": "stdout"
        }
      ]
    },
    {
      "cell_type": "code",
      "metadata": {
        "id": "WDcBcqmTjun2",
        "colab_type": "code",
        "colab": {
          "base_uri": "https://localhost:8080/",
          "height": 34
        },
        "outputId": "1c0e5f8b-2f04-4094-ed9d-560b4368d28e"
      },
      "source": [
        "\n",
        "a=5\n",
        "print(a<5,a>5,a==5,a<=5,a>=5,a!=5,a and 9, a or 0, not a, end=\" \")"
      ],
      "execution_count": 17,
      "outputs": [
        {
          "output_type": "stream",
          "text": [
            "False False True True True False 9 5 False "
          ],
          "name": "stdout"
        }
      ]
    },
    {
      "cell_type": "code",
      "metadata": {
        "id": "94s6jupaqfFK",
        "colab_type": "code",
        "colab": {
          "base_uri": "https://localhost:8080/",
          "height": 34
        },
        "outputId": "d0665978-00a0-4fec-bbbf-0c2c888e61e4"
      },
      "source": [
        "l=[1,2,3]\n",
        "4 in l"
      ],
      "execution_count": 21,
      "outputs": [
        {
          "output_type": "execute_result",
          "data": {
            "text/plain": [
              "False"
            ]
          },
          "metadata": {
            "tags": []
          },
          "execution_count": 21
        }
      ]
    },
    {
      "cell_type": "code",
      "metadata": {
        "id": "iuatSOW_rDVj",
        "colab_type": "code",
        "colab": {
          "base_uri": "https://localhost:8080/",
          "height": 34
        },
        "outputId": "31d671ea-7f72-4c00-9f1c-33ac6929f6fe"
      },
      "source": [
        "5 not in l"
      ],
      "execution_count": 22,
      "outputs": [
        {
          "output_type": "execute_result",
          "data": {
            "text/plain": [
              "True"
            ]
          },
          "metadata": {
            "tags": []
          },
          "execution_count": 22
        }
      ]
    },
    {
      "cell_type": "code",
      "metadata": {
        "id": "Ktbruah9rGg0",
        "colab_type": "code",
        "colab": {
          "base_uri": "https://localhost:8080/",
          "height": 34
        },
        "outputId": "4acd3564-a573-4f7b-c1c0-cdc1386af03d"
      },
      "source": [
        "if a>5:\n",
        "  print(\"hi\")\n",
        "elif a==5:\n",
        "  print(\"hello\")\n",
        "else:\n",
        "  print(\"bye\")"
      ],
      "execution_count": 23,
      "outputs": [
        {
          "output_type": "stream",
          "text": [
            "hello\n"
          ],
          "name": "stdout"
        }
      ]
    },
    {
      "cell_type": "code",
      "metadata": {
        "id": "26jDIExvrpM9",
        "colab_type": "code",
        "colab": {
          "base_uri": "https://localhost:8080/",
          "height": 34
        },
        "outputId": "34259c4f-8a6b-4819-a22d-3dbe9737cd07"
      },
      "source": [
        "a=3\n",
        "b=4\n",
        "c=3\n",
        "if a>b and a>c:\n",
        "  print(a)\n",
        "elif b>c:\n",
        "  print(b)\n",
        "else:\n",
        "  print(c)"
      ],
      "execution_count": 24,
      "outputs": [
        {
          "output_type": "stream",
          "text": [
            "4\n"
          ],
          "name": "stdout"
        }
      ]
    },
    {
      "cell_type": "code",
      "metadata": {
        "id": "MImz8Gy2uHgU",
        "colab_type": "code",
        "colab": {
          "base_uri": "https://localhost:8080/",
          "height": 51
        },
        "outputId": "c4fd2d84-52e2-4ed4-9f7d-6047e3bf3288"
      },
      "source": [
        "n = int(input(\"enter n value\"))\n",
        "i = 1\n",
        "while i<=n:\n",
        "    print(i,end=\" \")\n",
        "    i +=1"
      ],
      "execution_count": 25,
      "outputs": [
        {
          "output_type": "stream",
          "text": [
            "enter n value8\n",
            "1 2 3 4 5 6 7 8 "
          ],
          "name": "stdout"
        }
      ]
    },
    {
      "cell_type": "code",
      "metadata": {
        "id": "Fmn90rnSw19x",
        "colab_type": "code",
        "colab": {}
      },
      "source": [
        ""
      ],
      "execution_count": 0,
      "outputs": []
    }
  ]
}