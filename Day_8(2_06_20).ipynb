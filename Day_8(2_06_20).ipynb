{
  "nbformat": 4,
  "nbformat_minor": 0,
  "metadata": {
    "kernelspec": {
      "display_name": "Python 3",
      "language": "python",
      "name": "python3"
    },
    "language_info": {
      "codemirror_mode": {
        "name": "ipython",
        "version": 3
      },
      "file_extension": ".py",
      "mimetype": "text/x-python",
      "name": "python",
      "nbconvert_exporter": "python",
      "pygments_lexer": "ipython3",
      "version": "3.7.6"
    },
    "colab": {
      "name": "Day 8(2-06-20).ipynb",
      "provenance": [],
      "include_colab_link": true
    }
  },
  "cells": [
    {
      "cell_type": "markdown",
      "metadata": {
        "id": "view-in-github",
        "colab_type": "text"
      },
      "source": [
        "<a href=\"https://colab.research.google.com/github/saimahesh16/adv-pprog/blob/master/Day_8(2_06_20).ipynb\" target=\"_parent\"><img src=\"https://colab.research.google.com/assets/colab-badge.svg\" alt=\"Open In Colab\"/></a>"
      ]
    },
    {
      "cell_type": "code",
      "metadata": {
        "id": "Vc2WVOVwJS2K",
        "colab_type": "code",
        "colab": {},
        "outputId": "004ba5ed-d2f3-464c-e6e9-581cb06959d1"
      },
      "source": [
        "list1 = list(range(1,11))\n",
        "list1"
      ],
      "execution_count": 0,
      "outputs": [
        {
          "output_type": "execute_result",
          "data": {
            "text/plain": [
              "[1, 2, 3, 4, 5, 6, 7, 8, 9, 10]"
            ]
          },
          "metadata": {
            "tags": []
          },
          "execution_count": 1
        }
      ]
    },
    {
      "cell_type": "code",
      "metadata": {
        "id": "GRmHJ8W5JS2W",
        "colab_type": "code",
        "colab": {},
        "outputId": "71675a62-e4b4-4808-a47b-3c9ec97b8e3a"
      },
      "source": [
        "list1 = list(range(1,11))\n",
        "list2 = []\n",
        "for i in list1:\n",
        "    if i%2 == 0:\n",
        "        list2.append(i)\n",
        "print(list2)"
      ],
      "execution_count": 0,
      "outputs": [
        {
          "output_type": "stream",
          "text": [
            "[2, 4, 6, 8, 10]\n"
          ],
          "name": "stdout"
        }
      ]
    },
    {
      "cell_type": "code",
      "metadata": {
        "id": "qKWvrSDpJS2g",
        "colab_type": "code",
        "colab": {},
        "outputId": "5bd22a11-ee0e-448c-b9b2-2edd227da309"
      },
      "source": [
        "list3 = [i for i in list1 if i%2 == 0]\n",
        "print(list3)"
      ],
      "execution_count": 0,
      "outputs": [
        {
          "output_type": "stream",
          "text": [
            "[2, 4, 6, 8, 10]\n"
          ],
          "name": "stdout"
        }
      ]
    },
    {
      "cell_type": "code",
      "metadata": {
        "id": "cPqNSEqPJS2n",
        "colab_type": "code",
        "colab": {},
        "outputId": "741f4482-91a8-426d-ae51-2e57a507bf71"
      },
      "source": [
        "li=[int(i) for i in (input()) if(i.isdigit())]\n",
        "li"
      ],
      "execution_count": 0,
      "outputs": [
        {
          "output_type": "stream",
          "text": [
            "Hello 12345\n"
          ],
          "name": "stdout"
        },
        {
          "output_type": "execute_result",
          "data": {
            "text/plain": [
              "[1, 2, 3, 4, 5]"
            ]
          },
          "metadata": {
            "tags": []
          },
          "execution_count": 9
        }
      ]
    },
    {
      "cell_type": "code",
      "metadata": {
        "id": "o7v80LIAJS2t",
        "colab_type": "code",
        "colab": {},
        "outputId": "d9b5933f-2369-45e3-a864-e44d32a2c8ef"
      },
      "source": [
        "string = input(\"enter a string:\")\n",
        "list = [ch for ch in string if ch.isdigit()]\n",
        "print(list,len(list))"
      ],
      "execution_count": 0,
      "outputs": [
        {
          "output_type": "stream",
          "text": [
            "enter a string:Hello 12345\n",
            "['1', '2', '3', '4', '5'] 5\n"
          ],
          "name": "stdout"
        }
      ]
    },
    {
      "cell_type": "code",
      "metadata": {
        "id": "GVzcakB6JS2y",
        "colab_type": "code",
        "colab": {},
        "outputId": "e2e14201-5434-466d-b56a-94ce1b85cca0"
      },
      "source": [
        "\n",
        "list1=list(range(1,11))\n",
        "list2=list(range(11,21))\n",
        "list3=[list1[i]+list2[i] for i in range(len(list1))]\n",
        "print(list3)"
      ],
      "execution_count": 0,
      "outputs": [
        {
          "output_type": "stream",
          "text": [
            "[12, 14, 16, 18, 20, 22, 24, 26, 28, 30]\n"
          ],
          "name": "stdout"
        }
      ]
    },
    {
      "cell_type": "code",
      "metadata": {
        "id": "du6TuGzoJS2-",
        "colab_type": "code",
        "colab": {},
        "outputId": "d76e512b-2250-49e1-c3fb-aa256e92f2bd"
      },
      "source": [
        "s=lambda x: x**2\n",
        "s(4)"
      ],
      "execution_count": 0,
      "outputs": [
        {
          "output_type": "execute_result",
          "data": {
            "text/plain": [
              "16"
            ]
          },
          "metadata": {
            "tags": []
          },
          "execution_count": 17
        }
      ]
    },
    {
      "cell_type": "code",
      "metadata": {
        "id": "tk07UtDZJS3L",
        "colab_type": "code",
        "colab": {},
        "outputId": "321d3b19-8d2a-4f89-bfcd-e45086657251"
      },
      "source": [
        "add=lambda x,y :x+y\n",
        "add(10,20)"
      ],
      "execution_count": 0,
      "outputs": [
        {
          "output_type": "execute_result",
          "data": {
            "text/plain": [
              "30"
            ]
          },
          "metadata": {
            "tags": []
          },
          "execution_count": 19
        }
      ]
    },
    {
      "cell_type": "code",
      "metadata": {
        "id": "n48aDPQ7JS3U",
        "colab_type": "code",
        "colab": {},
        "outputId": "473a3d05-2fe4-472d-db20-b7fa70d1d3aa"
      },
      "source": [
        "l=[i*2 for i in range(1,11)]\n",
        "l"
      ],
      "execution_count": 0,
      "outputs": [
        {
          "output_type": "execute_result",
          "data": {
            "text/plain": [
              "[2, 4, 6, 8, 10, 12, 14, 16, 18, 20]"
            ]
          },
          "metadata": {
            "tags": []
          },
          "execution_count": 20
        }
      ]
    },
    {
      "cell_type": "code",
      "metadata": {
        "id": "oeuQrAgUJS3g",
        "colab_type": "code",
        "colab": {},
        "outputId": "7d9b3b86-f849-4840-cfad-593f4b12843c"
      },
      "source": [
        "s=lambda x: x*2\n",
        "l=[s(i) for i in range(1,11)]\n",
        "l"
      ],
      "execution_count": 0,
      "outputs": [
        {
          "output_type": "execute_result",
          "data": {
            "text/plain": [
              "[2, 4, 6, 8, 10, 12, 14, 16, 18, 20]"
            ]
          },
          "metadata": {
            "tags": []
          },
          "execution_count": 22
        }
      ]
    },
    {
      "cell_type": "code",
      "metadata": {
        "id": "2FbQOVV7JS3p",
        "colab_type": "code",
        "colab": {},
        "outputId": "2b0040ec-7462-4c43-86ae-1e356ab6eb51"
      },
      "source": [
        "l=[2, 4, 6, 8, 10, 12, 14, 16, 18, 20]\n",
        "list1 = list(map(lambda x: x*2,l))\n",
        "list1"
      ],
      "execution_count": 0,
      "outputs": [
        {
          "output_type": "execute_result",
          "data": {
            "text/plain": [
              "[4, 8, 12, 16, 20, 24, 28, 32, 36, 40]"
            ]
          },
          "metadata": {
            "tags": []
          },
          "execution_count": 4
        }
      ]
    },
    {
      "cell_type": "code",
      "metadata": {
        "id": "WhW8Z7vgJS3y",
        "colab_type": "code",
        "colab": {}
      },
      "source": [
        "l=\"1 2 3\"\n",
        "a,b,c=map(int,l.split())"
      ],
      "execution_count": 0,
      "outputs": []
    },
    {
      "cell_type": "code",
      "metadata": {
        "id": "FA9bt59DJS36",
        "colab_type": "code",
        "colab": {},
        "outputId": "33d6d4bd-387b-43be-c014-f9789ea963d3"
      },
      "source": [
        "a"
      ],
      "execution_count": 0,
      "outputs": [
        {
          "output_type": "execute_result",
          "data": {
            "text/plain": [
              "1"
            ]
          },
          "metadata": {
            "tags": []
          },
          "execution_count": 29
        }
      ]
    },
    {
      "cell_type": "code",
      "metadata": {
        "id": "349OixsvJS4A",
        "colab_type": "code",
        "colab": {},
        "outputId": "af751683-c264-4566-f219-5b2a03ac892a"
      },
      "source": [
        "b"
      ],
      "execution_count": 0,
      "outputs": [
        {
          "output_type": "execute_result",
          "data": {
            "text/plain": [
              "2"
            ]
          },
          "metadata": {
            "tags": []
          },
          "execution_count": 30
        }
      ]
    },
    {
      "cell_type": "code",
      "metadata": {
        "id": "cvw-ESloJS4F",
        "colab_type": "code",
        "colab": {},
        "outputId": "b7b08b99-88ae-4572-cfb8-3da6832a2d74"
      },
      "source": [
        "c"
      ],
      "execution_count": 0,
      "outputs": [
        {
          "output_type": "execute_result",
          "data": {
            "text/plain": [
              "3"
            ]
          },
          "metadata": {
            "tags": []
          },
          "execution_count": 31
        }
      ]
    },
    {
      "cell_type": "code",
      "metadata": {
        "id": "IN1OdC8NJS4L",
        "colab_type": "code",
        "colab": {},
        "outputId": "5ae3d290-b88f-4e7c-c0d6-7127d9992628"
      },
      "source": [
        "a,b,c=map(int,input().split())"
      ],
      "execution_count": 0,
      "outputs": [
        {
          "output_type": "stream",
          "text": [
            "1 2 5\n"
          ],
          "name": "stdout"
        }
      ]
    },
    {
      "cell_type": "code",
      "metadata": {
        "id": "JcMrxQEjJS4R",
        "colab_type": "code",
        "colab": {},
        "outputId": "7933a996-ca93-4cdf-ce0b-312c9dac567e"
      },
      "source": [
        "print(a,b,c)"
      ],
      "execution_count": 0,
      "outputs": [
        {
          "output_type": "stream",
          "text": [
            "1 2 5\n"
          ],
          "name": "stdout"
        }
      ]
    },
    {
      "cell_type": "code",
      "metadata": {
        "id": "zAbprtkeJS4X",
        "colab_type": "code",
        "colab": {},
        "outputId": "2d0b2a22-5a34-4eb4-a55b-c7441add4a3b"
      },
      "source": [
        "list1"
      ],
      "execution_count": 0,
      "outputs": [
        {
          "output_type": "execute_result",
          "data": {
            "text/plain": [
              "[1, 2, 3, 4, 5, 6, 7, 8, 9, 10]"
            ]
          },
          "metadata": {
            "tags": []
          },
          "execution_count": 36
        }
      ]
    },
    {
      "cell_type": "code",
      "metadata": {
        "id": "fspf6RfiJS4o",
        "colab_type": "code",
        "colab": {},
        "outputId": "da3acec9-030b-4aae-b4c0-7f1dec3579b6"
      },
      "source": [
        "l=filter(lambda x: x%4==0,list1)\n",
        "list(l)"
      ],
      "execution_count": 0,
      "outputs": [
        {
          "output_type": "execute_result",
          "data": {
            "text/plain": [
              "[4, 8, 12, 16, 20, 24, 28, 32, 36, 40]"
            ]
          },
          "metadata": {
            "tags": []
          },
          "execution_count": 5
        }
      ]
    },
    {
      "cell_type": "code",
      "metadata": {
        "id": "zKMp5nq0JS4t",
        "colab_type": "code",
        "colab": {},
        "outputId": "cc246c15-17b1-489c-a35e-d176f21770db"
      },
      "source": [
        "list1 = [1,2,3,4,5]\n",
        "m = 1\n",
        "for i in list1:\n",
        "    m *= i\n",
        "print(m)    "
      ],
      "execution_count": 0,
      "outputs": [
        {
          "output_type": "stream",
          "text": [
            "120\n"
          ],
          "name": "stdout"
        }
      ]
    },
    {
      "cell_type": "code",
      "metadata": {
        "id": "RG85hyeCJS4y",
        "colab_type": "code",
        "colab": {}
      },
      "source": [
        "cthheappinna ardham kaadu neeeku"
      ],
      "execution_count": 0,
      "outputs": []
    }
  ]
}